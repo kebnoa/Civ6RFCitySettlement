{
 "cells": [
  {
   "cell_type": "markdown",
   "metadata": {},
   "source": [
    "# Convert Json Schema ver 03 captured data to Sqlite3\n",
    "Still a bit trail and error, but the Json format is fixed enough to start working on full file conversion and upload into the Sqlite database."
   ]
  },
  {
   "cell_type": "code",
   "execution_count": 1,
   "metadata": {},
   "outputs": [],
   "source": [
    "from datetime import datetime\n",
    "import json\n",
    "import sqlite3\n",
    "import pandas as pd"
   ]
  },
  {
   "cell_type": "code",
   "execution_count": null,
   "metadata": {},
   "outputs": [],
   "source": [
    "#sqlSchemaInitialisation = open('RawData/developmentSchema03.sql', encoding='utf8').read()\n",
    "##print(sqlSchemaInitialisation)\n",
    "#cnx = sqlite3.connect(\":memory:\")\n",
    "#cur = cnx.cursor()\n",
    "#print(cnx)\n",
    "#print(cur)\n",
    "#cur.executescript(sqlSchemaInitialisation)"
   ]
  },
  {
   "cell_type": "code",
   "execution_count": 2,
   "metadata": {},
   "outputs": [],
   "source": [
    "def getKnownLeaders(cnx):\n",
    "    cur = cnx.cursor()\n",
    "    sqlSelect = 'SELECT leaderId, name, civ FROM leader'\n",
    "    return pd.read_sql_query(sqlSelect, cnx)\n",
    "\n",
    "def getLeaderId(name, civ, knownLeaders):\n",
    "    try:\n",
    "        # The iloc is neccessary as we can't assume there is only one return value!?\n",
    "        # also have to make sure it is int as numpy.int64 doesn't go into sqlite so well?\n",
    "        return int(knownLeaders[(knownLeaders.name == name) & (knownLeaders.civ == civ)].iloc[0].leaderId)\n",
    "    except IndexError:\n",
    "        return None"
   ]
  },
  {
   "cell_type": "code",
   "execution_count": 3,
   "metadata": {},
   "outputs": [],
   "source": [
    "# Without the encoding the json gets mangled for non-ASCII characters\n",
    "jsonData = open('RawData/20181129_01.json', encoding='utf8').read()"
   ]
  },
  {
   "cell_type": "code",
   "execution_count": 4,
   "metadata": {},
   "outputs": [],
   "source": [
    "rawData = json.loads(jsonData)"
   ]
  },
  {
   "cell_type": "code",
   "execution_count": 5,
   "metadata": {
    "scrolled": true
   },
   "outputs": [
    {
     "name": "stdout",
     "output_type": "stream",
     "text": [
      "<sqlite3.Connection object at 0x00000263C91A5110>\n",
      "<sqlite3.Cursor object at 0x00000263C917AB20>\n"
     ]
    }
   ],
   "source": [
    "cnx = sqlite3.connect('Database/Civ6CitySettledData.db')\n",
    "cur = cnx.cursor()\n",
    "print(cnx)\n",
    "print(cur)"
   ]
  },
  {
   "cell_type": "markdown",
   "metadata": {},
   "source": [
    "## Populate the game table"
   ]
  },
  {
   "cell_type": "code",
   "execution_count": 6,
   "metadata": {},
   "outputs": [
    {
     "name": "stdout",
     "output_type": "stream",
     "text": [
      "{'startEra': 'Ancient Era', 'mapSize': 'Small', 'leaderCiv': 'Aztec', 'leaderName': 'Montezuma', 'ruleSet': 'Expansion: Rise and Fall', 'date': '20181129', 'leaders': [{'leaderCiv': 'Aztec', 'leaderName': 'Montezuma', 'isMajor': True, 'isHuman': True}, {'leaderCiv': 'Indonesia', 'leaderName': 'Gitarja', 'isMajor': True, 'isHuman': False}, {'leaderCiv': 'Netherlands', 'leaderName': 'Wilhelmina', 'isMajor': True, 'isHuman': False}, {'leaderCiv': 'Rome', 'leaderName': 'Trajan', 'isMajor': True, 'isHuman': False}, {'leaderCiv': 'Arabia', 'leaderName': 'Saladin', 'isMajor': True, 'isHuman': False}, {'leaderCiv': 'Mongolia', 'leaderName': 'Genghis Khan', 'isMajor': True, 'isHuman': False}, {'leaderCiv': 'Antananarivo', 'leaderName': 'Antananarivo', 'isMajor': False, 'isHuman': False}, {'leaderCiv': 'Valletta', 'leaderName': 'Valletta', 'isMajor': False, 'isHuman': False}, {'leaderCiv': 'Muscat', 'leaderName': 'Muscat', 'isMajor': False, 'isHuman': False}, {'leaderCiv': 'Hong Kong', 'leaderName': 'Hong Kong', 'isMajor': False, 'isHuman': False}, {'leaderCiv': 'Hattusa', 'leaderName': 'Hattusa', 'isMajor': False, 'isHuman': False}, {'leaderCiv': 'Jerusalem', 'leaderName': 'Jerusalem', 'isMajor': False, 'isHuman': False}, {'leaderCiv': 'Brussels', 'leaderName': 'Brussels', 'isMajor': False, 'isHuman': False}, {'leaderCiv': 'Kandy', 'leaderName': 'Kandy', 'isMajor': False, 'isHuman': False}, {'leaderCiv': 'Bandar Brunei', 'leaderName': 'Bandar Brunei', 'isMajor': False, 'isHuman': False}], 'gameSpeed': 'Standard', 'difficulty': 'Prince'}\n",
      "<class 'dict'>\n"
     ]
    }
   ],
   "source": [
    "# Python creates a list by default, we know we only have 1 so select first element only!\n",
    "gameData = rawData['gameConfig'][0]\n",
    "print(gameData)\n",
    "print(type(gameData))"
   ]
  },
  {
   "cell_type": "code",
   "execution_count": 7,
   "metadata": {},
   "outputs": [
    {
     "name": "stdout",
     "output_type": "stream",
     "text": [
      "{'gameId': None, 'date': datetime.date(2018, 11, 29), 'difficulty': 'Prince', 'mapType': 'Continents', 'mapSize': 'Small', 'gameSpeed': 'Standard', 'startEra': 'Ancient Era', 'ruleSet': 'Expansion: Rise and Fall'}\n"
     ]
    }
   ],
   "source": [
    "#dateString = rawData['date']\n",
    "#date = datetime.strptime(dateString, '%Y%m%d').date()\n",
    "game = {\n",
    "    'gameId': None,\n",
    "    'date': datetime.strptime(gameData['date'], '%Y%m%d').date(),\n",
    "    'difficulty': gameData['difficulty'],\n",
    "    'mapType': 'Continents',\n",
    "    'mapSize': gameData['mapSize'],\n",
    "    'gameSpeed': gameData['gameSpeed'],\n",
    "    'startEra': gameData['startEra'],\n",
    "    'ruleSet': gameData['ruleSet'],\n",
    "}\n",
    "print(game)"
   ]
  },
  {
   "cell_type": "code",
   "execution_count": 8,
   "metadata": {},
   "outputs": [
    {
     "name": "stdout",
     "output_type": "stream",
     "text": [
      "gameID:  6\n"
     ]
    }
   ],
   "source": [
    "cur.execute('INSERT INTO game VALUES(:gameId, :date, :difficulty, :mapType, :mapSize, :gameSpeed, :startEra, :ruleSet)',\n",
    "    game)\n",
    "gameId = cur.lastrowid\n",
    "print(\"gameID: \", gameId)"
   ]
  },
  {
   "cell_type": "code",
   "execution_count": 9,
   "metadata": {},
   "outputs": [],
   "source": [
    "cnx.commit()"
   ]
  },
  {
   "cell_type": "markdown",
   "metadata": {},
   "source": [
    "## Add \"new\" leaders to the leader table.\n",
    "The leader table is a list of all the leaders we've captured data for, regardless of when they were first seen. We record the relationship between a specific game/instance with the leaders in the gameLeader table."
   ]
  },
  {
   "cell_type": "code",
   "execution_count": 10,
   "metadata": {},
   "outputs": [
    {
     "name": "stdout",
     "output_type": "stream",
     "text": [
      "    leaderId                  name            civ\n",
      "0          7             Amanitore          Nubia\n",
      "1         35               Antioch        Antioch\n",
      "2         14                Armagh         Armagh\n",
      "3         28              Auckland       Auckland\n",
      "4          4               Babylon        Babylon\n",
      "5          3         Bandar Brunei  Bandar Brunei\n",
      "6         13              Brussels       Brussels\n",
      "7         47          Buenos Aires   Buenos Aires\n",
      "8         48              Carthage       Carthage\n",
      "9         11   Catherine de Medici         France\n",
      "10        22             Cleopatra          Egypt\n",
      "11        26                 Cyrus         Persia\n",
      "12        51  Frederick Barbarossa        Germany\n",
      "13        12                Geneva         Geneva\n",
      "14        21          Genghis Khan       Mongolia\n",
      "15         1             Gilgamesh        Sumeria\n",
      "16        20               Gitarja      Indonesia\n",
      "17        45               Granada        Granada\n",
      "18        24       Harald Hardrada         Norway\n",
      "19        36               Hattusa        Hattusa\n",
      "20         5             Hong Kong      Hong Kong\n",
      "21         6               Jadwiga         Poland\n",
      "22        30             Jerusalem      Jerusalem\n",
      "23        16                 Kabul          Kabul\n",
      "24        34                 Kandy          Kandy\n",
      "25        52                Kumasi         Kumasi\n",
      "26        18              La Venta       La Venta\n",
      "27        43               Lautaro        Mapuche\n",
      "28        17                Lisbon         Lisbon\n",
      "29        19          Mohenjo-Daro   Mohenjo-Daro\n",
      "30         2             Montezuma          Aztec\n",
      "31        33                Muscat         Muscat\n",
      "32        40       Mvemba a Nzinga          Kongo\n",
      "33        29             Nan Madol      Nan Madol\n",
      "34        39              Pericles         Greece\n",
      "35        10                 Peter         Russia\n",
      "36        49             Philip II          Spain\n",
      "37        42            Poundmaker           Cree\n",
      "38        31               Preslav        Preslav\n",
      "39         9      Robert the Bruce       Scotland\n",
      "40        50               Saladin         Arabia\n",
      "41        23              Seondeok          Korea\n",
      "42        41                 Shaka           Zulu\n",
      "43        15             Stockholm      Stockholm\n",
      "44        38       Teddy Roosevelt        America\n",
      "45        27               Tomyris        Scythia\n",
      "46        53               Toronto        Toronto\n",
      "47        25                Trajan           Rome\n",
      "48        46              Valletta       Valletta\n",
      "49        44               Vilnius        Vilnius\n",
      "50         8            Wilhelmina    Netherlands\n",
      "51        37               Yerevan        Yerevan\n",
      "52        32              Zanzibar       Zanzibar\n"
     ]
    }
   ],
   "source": [
    "knownLeaders = getKnownLeaders(cnx)\n",
    "print(knownLeaders)"
   ]
  },
  {
   "cell_type": "code",
   "execution_count": 11,
   "metadata": {},
   "outputs": [
    {
     "name": "stdout",
     "output_type": "stream",
     "text": [
      "{'leaderId': None, 'name': 'Antananarivo', 'civ': 'Antananarivo', 'isMajor': False}\n"
     ]
    }
   ],
   "source": [
    "result = []\n",
    "for leader in gameData['leaders']:\n",
    "    name = leader['leaderName']\n",
    "    civ = leader['leaderCiv']\n",
    "    leaderId = getLeaderId(name, civ, knownLeaders)\n",
    "    if leaderId is None:\n",
    "        newLeader = {\n",
    "            'leaderId': None,\n",
    "            'name': name,\n",
    "            'civ': civ,\n",
    "            'isMajor': leader['isMajor']\n",
    "        }\n",
    "        result.append(newLeader)\n",
    "\n",
    "for row in result:\n",
    "    print(row)"
   ]
  },
  {
   "cell_type": "code",
   "execution_count": 12,
   "metadata": {},
   "outputs": [],
   "source": [
    "for row in result:\n",
    "#    print(row)\n",
    "    cur.execute('INSERT INTO leader VALUES(:leaderId, :name, :civ, :isMajor)', row)"
   ]
  },
  {
   "cell_type": "code",
   "execution_count": 13,
   "metadata": {},
   "outputs": [],
   "source": [
    "cnx.commit()"
   ]
  },
  {
   "cell_type": "markdown",
   "metadata": {},
   "source": [
    "# Populate gameLeader table"
   ]
  },
  {
   "cell_type": "code",
   "execution_count": null,
   "metadata": {},
   "outputs": [],
   "source": [
    "#knownLeaders = getKnownLeaders(cnx)\n",
    "#print(knownLeaders)\n",
    "#humanLeaderName = gameData['leader']\n",
    "#print(humanLeaderName)\n",
    "#print(gameId)"
   ]
  },
  {
   "cell_type": "code",
   "execution_count": 14,
   "metadata": {},
   "outputs": [
    {
     "name": "stdout",
     "output_type": "stream",
     "text": [
      "{'gameId': 6, 'leaderId': 2, 'isHuman': True}\n",
      "{'gameId': 6, 'leaderId': 20, 'isHuman': False}\n",
      "{'gameId': 6, 'leaderId': 8, 'isHuman': False}\n",
      "{'gameId': 6, 'leaderId': 25, 'isHuman': False}\n",
      "{'gameId': 6, 'leaderId': 50, 'isHuman': False}\n",
      "{'gameId': 6, 'leaderId': 21, 'isHuman': False}\n",
      "{'gameId': 6, 'leaderId': 54, 'isHuman': False}\n",
      "{'gameId': 6, 'leaderId': 46, 'isHuman': False}\n",
      "{'gameId': 6, 'leaderId': 33, 'isHuman': False}\n",
      "{'gameId': 6, 'leaderId': 5, 'isHuman': False}\n",
      "{'gameId': 6, 'leaderId': 36, 'isHuman': False}\n",
      "{'gameId': 6, 'leaderId': 30, 'isHuman': False}\n",
      "{'gameId': 6, 'leaderId': 13, 'isHuman': False}\n",
      "{'gameId': 6, 'leaderId': 34, 'isHuman': False}\n",
      "{'gameId': 6, 'leaderId': 3, 'isHuman': False}\n"
     ]
    }
   ],
   "source": [
    "# Update knownLeaders to get the newly added one(s)\n",
    "knownLeaders = getKnownLeaders(cnx)\n",
    "result = []\n",
    "for leader in gameData['leaders']:\n",
    "    name = leader['leaderName']\n",
    "    civ = leader['leaderCiv']\n",
    "    leaderId = getLeaderId(name, civ, knownLeaders)\n",
    "    newGameLeader = {\n",
    "        'gameId': gameId,\n",
    "        'leaderId':leaderId,\n",
    "        'isHuman':leader['isHuman'],\n",
    "    }\n",
    "    result.append(newGameLeader)\n",
    "    \n",
    "for row in result:\n",
    "    print(row)"
   ]
  },
  {
   "cell_type": "code",
   "execution_count": 15,
   "metadata": {},
   "outputs": [],
   "source": [
    "for row in result:\n",
    "#    print(row)\n",
    "    cur.execute('INSERT INTO gameLeader VALUES(:gameId, :leaderId, :isHuman)', row)"
   ]
  },
  {
   "cell_type": "code",
   "execution_count": 16,
   "metadata": {},
   "outputs": [],
   "source": [
    "cnx.commit()"
   ]
  },
  {
   "cell_type": "markdown",
   "metadata": {},
   "source": [
    "# Populate citySettled and gameCity Tables"
   ]
  },
  {
   "cell_type": "code",
   "execution_count": 17,
   "metadata": {},
   "outputs": [
    {
     "name": "stdout",
     "output_type": "stream",
     "text": [
      "84 Tenochtitlan 2 Montezuma Aztec\n",
      "85 Cairo 50 Saladin Arabia\n",
      "86 Antananarivo 54 Antananarivo Antananarivo\n",
      "87 Valletta 46 Valletta Valletta\n",
      "88 Muscat 33 Muscat Muscat\n",
      "89 Hong Kong 5 Hong Kong Hong Kong\n",
      "90 Hattusa 36 Hattusa Hattusa\n",
      "91 Jerusalem 30 Jerusalem Jerusalem\n",
      "92 Brussels 13 Brussels Brussels\n",
      "93 Kandy 34 Kandy Kandy\n",
      "94 Bandar Brunei 3 Bandar Brunei Bandar Brunei\n",
      "95 Majapahit 20 Gitarja Indonesia\n",
      "96 Amsterdam 8 Wilhelmina Netherlands\n",
      "97 Qaraqorum 21 Genghis Khan Mongolia\n",
      "98 Rome 25 Trajan Rome\n"
     ]
    }
   ],
   "source": [
    "#knownLeaders = getKnownLeaders(cnx)\n",
    "citySettledLog = rawData['citySettledLog']\n",
    "#print(citySettledLog)\n",
    "for city in citySettledLog:\n",
    "    settledByName = city['ownerName']\n",
    "    settledByCiv = city['ownerCiv']\n",
    "    # Get the leaderId of the player settling the city\n",
    "    settledById = getLeaderId(settledByName, settledByCiv, knownLeaders)\n",
    "    cityName = city['cityName']\n",
    "\n",
    "    sqlInsert = \"INSERT INTO citySettledLog VALUES(:cityId, :name, :settledById, :onTurn)\"\n",
    "    parameters = {'cityId': None, 'name': cityName, 'settledById':settledById, 'onTurn':city['turn']}\n",
    "    cur.execute(sqlInsert, parameters)\n",
    "    cityId = cur.lastrowid\n",
    "    print(cityId, cityName, settledById, settledByName,  settledByCiv)\n",
    "    \n",
    "    sqlInsert = \"INSERT INTO gameCity VALUES(:gameId, :cityId)\"\n",
    "    parameters = {'gameId':gameId, 'cityId':cityId}\n",
    "    cur.execute(sqlInsert, parameters)"
   ]
  },
  {
   "cell_type": "code",
   "execution_count": null,
   "metadata": {},
   "outputs": [],
   "source": [
    "#cnx.rollback()"
   ]
  },
  {
   "cell_type": "code",
   "execution_count": 18,
   "metadata": {},
   "outputs": [],
   "source": [
    "cnx.commit()"
   ]
  },
  {
   "cell_type": "markdown",
   "metadata": {},
   "source": [
    "## Populate cityPlotsSettled"
   ]
  },
  {
   "cell_type": "code",
   "execution_count": 19,
   "metadata": {},
   "outputs": [
    {
     "name": "stdout",
     "output_type": "stream",
     "text": [
      "    gameId  cityId       cityName     leaderName  leaderId      leaderCiv  \\\n",
      "0        6      84   Tenochtitlan      Montezuma         2          Aztec   \n",
      "1        6      85          Cairo        Saladin        50         Arabia   \n",
      "2        6      86   Antananarivo   Antananarivo        54   Antananarivo   \n",
      "3        6      87       Valletta       Valletta        46       Valletta   \n",
      "4        6      88         Muscat         Muscat        33         Muscat   \n",
      "5        6      89      Hong Kong      Hong Kong         5      Hong Kong   \n",
      "6        6      90        Hattusa        Hattusa        36        Hattusa   \n",
      "7        6      91      Jerusalem      Jerusalem        30      Jerusalem   \n",
      "8        6      92       Brussels       Brussels        13       Brussels   \n",
      "9        6      93          Kandy          Kandy        34          Kandy   \n",
      "10       6      94  Bandar Brunei  Bandar Brunei         3  Bandar Brunei   \n",
      "11       6      95      Majapahit        Gitarja        20      Indonesia   \n",
      "12       6      96      Amsterdam     Wilhelmina         8    Netherlands   \n",
      "13       6      97      Qaraqorum   Genghis Khan        21       Mongolia   \n",
      "14       6      98           Rome         Trajan        25           Rome   \n",
      "\n",
      "    isMajorLeader  isHumanLeader  onTurn  \n",
      "0               1              1       1  \n",
      "1               1              0       1  \n",
      "2               0              0       1  \n",
      "3               0              0       1  \n",
      "4               0              0       1  \n",
      "5               0              0       1  \n",
      "6               0              0       1  \n",
      "7               0              0       1  \n",
      "8               0              0       1  \n",
      "9               0              0       1  \n",
      "10              0              0       1  \n",
      "11              1              0       2  \n",
      "12              1              0       2  \n",
      "13              1              0       2  \n",
      "14              1              0       3  \n"
     ]
    }
   ],
   "source": [
    "sqlSelect = 'SELECT * FROM gameCityLeaderSettledView WHERE gameId = :gameId'\n",
    "gameCLS = pd.read_sql_query(sqlSelect, cnx, params={'gameId':gameId})\n",
    "print(gameCLS)"
   ]
  },
  {
   "cell_type": "code",
   "execution_count": null,
   "metadata": {},
   "outputs": [],
   "source": [
    "# Testing, can safely ignore this!\n",
    "#ownerCityId = int(gameCLS[gameCLS.cityName == 'Amsterdam'].iloc[0].cityId)\n",
    "#print(ownerCityId)\n",
    "#print(type(ownerCityId))"
   ]
  },
  {
   "cell_type": "code",
   "execution_count": 20,
   "metadata": {},
   "outputs": [
    {
     "name": "stdout",
     "output_type": "stream",
     "text": [
      "{'plotId': None, 'ownerCityId': 84, 'ring': 0, 'terrain': 'Plains', 'feature': 'None', 'resource': 'None', 'resourceCount': 0, 'resourceType': 'None', 'workers': 1, 'district': 'City Center', 'hasRiver': True, 'isWater': False, 'isLake': False, 'isCity': True}\n",
      "{'plotId': None, 'ownerCityId': 84, 'ring': 1, 'terrain': 'Coast and Lake', 'feature': 'None', 'resource': 'Fish', 'resourceCount': 1, 'resourceType': 'Bonus', 'workers': 0, 'district': 'None', 'hasRiver': False, 'isWater': True, 'isLake': False, 'isCity': False}\n",
      "{'plotId': None, 'ownerCityId': 84, 'ring': 1, 'terrain': 'Coast and Lake', 'feature': 'None', 'resource': 'Crabs', 'resourceCount': 1, 'resourceType': 'Bonus', 'workers': 0, 'district': 'None', 'hasRiver': False, 'isWater': True, 'isLake': False, 'isCity': False}\n"
     ]
    }
   ],
   "source": [
    "# building up the cityPlotsSettled data for entry...\n",
    "result = []\n",
    "for city in rawData['citySettledLog']:\n",
    "    for plot in city['plots']:\n",
    "        try:\n",
    "            ownerCityId = int(gameCLS[gameCLS.cityName == plot['ownerCity']].iloc[0].cityId)\n",
    "        except IndexError:\n",
    "            ownerCityId = None\n",
    "        plotInfo = {\n",
    "            'plotId': None,\n",
    "            'ownerCityId': ownerCityId,\n",
    "            'ring': plot['r'],\n",
    "            'terrain': plot['terrain'],\n",
    "            'feature': plot['feature'],\n",
    "            'resource': plot['resource'],\n",
    "            'resourceCount': plot['resourceCount'],\n",
    "            'resourceType': plot['resourceType'],\n",
    "            'workers': plot['workers'],\n",
    "            'district': plot['district'],\n",
    "            'hasRiver': plot['hasRiver'],\n",
    "            'isWater': plot['isWater'],\n",
    "            'isLake': plot['isLake'],\n",
    "            'isCity': plot['isCity'],\n",
    "        }\n",
    "        result.append(plotInfo)\n",
    "\n",
    "print(result[0])\n",
    "print(result[1])\n",
    "print(result[2])"
   ]
  },
  {
   "cell_type": "code",
   "execution_count": 21,
   "metadata": {},
   "outputs": [],
   "source": [
    "for row in result:\n",
    "    cur.execute('INSERT INTO cityPlotsSettled VALUES(:plotId, :ownerCityId, :ring, :terrain, :feature, :resource, :resourceCount, :resourceType, :workers, :district, :hasRiver, :isWater, :isLake, :isCity )',\n",
    "                row)"
   ]
  },
  {
   "cell_type": "code",
   "execution_count": null,
   "metadata": {},
   "outputs": [],
   "source": [
    "#cnx.rollback()"
   ]
  },
  {
   "cell_type": "code",
   "execution_count": 22,
   "metadata": {},
   "outputs": [],
   "source": [
    "cnx.commit()"
   ]
  },
  {
   "cell_type": "markdown",
   "metadata": {},
   "source": [
    "## Populate cityPerTurnLog"
   ]
  },
  {
   "cell_type": "code",
   "execution_count": 23,
   "metadata": {},
   "outputs": [],
   "source": [
    "def getCityId(cityName):\n",
    "    try:\n",
    "        # The iloc is neccessary as we can't assume there is only one return value!?\n",
    "        # also have to make sure it is int as numpy.int64 doesn't go into sqlite so well?\n",
    "        return int(gameCLS[gameCLS.cityName == cityName].iloc[0].cityId)\n",
    "    except IndexError:\n",
    "        return None\n",
    "    \n",
    "def getLeaderId(ownerName, ownerCiv):\n",
    "    try:\n",
    "        # The iloc is necessary as we can't assume there is only one return value!?\n",
    "        # also have to make sure it is int as numpy.int64 doesn't go into sqlite so well?\n",
    "        return int(gameCLS[(gameCLS.leaderName  == ownerName) & (gameCLS.leaderCiv == ownerCiv)].iloc[0].leaderId)\n",
    "    except IndexError:\n",
    "        return None"
   ]
  },
  {
   "cell_type": "code",
   "execution_count": 24,
   "metadata": {},
   "outputs": [
    {
     "name": "stdout",
     "output_type": "stream",
     "text": [
      "{'cityId': 84, 'turn': 1, 'ownerId': 2, 'foodPerTurn': '3.00', 'foodToolTip': '+3 from Worked Tiles', 'productionPerTurn': '5.25', 'productionToolTip': '+3 from Worked Tiles[NEWLINE]+2 from Buildings[NEWLINE]   +2 from Palace[NEWLINE]+5pct (+0.2) from Amenities', 'goldPerTurn': '5.25', 'goldToolTip': '+5 from Buildings[NEWLINE]   +5 from Palace[NEWLINE]+5pct (+0.2) from Amenities', 'sciencePerTurn': '2.63', 'scienceToolTip': '+2 from Buildings[NEWLINE]   +2 from Palace[NEWLINE]+0.5 from Population[NEWLINE]+5pct (+0.1) from Amenities', 'culturePerTurn': '1.36', 'cultureToolTip': '+1 from Buildings[NEWLINE]   +1 from Palace[NEWLINE]+0.2 from Population[NEWLINE]+5pct (+0) from Amenities', 'faithPerTurn': '0.00', 'faithToolTip': '+5pct (+0) from Amenities', 'population': 1, 'housing': 6, 'amenities': 1, 'amenitiesNeeded': 0, 'happiness': 'Happy'}\n",
      "{'cityId': 85, 'turn': 1, 'ownerId': 50, 'foodPerTurn': '4.00', 'foodToolTip': '+4 from Worked Tiles', 'productionPerTurn': '6.25', 'productionToolTip': '+3 from Worked Tiles[NEWLINE]+2 from Buildings[NEWLINE]   +2 from Palace[NEWLINE]+20pct (+1) from Modifiers[NEWLINE]+5pct (+0.2) from Amenities', 'goldPerTurn': '6.25', 'goldToolTip': '+5 from Buildings[NEWLINE]   +5 from Palace[NEWLINE]+20pct (+1) from Modifiers[NEWLINE]+5pct (+0.2) from Amenities', 'sciencePerTurn': '2.82', 'scienceToolTip': '+2 from Buildings[NEWLINE]   +2 from Palace[NEWLINE]+0.5 from Population[NEWLINE]+8pct (+0.1) from Modifiers[NEWLINE]+5pct (+0.1) from Amenities', 'culturePerTurn': '1.46', 'cultureToolTip': '+1 from Buildings[NEWLINE]   +1 from Palace[NEWLINE]+0.2 from Population[NEWLINE]+8pct (+0.1) from Modifiers[NEWLINE]+5pct (+0) from Amenities', 'faithPerTurn': '0.00', 'faithToolTip': '+8pct (+0) from Modifiers[NEWLINE]+5pct (+0) from Amenities', 'population': 1, 'housing': 6, 'amenities': 1, 'amenitiesNeeded': 0, 'happiness': 'Happy'}\n",
      "{'cityId': 94, 'turn': 54, 'ownerId': 3, 'foodPerTurn': '7.00', 'foodToolTip': '+6 from Worked Tiles[NEWLINE]+1 from Buildings[NEWLINE]   +1 from Granary', 'productionPerTurn': '6.05', 'productionToolTip': '+9 from Worked Tiles[NEWLINE]+2 from Buildings[NEWLINE]   +2 from Palace[NEWLINE]-50pct (-5.5) from Modifiers[NEWLINE]+5pct (+0.5) from Amenities', 'goldPerTurn': '9.45', 'goldToolTip': '+4 from Worked Tiles[NEWLINE]+5 from Buildings[NEWLINE]   +5 from Palace[NEWLINE]+5pct (+0.4) from Amenities', 'sciencePerTurn': '3.67', 'scienceToolTip': '+2 from Buildings[NEWLINE]   +2 from Palace[NEWLINE]+1.5 from Population[NEWLINE]+5pct (+0.1) from Amenities', 'culturePerTurn': '4.09', 'cultureToolTip': '+2 from Buildings[NEWLINE]   +1 from Monument[NEWLINE]   +1 from Palace[NEWLINE]+0.8 from Population[NEWLINE]+1 from Modifiers[NEWLINE]+5pct (+0.1) from Amenities', 'faithPerTurn': '0.00', 'faithToolTip': '+5pct (+0) from Amenities', 'population': 3, 'housing': 9, 'amenities': 2, 'amenitiesNeeded': 1, 'happiness': 'Happy'}\n"
     ]
    }
   ],
   "source": [
    "# building up the cityPerTurnLog data for entry...\n",
    "result = []\n",
    "for logEntry in rawData['cityPerTurnLog']:\n",
    "    turnInfo = {\n",
    "        'cityId': getCityId(logEntry['cityName']),\n",
    "        'turn': int(logEntry['turn']),\n",
    "        'ownerId': getLeaderId(logEntry['ownerName'], logEntry['ownerCiv']),\n",
    "        'foodPerTurn': logEntry['foodPerTurn'],\n",
    "        'foodToolTip': logEntry['foodToolTip'],\n",
    "        'productionPerTurn': logEntry['productionPerTurn'],\n",
    "        'productionToolTip': logEntry['productionToolTip'],\n",
    "        'goldPerTurn': logEntry['goldPerTurn'],\n",
    "        'goldToolTip': logEntry['goldToolTip'],\n",
    "        'sciencePerTurn': logEntry['sciencePerTurn'],\n",
    "        'scienceToolTip': logEntry['scienceToolTip'],\n",
    "        'culturePerTurn': logEntry['culturePerTurn'],\n",
    "        'cultureToolTip': logEntry['cultureToolTip'],\n",
    "        'faithPerTurn': logEntry['faithPerTurn'],\n",
    "        'faithToolTip': logEntry['faithToolTip'],\n",
    "        'population': logEntry['population'],\n",
    "        'housing': logEntry['housing'],\n",
    "        'amenities': logEntry['amenities'],\n",
    "        'amenitiesNeeded': logEntry['amenitiesNeeded'],\n",
    "        'happiness': logEntry['happiness'],\n",
    "    }\n",
    "#    print(logEntry['ownerName'], logEntry['ownerCiv'], getLeaderId(logEntry['ownerName'], logEntry['ownerCiv']))\n",
    "    result.append(turnInfo)\n",
    "\n",
    "print(result[0])\n",
    "print(result[1])\n",
    "print(result[-1])"
   ]
  },
  {
   "cell_type": "code",
   "execution_count": 25,
   "metadata": {},
   "outputs": [],
   "source": [
    "for row in result:\n",
    "    cur.execute('INSERT INTO cityPerTurnLog VALUES(:cityId, :turn, :ownerId, :foodPerTurn, :foodToolTip, :productionPerTurn, :productionToolTip, :goldPerTurn, :goldToolTip, :sciencePerTurn, :scienceToolTip, :culturePerTurn, :cultureToolTip, :faithPerTurn, :faithToolTip, :population, :housing, :amenities, :amenitiesNeeded, :happiness)',\n",
    "                row)"
   ]
  },
  {
   "cell_type": "code",
   "execution_count": null,
   "metadata": {},
   "outputs": [],
   "source": []
  },
  {
   "cell_type": "code",
   "execution_count": null,
   "metadata": {},
   "outputs": [],
   "source": [
    "cnx.rollback()"
   ]
  },
  {
   "cell_type": "code",
   "execution_count": 26,
   "metadata": {},
   "outputs": [],
   "source": [
    "cnx.commit()"
   ]
  },
  {
   "cell_type": "code",
   "execution_count": 27,
   "metadata": {},
   "outputs": [],
   "source": [
    "cnx.close()"
   ]
  },
  {
   "cell_type": "code",
   "execution_count": null,
   "metadata": {},
   "outputs": [],
   "source": []
  }
 ],
 "metadata": {
  "kernelspec": {
   "display_name": "Python 3",
   "language": "python",
   "name": "python3"
  },
  "language_info": {
   "codemirror_mode": {
    "name": "ipython",
    "version": 3
   },
   "file_extension": ".py",
   "mimetype": "text/x-python",
   "name": "python",
   "nbconvert_exporter": "python",
   "pygments_lexer": "ipython3",
   "version": "3.7.0"
  }
 },
 "nbformat": 4,
 "nbformat_minor": 2
}
