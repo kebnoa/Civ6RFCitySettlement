{
 "cells": [
  {
   "cell_type": "code",
   "execution_count": 1,
   "metadata": {},
   "outputs": [],
   "source": [
    "import pandas as pd\n",
    "import numpy as np\n",
    "from sklearn.feature_selection import SelectKBest\n",
    "from sklearn.feature_selection import chi2"
   ]
  },
  {
   "cell_type": "code",
   "execution_count": 2,
   "metadata": {},
   "outputs": [
    {
     "name": "stdout",
     "output_type": "stream",
     "text": [
      "Training features: (263, 36)\n",
      "Training labels: (263, 13)\n",
      "Combined: (263, 48)\n"
     ]
    }
   ],
   "source": [
    "trainingFeaturesFilename = 'ModelInput/features.csv'\n",
    "trainingLabelsFilename = 'ModelInput/labels.csv'\n",
    "\n",
    "trainingFeatures = pd.read_csv(trainingFeaturesFilename)\n",
    "trainingLabels = pd.read_csv(trainingLabelsFilename)\n",
    "\n",
    "# For classification this isn't necessary!\n",
    "#trainingFeatures['cityHasRiver'] = trainingFeatures['cityHasRiver'].astype('category')\n",
    "\n",
    "print(\"Training features: {}\".format(trainingFeatures.shape))\n",
    "print(\"Training labels: {}\".format(trainingLabels.shape))\n",
    "\n",
    "tempDF = pd.merge(trainingFeatures, trainingLabels, on='cityId', how='inner')\n",
    "print(\"Combined: {}\".format(tempDF.shape))"
   ]
  },
  {
   "cell_type": "code",
   "execution_count": 4,
   "metadata": {},
   "outputs": [
    {
     "name": "stdout",
     "output_type": "stream",
     "text": [
      "(263, 34)\n",
      "[0. 1. 0. 0. 0. 0. 0. 0. 1. 0. 0. 0. 0. 0. 0. 0. 0. 0. 1. 1. 1. 0. 1. 1.\n",
      " 1. 0. 0. 0. 1. 0. 0. 0. 0. 0. 0. 0. 0. 0. 0. 0. 0. 0. 0. 0. 0. 0. 0. 0.\n",
      " 0. 0. 1. 1. 0. 1. 0. 0. 0. 0. 0. 0. 0. 0. 0. 0. 0. 0. 1. 1. 1. 1. 1. 0.\n",
      " 0. 0. 0. 0. 0. 0. 0. 0. 0. 1. 1. 1. 0. 1. 0. 0. 0. 0. 0. 0. 0. 0. 0. 1.\n",
      " 0. 1. 1. 0. 1. 0. 0. 0. 0. 0. 0. 0. 0. 0. 1. 0. 1. 1. 0. 0. 1. 0. 0. 0.\n",
      " 0. 0. 0. 0. 0. 0. 0. 0. 1. 0. 1. 1. 1. 0. 0. 0. 0. 0. 0. 0. 0. 0. 1. 1.\n",
      " 1. 1. 0. 1. 0. 0. 0. 0. 0. 0. 0. 0. 0. 1. 1. 0. 0. 1. 0. 0. 0. 0. 0. 0.\n",
      " 0. 0. 0. 1. 1. 1. 0. 0. 1. 0. 0. 0. 0. 0. 0. 0. 0. 0. 1. 1. 1. 0. 1. 0.\n",
      " 1. 0. 0. 0. 0. 0. 0. 0. 0. 0. 0. 1. 1. 1. 0. 0. 1. 0. 0. 0. 0. 0. 0. 1.\n",
      " 0. 0. 0. 1. 1. 0. 0. 0. 0. 0. 0. 0. 0. 0. 0. 1. 0. 1. 1. 1. 1. 0. 0. 0.\n",
      " 0. 0. 0. 0. 0. 0. 0. 1. 0. 1. 0. 0. 0. 0. 0. 0. 0. 0. 0. 0. 0. 0. 1.]\n"
     ]
    }
   ],
   "source": [
    "# Start at 2nd column, i.e. exclude country_code\n",
    "X = pd.get_dummies(trainingFeatures.iloc[:,2:len(trainingFeatures)])\n",
    "y = tempDF['cityScore'].values\n",
    "print(X.shape)\n",
    "#print(type(X))\n",
    "print(y)"
   ]
  },
  {
   "cell_type": "code",
   "execution_count": 5,
   "metadata": {},
   "outputs": [],
   "source": [
    "# feature extraction\n",
    "test = SelectKBest(score_func=chi2, k=6)\n",
    "fit = test.fit(X, y)"
   ]
  },
  {
   "cell_type": "code",
   "execution_count": 6,
   "metadata": {},
   "outputs": [
    {
     "name": "stdout",
     "output_type": "stream",
     "text": [
      "         17        8        11        33        7         2         6   \\\n",
      "0  2.444793  1.553785  1.36616  1.250376  1.152826  1.073487  0.976894   \n",
      "\n",
      "         9         14        32    ...           0         13        28  \\\n",
      "0  0.614278  0.579996  0.552602    ...     0.035247  0.029845  0.027257   \n",
      "\n",
      "         19        31        16        25       5         4         18  \n",
      "0  0.022131  0.019477  0.017268  0.011005  0.00355  0.000472  0.000236  \n",
      "\n",
      "[1 rows x 34 columns]\n",
      "[[0.316 0.053 0.    0.    0.    1.   ]\n",
      " [0.105 0.    0.158 0.053 0.    1.   ]\n",
      " [0.316 0.263 0.    0.    0.    1.   ]\n",
      " ...\n",
      " [0.053 0.105 0.    0.368 0.    1.   ]\n",
      " [0.105 0.21  0.    0.053 0.    0.   ]\n",
      " [0.    0.526 0.    0.    0.105 1.   ]]\n"
     ]
    }
   ],
   "source": [
    "np.set_printoptions(precision=3, suppress=True)\n",
    "df = pd.DataFrame(fit.scores_)\n",
    "#print(fit.scores_)\n",
    "print(df.sort_values(by=0, ascending=False).T)\n",
    "features = fit.transform(X)\n",
    "print(features)"
   ]
  },
  {
   "cell_type": "code",
   "execution_count": 7,
   "metadata": {},
   "outputs": [
    {
     "name": "stdout",
     "output_type": "stream",
     "text": [
      "Index(['GrasslandHillsWoods', 'CoastLake', 'Desert', 'cityHasRiver',\n",
      "       'Grassland', 'Plains', 'PlainsHillsRainforest'],\n",
      "      dtype='object')\n",
      "<bound method NDFrame.head of      GrasslandHillsWoods  CoastLake  Desert  cityHasRiver  Grassland  Plains  \\\n",
      "0                 0.0000     0.0000  0.0000             1     0.0526  0.3158   \n",
      "1                 0.0000     0.1579  0.0526             1     0.0000  0.1053   \n",
      "2                 0.0000     0.0000  0.0000             1     0.2632  0.3158   \n",
      "3                 0.0000     0.3158  0.0000             0     0.0000  0.2105   \n",
      "4                 0.0526     0.0000  0.0000             1     0.3684  0.0000   \n",
      "5                 0.0526     0.0000  0.0000             1     0.6842  0.0000   \n",
      "6                 0.0000     0.1053  0.0000             1     0.0000  0.2632   \n",
      "7                 0.0000     0.2105  0.0000             1     0.2632  0.1053   \n",
      "8                 0.0000     0.0000  0.0000             1     0.0526  0.2105   \n",
      "9                 0.0000     0.0000  0.1053             1     0.2105  0.1053   \n",
      "10                0.0526     0.0000  0.0000             1     0.0000  0.2105   \n",
      "11                0.0000     0.0000  0.0000             1     0.1579  0.3158   \n",
      "12                0.0000     0.3158  0.1053             1     0.0000  0.1053   \n",
      "13                0.0000     0.3158  0.0000             1     0.1579  0.2105   \n",
      "14                0.0000     0.2632  0.0000             1     0.0526  0.1579   \n",
      "15                0.0000     0.0000  0.1579             1     0.1053  0.0526   \n",
      "16                0.0000     0.2105  0.0000             0     0.3158  0.0000   \n",
      "17                0.0526     0.1053  0.0000             1     0.5789  0.0526   \n",
      "18                0.0000     0.0000  0.1053             1     0.5789  0.0000   \n",
      "19                0.0526     0.2632  0.0000             0     0.0526  0.0000   \n",
      "20                0.1053     0.3684  0.0000             1     0.0000  0.0000   \n",
      "21                0.0000     0.0000  0.0000             1     0.0000  0.3684   \n",
      "22                0.0000     0.0000  0.0000             1     0.0000  0.3684   \n",
      "23                0.0000     0.2632  0.0526             0     0.0000  0.2632   \n",
      "24                0.0526     0.0000  0.0000             1     0.7895  0.0000   \n",
      "25                0.0000     0.0000  0.0000             1     0.7895  0.0000   \n",
      "26                0.0526     0.0000  0.0000             1     0.2632  0.1053   \n",
      "27                0.0000     0.0000  0.0000             1     0.0000  0.1579   \n",
      "28                0.0526     0.0000  0.0000             1     0.0000  0.0000   \n",
      "29                0.0000     0.0000  0.0000             1     0.1053  0.5789   \n",
      "..                   ...        ...     ...           ...        ...     ...   \n",
      "233               0.0000     0.0526  0.0000             1     0.2632  0.3684   \n",
      "234               0.1579     0.0000  0.0000             1     0.4737  0.0000   \n",
      "235               0.0526     0.0000  0.0000             1     0.2632  0.0000   \n",
      "236               0.0000     0.0000  0.0000             1     0.4211  0.1579   \n",
      "237               0.0000     0.1053  0.0000             1     0.0000  0.0526   \n",
      "238               0.0000     0.0000  0.1579             1     0.0000  0.1053   \n",
      "239               0.1053     0.0000  0.0000             1     0.0000  0.0526   \n",
      "240               0.0000     0.0526  0.0000             1     0.2632  0.0000   \n",
      "241               0.0000     0.0000  0.1053             1     0.2105  0.0526   \n",
      "242               0.0000     0.0526  0.0000             1     0.3684  0.2632   \n",
      "243               0.0000     0.0000  0.0000             1     0.1579  0.2105   \n",
      "244               0.0000     0.3158  0.0000             1     0.0000  0.0526   \n",
      "245               0.0526     0.0000  0.0000             1     0.4211  0.0526   \n",
      "246               0.0000     0.3684  0.0000             1     0.0000  0.1579   \n",
      "247               0.0526     0.0000  0.0000             1     0.6842  0.0000   \n",
      "248               0.0000     0.0000  0.0000             1     0.1053  0.5263   \n",
      "249               0.0526     0.0000  0.0000             1     0.3684  0.0000   \n",
      "250               0.0000     0.0000  0.0000             1     0.2632  0.2632   \n",
      "251               0.0000     0.1053  0.0526             1     0.0000  0.1053   \n",
      "252               0.0000     0.3684  0.0000             0     0.0000  0.3684   \n",
      "253               0.0000     0.1579  0.0000             1     0.1053  0.0000   \n",
      "254               0.1053     0.0000  0.0000             1     0.0526  0.0526   \n",
      "255               0.0000     0.0000  0.0000             1     0.1053  0.5263   \n",
      "256               0.0526     0.0000  0.1053             1     0.2632  0.0000   \n",
      "257               0.0526     0.0000  0.0000             1     0.5789  0.0000   \n",
      "258               0.0000     0.1053  0.0000             1     0.0000  0.1579   \n",
      "259               0.0000     0.0000  0.0000             1     0.0000  0.3158   \n",
      "260               0.0000     0.0000  0.3684             1     0.1053  0.0526   \n",
      "261               0.0000     0.0000  0.0526             0     0.2105  0.1053   \n",
      "262               0.1053     0.0000  0.0000             1     0.5263  0.0000   \n",
      "\n",
      "     PlainsHillsRainforest  \n",
      "0                   0.0526  \n",
      "1                   0.0000  \n",
      "2                   0.0000  \n",
      "3                   0.0000  \n",
      "4                   0.0000  \n",
      "5                   0.0000  \n",
      "6                   0.0000  \n",
      "7                   0.1053  \n",
      "8                   0.1579  \n",
      "9                   0.0000  \n",
      "10                  0.0000  \n",
      "11                  0.1053  \n",
      "12                  0.0000  \n",
      "13                  0.0000  \n",
      "14                  0.0526  \n",
      "15                  0.0000  \n",
      "16                  0.0000  \n",
      "17                  0.0000  \n",
      "18                  0.0000  \n",
      "19                  0.0000  \n",
      "20                  0.0000  \n",
      "21                  0.0000  \n",
      "22                  0.0000  \n",
      "23                  0.0000  \n",
      "24                  0.0000  \n",
      "25                  0.0000  \n",
      "26                  0.0000  \n",
      "27                  0.0526  \n",
      "28                  0.0526  \n",
      "29                  0.0000  \n",
      "..                     ...  \n",
      "233                 0.0000  \n",
      "234                 0.0000  \n",
      "235                 0.0000  \n",
      "236                 0.0000  \n",
      "237                 0.0000  \n",
      "238                 0.0000  \n",
      "239                 0.1053  \n",
      "240                 0.0526  \n",
      "241                 0.0526  \n",
      "242                 0.0000  \n",
      "243                 0.0000  \n",
      "244                 0.1579  \n",
      "245                 0.0000  \n",
      "246                 0.0000  \n",
      "247                 0.0000  \n",
      "248                 0.0000  \n",
      "249                 0.1579  \n",
      "250                 0.0526  \n",
      "251                 0.0000  \n",
      "252                 0.0000  \n",
      "253                 0.0000  \n",
      "254                 0.0526  \n",
      "255                 0.0000  \n",
      "256                 0.0000  \n",
      "257                 0.0000  \n",
      "258                 0.0526  \n",
      "259                 0.1053  \n",
      "260                 0.0000  \n",
      "261                 0.0000  \n",
      "262                 0.0000  \n",
      "\n",
      "[263 rows x 7 columns]>\n"
     ]
    }
   ],
   "source": [
    "pos = [17, 8, 11, 33, 7, 2, 6]\n",
    "colname = X.columns[pos]\n",
    "print(colname)\n",
    "tempDf = X[colname]\n",
    "print(tempDf.head)"
   ]
  },
  {
   "cell_type": "code",
   "execution_count": null,
   "metadata": {},
   "outputs": [],
   "source": []
  }
 ],
 "metadata": {
  "kernelspec": {
   "display_name": "Python 3",
   "language": "python",
   "name": "python3"
  },
  "language_info": {
   "codemirror_mode": {
    "name": "ipython",
    "version": 3
   },
   "file_extension": ".py",
   "mimetype": "text/x-python",
   "name": "python",
   "nbconvert_exporter": "python",
   "pygments_lexer": "ipython3",
   "version": "3.6.7"
  }
 },
 "nbformat": 4,
 "nbformat_minor": 2
}
