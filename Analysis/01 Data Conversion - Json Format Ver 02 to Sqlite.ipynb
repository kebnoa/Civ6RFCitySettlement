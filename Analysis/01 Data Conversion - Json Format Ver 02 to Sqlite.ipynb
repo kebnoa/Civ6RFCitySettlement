{
 "cells": [
  {
   "cell_type": "markdown",
   "metadata": {},
   "source": [
    "# Convert recorded Json file data to Sqlite\n",
    "Still a bit trail and error, but the Json format is fixed enough to start working on full file conversion and upload into the Sqlite database."
   ]
  },
  {
   "cell_type": "code",
   "execution_count": 1,
   "metadata": {},
   "outputs": [],
   "source": [
    "from datetime import datetime\n",
    "import json\n",
    "import sqlite3\n",
    "import pandas as pd"
   ]
  },
  {
   "cell_type": "code",
   "execution_count": 2,
   "metadata": {},
   "outputs": [],
   "source": [
    "def getKnownLeaders(cnx):\n",
    "    cur = cnx.cursor()\n",
    "    sqlSelect = 'SELECT leaderId, name, civ FROM leader'\n",
    "    return pd.read_sql_query(sqlSelect, cnx)\n",
    "\n",
    "def getLeaderId(name, civ, knownLeaders):\n",
    "    try:\n",
    "        # The iloc is neccessary as we can't assume there is only one return value!?\n",
    "        # also have to make sure it is int as numpy.int64 doesn't go into sqlite so well?\n",
    "        return int(knownLeaders[(knownLeaders.name == name) & (knownLeaders.civ == civ)].iloc[0].leaderId)\n",
    "    except IndexError:\n",
    "        return None"
   ]
  },
  {
   "cell_type": "code",
   "execution_count": 3,
   "metadata": {},
   "outputs": [],
   "source": [
    "jsonData = open('RawData/20181126_01.json', encoding='utf8').read()"
   ]
  },
  {
   "cell_type": "code",
   "execution_count": 4,
   "metadata": {},
   "outputs": [],
   "source": [
    "rawData = json.loads(jsonData)"
   ]
  },
  {
   "cell_type": "code",
   "execution_count": 5,
   "metadata": {
    "scrolled": true
   },
   "outputs": [
    {
     "name": "stdout",
     "output_type": "stream",
     "text": [
      "<sqlite3.Connection object at 0x000001D14B57E810>\n",
      "<sqlite3.Cursor object at 0x000001D14B57F490>\n"
     ]
    }
   ],
   "source": [
    "cnx = sqlite3.connect('Database/Civ6CitySettledData.db')\n",
    "cur = cnx.cursor()\n",
    "print(cnx)\n",
    "print(cur)"
   ]
  },
  {
   "cell_type": "markdown",
   "metadata": {},
   "source": [
    "## Populate the game table"
   ]
  },
  {
   "cell_type": "code",
   "execution_count": 6,
   "metadata": {},
   "outputs": [
    {
     "name": "stdout",
     "output_type": "stream",
     "text": [
      "{'leader': 'Peter', 'players': [{'playerCiv': 'Russia', 'playerName': 'Peter'}, {'playerCiv': 'America', 'playerName': 'Teddy Roosevelt'}, {'playerCiv': 'Greece', 'playerName': 'Pericles'}, {'playerCiv': 'Kongo', 'playerName': 'Mvemba a Nzinga'}, {'playerCiv': 'Zulu', 'playerName': 'Shaka'}, {'playerCiv': 'Mongolia', 'playerName': 'Genghis Khan'}, {'playerCiv': 'Cree', 'playerName': 'Poundmaker'}, {'playerCiv': 'Mapuche', 'playerName': 'Lautaro'}, {'playerCiv': 'Brussels', 'playerName': 'Brussels'}, {'playerCiv': 'Nan Madol', 'playerName': 'Nan Madol'}, {'playerCiv': 'Antioch', 'playerName': 'Antioch'}, {'playerCiv': 'Muscat', 'playerName': 'Muscat'}, {'playerCiv': 'Stockholm', 'playerName': 'Stockholm'}, {'playerCiv': 'Vilnius', 'playerName': 'Vilnius'}, {'playerCiv': 'Granada', 'playerName': 'Granada'}, {'playerCiv': 'Valletta', 'playerName': 'Valletta'}, {'playerCiv': 'Jerusalem', 'playerName': 'Jerusalem'}, {'playerCiv': 'Buenos Aires', 'playerName': 'Buenos Aires'}, {'playerCiv': 'Zanzibar', 'playerName': 'Zanzibar'}, {'playerCiv': 'Carthage', 'playerName': 'Carthage'}], 'mapType': 'ToDo', 'startEra': 'Ancient Era', 'mapSize': 'Standard', 'difficulty': 'Prince', 'ruleSet': 'RULESET_EXPANSION_1', 'gameSpeed': 'Standard'}\n",
      "<class 'dict'>\n"
     ]
    }
   ],
   "source": [
    "# Python creates a list by default, we know we only have 1 so select first element only!\n",
    "gameData = rawData['gameConfig'][0]\n",
    "print(gameData)\n",
    "print(type(gameData))"
   ]
  },
  {
   "cell_type": "code",
   "execution_count": 9,
   "metadata": {},
   "outputs": [
    {
     "name": "stdout",
     "output_type": "stream",
     "text": [
      "{'gameId': None, 'date': datetime.date(2018, 11, 26), 'difficulty': 'Prince', 'mapType': 'Continents', 'mapSize': 'Standard', 'gameSpeed': 'Standard', 'startEra': 'Ancient Era', 'ruleSet': 'RULESET_EXPANSION_1'}\n"
     ]
    }
   ],
   "source": [
    "dateString = rawData['date']\n",
    "date = datetime.strptime(dateString, '%Y%m%d').date()\n",
    "game = {\n",
    "    'gameId': None,\n",
    "    'date': date,\n",
    "    'difficulty': gameData['difficulty'],\n",
    "    'mapType': 'Continents',\n",
    "    'mapSize': gameData['mapSize'],\n",
    "    'gameSpeed': gameData['gameSpeed'],\n",
    "    'startEra': gameData['startEra'],\n",
    "    'ruleSet': gameData['ruleSet'],\n",
    "}\n",
    "print(game)"
   ]
  },
  {
   "cell_type": "code",
   "execution_count": 10,
   "metadata": {},
   "outputs": [
    {
     "name": "stdout",
     "output_type": "stream",
     "text": [
      "gameID:  4\n"
     ]
    }
   ],
   "source": [
    "cur.execute('INSERT INTO game VALUES(:gameId, :date, :difficulty, :mapType, :mapSize, :gameSpeed, :startEra, :ruleSet)',\n",
    "    game)\n",
    "gameId = cur.lastrowid\n",
    "print(\"gameID: \", gameId)"
   ]
  },
  {
   "cell_type": "code",
   "execution_count": 11,
   "metadata": {},
   "outputs": [],
   "source": [
    "cnx.commit()"
   ]
  },
  {
   "cell_type": "markdown",
   "metadata": {},
   "source": [
    "## Add \"new\" leaders to the leader table.\n",
    "The leader table is a list of all the leaders we've captured data for, regardless of when they were first seen. We record the relationship between a specific game/instance with the leaders in the gameLeader table."
   ]
  },
  {
   "cell_type": "code",
   "execution_count": 12,
   "metadata": {},
   "outputs": [
    {
     "name": "stdout",
     "output_type": "stream",
     "text": [
      "    leaderId                 name            civ\n",
      "0          7            Amanitore          Nubia\n",
      "1         35              Antioch        Antioch\n",
      "2         14               Armagh         Armagh\n",
      "3         28             Auckland       Auckland\n",
      "4          4              Babylon        Babylon\n",
      "5          3        Bandar Brunei  Bandar Brunei\n",
      "6         13             Brussels       Brussels\n",
      "7         11  Catherine de Medici         France\n",
      "8         22            Cleopatra          Egypt\n",
      "9         26                Cyrus         Persia\n",
      "10        12               Geneva         Geneva\n",
      "11        21         Genghis Khan       Mongolia\n",
      "12         1            Gilgamesh        Sumeria\n",
      "13        20              Gitarja      Indonesia\n",
      "14        24      Harald Hardrada         Norway\n",
      "15        36              Hattusa        Hattusa\n",
      "16         5            Hong Kong      Hong Kong\n",
      "17         6              Jadwiga         Poland\n",
      "18        30            Jerusalem      Jerusalem\n",
      "19        16                Kabul          Kabul\n",
      "20        34                Kandy          Kandy\n",
      "21        18             La Venta       La Venta\n",
      "22        17               Lisbon         Lisbon\n",
      "23        19         Mohenjo-Daro   Mohenjo-Daro\n",
      "24         2            Montezuma          Aztec\n",
      "25        33               Muscat         Muscat\n",
      "26        29            Nan Madol      Nan Madol\n",
      "27        10                Peter         Russia\n",
      "28        31              Preslav        Preslav\n",
      "29         9     Robert the Bruce       Scotland\n",
      "30        23             Seondeok          Korea\n",
      "31        15            Stockholm      Stockholm\n",
      "32        27              Tomyris        Scythia\n",
      "33        25               Trajan           Rome\n",
      "34         8           Wilhelmina    Netherlands\n",
      "35        37              Yerevan        Yerevan\n",
      "36        32             Zanzibar       Zanzibar\n"
     ]
    }
   ],
   "source": [
    "knownLeaders = getKnownLeaders(cnx)\n",
    "print(knownLeaders)"
   ]
  },
  {
   "cell_type": "code",
   "execution_count": 15,
   "metadata": {},
   "outputs": [
    {
     "name": "stdout",
     "output_type": "stream",
     "text": [
      "{'leaderId': None, 'name': 'Teddy Roosevelt', 'civ': 'America', 'isMajor': True}\n",
      "{'leaderId': None, 'name': 'Pericles', 'civ': 'Greece', 'isMajor': True}\n",
      "{'leaderId': None, 'name': 'Mvemba a Nzinga', 'civ': 'Kongo', 'isMajor': True}\n",
      "{'leaderId': None, 'name': 'Shaka', 'civ': 'Zulu', 'isMajor': True}\n",
      "{'leaderId': None, 'name': 'Poundmaker', 'civ': 'Cree', 'isMajor': True}\n",
      "{'leaderId': None, 'name': 'Lautaro', 'civ': 'Mapuche', 'isMajor': True}\n",
      "{'leaderId': None, 'name': 'Vilnius', 'civ': 'Vilnius', 'isMajor': False}\n",
      "{'leaderId': None, 'name': 'Granada', 'civ': 'Granada', 'isMajor': False}\n",
      "{'leaderId': None, 'name': 'Valletta', 'civ': 'Valletta', 'isMajor': False}\n",
      "{'leaderId': None, 'name': 'Buenos Aires', 'civ': 'Buenos Aires', 'isMajor': False}\n",
      "{'leaderId': None, 'name': 'Carthage', 'civ': 'Carthage', 'isMajor': False}\n"
     ]
    }
   ],
   "source": [
    "result = []\n",
    "for leader in gameData['players']:\n",
    "    name = leader['playerName']\n",
    "    civ = leader['playerCiv']\n",
    "    leaderId = getLeaderId(name, civ, knownLeaders)\n",
    "    if leaderId is None:\n",
    "        newLeader = {\n",
    "            'leaderId': None,\n",
    "            'name': name,\n",
    "            'civ': civ,\n",
    "            'isMajor': False if (name == civ) else True\n",
    "        }\n",
    "        result.append(newLeader)\n",
    "\n",
    "for row in result:\n",
    "    print(row)"
   ]
  },
  {
   "cell_type": "code",
   "execution_count": 16,
   "metadata": {},
   "outputs": [],
   "source": [
    "for row in result:\n",
    "#    print(row)\n",
    "    cur.execute('INSERT INTO leader VALUES(:leaderId, :name, :civ, :isMajor)', row)"
   ]
  },
  {
   "cell_type": "code",
   "execution_count": 17,
   "metadata": {},
   "outputs": [],
   "source": [
    "cnx.commit()"
   ]
  },
  {
   "cell_type": "markdown",
   "metadata": {},
   "source": [
    "# Populate gameLeader table"
   ]
  },
  {
   "cell_type": "code",
   "execution_count": 18,
   "metadata": {},
   "outputs": [
    {
     "name": "stdout",
     "output_type": "stream",
     "text": [
      "    leaderId                 name            civ\n",
      "0          7            Amanitore          Nubia\n",
      "1         35              Antioch        Antioch\n",
      "2         14               Armagh         Armagh\n",
      "3         28             Auckland       Auckland\n",
      "4          4              Babylon        Babylon\n",
      "5          3        Bandar Brunei  Bandar Brunei\n",
      "6         13             Brussels       Brussels\n",
      "7         47         Buenos Aires   Buenos Aires\n",
      "8         48             Carthage       Carthage\n",
      "9         11  Catherine de Medici         France\n",
      "10        22            Cleopatra          Egypt\n",
      "11        26                Cyrus         Persia\n",
      "12        12               Geneva         Geneva\n",
      "13        21         Genghis Khan       Mongolia\n",
      "14         1            Gilgamesh        Sumeria\n",
      "15        20              Gitarja      Indonesia\n",
      "16        45              Granada        Granada\n",
      "17        24      Harald Hardrada         Norway\n",
      "18        36              Hattusa        Hattusa\n",
      "19         5            Hong Kong      Hong Kong\n",
      "20         6              Jadwiga         Poland\n",
      "21        30            Jerusalem      Jerusalem\n",
      "22        16                Kabul          Kabul\n",
      "23        34                Kandy          Kandy\n",
      "24        18             La Venta       La Venta\n",
      "25        43              Lautaro        Mapuche\n",
      "26        17               Lisbon         Lisbon\n",
      "27        19         Mohenjo-Daro   Mohenjo-Daro\n",
      "28         2            Montezuma          Aztec\n",
      "29        33               Muscat         Muscat\n",
      "30        40      Mvemba a Nzinga          Kongo\n",
      "31        29            Nan Madol      Nan Madol\n",
      "32        39             Pericles         Greece\n",
      "33        10                Peter         Russia\n",
      "34        42           Poundmaker           Cree\n",
      "35        31              Preslav        Preslav\n",
      "36         9     Robert the Bruce       Scotland\n",
      "37        23             Seondeok          Korea\n",
      "38        41                Shaka           Zulu\n",
      "39        15            Stockholm      Stockholm\n",
      "40        38      Teddy Roosevelt        America\n",
      "41        27              Tomyris        Scythia\n",
      "42        25               Trajan           Rome\n",
      "43        46             Valletta       Valletta\n",
      "44        44              Vilnius        Vilnius\n",
      "45         8           Wilhelmina    Netherlands\n",
      "46        37              Yerevan        Yerevan\n",
      "47        32             Zanzibar       Zanzibar\n",
      "Peter\n",
      "4\n"
     ]
    }
   ],
   "source": [
    "knownLeaders = getKnownLeaders(cnx)\n",
    "print(knownLeaders)\n",
    "humanLeaderName = gameData['leader']\n",
    "print(humanLeaderName)\n",
    "print(gameId)"
   ]
  },
  {
   "cell_type": "code",
   "execution_count": 19,
   "metadata": {},
   "outputs": [
    {
     "name": "stdout",
     "output_type": "stream",
     "text": [
      "{'gameId': 4, 'leaderId': 10, 'isHuman': True}\n",
      "{'gameId': 4, 'leaderId': 38, 'isHuman': False}\n",
      "{'gameId': 4, 'leaderId': 39, 'isHuman': False}\n",
      "{'gameId': 4, 'leaderId': 40, 'isHuman': False}\n",
      "{'gameId': 4, 'leaderId': 41, 'isHuman': False}\n",
      "{'gameId': 4, 'leaderId': 21, 'isHuman': False}\n",
      "{'gameId': 4, 'leaderId': 42, 'isHuman': False}\n",
      "{'gameId': 4, 'leaderId': 43, 'isHuman': False}\n",
      "{'gameId': 4, 'leaderId': 13, 'isHuman': False}\n",
      "{'gameId': 4, 'leaderId': 29, 'isHuman': False}\n",
      "{'gameId': 4, 'leaderId': 35, 'isHuman': False}\n",
      "{'gameId': 4, 'leaderId': 33, 'isHuman': False}\n",
      "{'gameId': 4, 'leaderId': 15, 'isHuman': False}\n",
      "{'gameId': 4, 'leaderId': 44, 'isHuman': False}\n",
      "{'gameId': 4, 'leaderId': 45, 'isHuman': False}\n",
      "{'gameId': 4, 'leaderId': 46, 'isHuman': False}\n",
      "{'gameId': 4, 'leaderId': 30, 'isHuman': False}\n",
      "{'gameId': 4, 'leaderId': 47, 'isHuman': False}\n",
      "{'gameId': 4, 'leaderId': 32, 'isHuman': False}\n",
      "{'gameId': 4, 'leaderId': 48, 'isHuman': False}\n"
     ]
    }
   ],
   "source": [
    "result = []\n",
    "for leader in gameData['players']:\n",
    "    name = leader['playerName']\n",
    "    civ = leader['playerCiv']\n",
    "    leaderId = getLeaderId(name, civ, knownLeaders)\n",
    "    if name == humanLeaderName:\n",
    "        newGameLeader = {\n",
    "            'gameId': gameId,\n",
    "            'leaderId': leaderId,\n",
    "            'isHuman': True,\n",
    "        }\n",
    "        result.append(newGameLeader)\n",
    "    else:\n",
    "        newGameLeader = {\n",
    "            'gameId': gameId,\n",
    "            'leaderId': leaderId,\n",
    "            'isHuman': False,\n",
    "        }\n",
    "        result.append(newGameLeader)\n",
    "    \n",
    "for row in result:\n",
    "    print(row)"
   ]
  },
  {
   "cell_type": "code",
   "execution_count": 20,
   "metadata": {},
   "outputs": [],
   "source": [
    "for row in result:\n",
    "#    print(row)\n",
    "    cur.execute('INSERT INTO gameLeader VALUES(:gameId, :leaderId, :isHuman)', row)"
   ]
  },
  {
   "cell_type": "code",
   "execution_count": 21,
   "metadata": {},
   "outputs": [],
   "source": [
    "cnx.commit()"
   ]
  },
  {
   "cell_type": "markdown",
   "metadata": {},
   "source": [
    "# Populate citySettled and gameCity Tables"
   ]
  },
  {
   "cell_type": "code",
   "execution_count": 22,
   "metadata": {},
   "outputs": [
    {
     "name": "stdout",
     "output_type": "stream",
     "text": [
      "50 Peter St. Petersburg\n",
      "51 Teddy Roosevelt Washington\n",
      "52 Mvemba a Nzinga Mbanza Kongo\n",
      "53 Shaka Ulundi\n",
      "54 Poundmaker Mikisiw-Wacîhk\n",
      "55 Brussels Brussels\n",
      "56 Nan Madol Nan Madol\n",
      "57 Antioch Antioch\n",
      "58 Muscat Muscat\n",
      "59 Stockholm Stockholm\n",
      "60 Vilnius Vilnius\n",
      "61 Granada Granada\n",
      "62 Valletta Valletta\n",
      "63 Jerusalem Jerusalem\n",
      "64 Buenos Aires Buenos Aires\n",
      "65 Zanzibar Zanzibar\n",
      "66 Carthage Carthage\n",
      "67 Pericles Athens\n",
      "68 Genghis Khan Qaraqorum\n",
      "69 Lautaro Ngulu Mapu\n"
     ]
    }
   ],
   "source": [
    "citySettledLog = rawData['cityOnSettledLog']\n",
    "#print(citySettledLog)\n",
    "for city in citySettledLog:\n",
    "    ownerName = city['ownerName']\n",
    "    name = city['cityName']\n",
    "    leaderId = int(knownLeaders[(knownLeaders.name == ownerName)].iloc[0].leaderId)\n",
    "\n",
    "    sqlInsert = \"INSERT INTO citySettled VALUES(:cityId, :name, :settledBy, :onTurn)\"\n",
    "    parameters = {'cityId': None, 'name': name, 'settledBy':leaderId, 'onTurn':city['turn']}\n",
    "    cur.execute(sqlInsert, parameters)\n",
    "    cityId = cur.lastrowid\n",
    "    print(cityId, ownerName, name)\n",
    "    \n",
    "    sqlInsert = \"INSERT INTO gameCity VALUES(:gameId, :cityId)\"\n",
    "    parameters = {'gameId':gameId, 'cityId':cityId}\n",
    "    cur.execute(sqlInsert, parameters)"
   ]
  },
  {
   "cell_type": "code",
   "execution_count": null,
   "metadata": {},
   "outputs": [],
   "source": [
    "#cnx.rollback()"
   ]
  },
  {
   "cell_type": "code",
   "execution_count": 23,
   "metadata": {},
   "outputs": [],
   "source": [
    "cnx.commit()"
   ]
  },
  {
   "cell_type": "markdown",
   "metadata": {},
   "source": [
    "## Populate cityPlotsSettled"
   ]
  },
  {
   "cell_type": "code",
   "execution_count": 24,
   "metadata": {},
   "outputs": [
    {
     "name": "stdout",
     "output_type": "stream",
     "text": [
      "    gameId  cityId        cityName       leaderName  leaderId     leaderCiv  \\\n",
      "0        4      50  St. Petersburg            Peter        10        Russia   \n",
      "1        4      51      Washington  Teddy Roosevelt        38       America   \n",
      "2        4      52    Mbanza Kongo  Mvemba a Nzinga        40         Kongo   \n",
      "3        4      53          Ulundi            Shaka        41          Zulu   \n",
      "4        4      54  Mikisiw-Wacîhk       Poundmaker        42          Cree   \n",
      "5        4      55        Brussels         Brussels        13      Brussels   \n",
      "6        4      56       Nan Madol        Nan Madol        29     Nan Madol   \n",
      "7        4      57         Antioch          Antioch        35       Antioch   \n",
      "8        4      58          Muscat           Muscat        33        Muscat   \n",
      "9        4      59       Stockholm        Stockholm        15     Stockholm   \n",
      "10       4      60         Vilnius          Vilnius        44       Vilnius   \n",
      "11       4      61         Granada          Granada        45       Granada   \n",
      "12       4      62        Valletta         Valletta        46      Valletta   \n",
      "13       4      63       Jerusalem        Jerusalem        30     Jerusalem   \n",
      "14       4      64    Buenos Aires     Buenos Aires        47  Buenos Aires   \n",
      "15       4      65        Zanzibar         Zanzibar        32      Zanzibar   \n",
      "16       4      66        Carthage         Carthage        48      Carthage   \n",
      "17       4      67          Athens         Pericles        39        Greece   \n",
      "18       4      68       Qaraqorum     Genghis Khan        21      Mongolia   \n",
      "19       4      69      Ngulu Mapu          Lautaro        43       Mapuche   \n",
      "\n",
      "    isMajorLeader  isHumanLeader  onTurn  \n",
      "0               1              1       1  \n",
      "1               1              0       1  \n",
      "2               1              0       1  \n",
      "3               1              0       1  \n",
      "4               1              0       1  \n",
      "5               0              0       1  \n",
      "6               0              0       1  \n",
      "7               0              0       1  \n",
      "8               0              0       1  \n",
      "9               0              0       1  \n",
      "10              0              0       1  \n",
      "11              0              0       1  \n",
      "12              0              0       1  \n",
      "13              0              0       1  \n",
      "14              0              0       1  \n",
      "15              0              0       1  \n",
      "16              0              0       1  \n",
      "17              1              0       2  \n",
      "18              1              0       2  \n",
      "19              1              0       2  \n"
     ]
    }
   ],
   "source": [
    "sqlSelect = 'SELECT * FROM gameCityLeaderSettledView WHERE gameId = :gameId'\n",
    "gameCLS = pd.read_sql_query(sqlSelect, cnx, params={'gameId':gameId})\n",
    "print(gameCLS)"
   ]
  },
  {
   "cell_type": "code",
   "execution_count": null,
   "metadata": {},
   "outputs": [],
   "source": [
    "# Testing, can safely ignore this!\n",
    "#ownerCityId = int(gameCLS[gameCLS.cityName == 'Amsterdam'].iloc[0].cityId)\n",
    "#print(ownerCityId)\n",
    "#print(type(ownerCityId))"
   ]
  },
  {
   "cell_type": "code",
   "execution_count": 25,
   "metadata": {},
   "outputs": [
    {
     "name": "stdout",
     "output_type": "stream",
     "text": [
      "{'plotId': None, 'ownerCityId': 50, 'ring': 0, 'terrain': 'Plains (Hills)', 'feature': 'None', 'resource': 'None', 'resourceCount': 0, 'resourceType': 'None', 'workers': 1, 'district': 'City Center', 'hasRiver': True, 'isWater': False, 'isLake': False, 'isCity': True}\n",
      "{'plotId': None, 'ownerCityId': 50, 'ring': 1, 'terrain': 'Plains', 'feature': 'None', 'resource': 'Cotton', 'resourceCount': 1, 'resourceType': 'Luxury', 'workers': 0, 'district': 'None', 'hasRiver': True, 'isWater': False, 'isLake': False, 'isCity': False}\n",
      "{'plotId': None, 'ownerCityId': 50, 'ring': 1, 'terrain': 'Plains', 'feature': 'None', 'resource': 'Wheat', 'resourceCount': 1, 'resourceType': 'Bonus', 'workers': 0, 'district': 'None', 'hasRiver': True, 'isWater': False, 'isLake': False, 'isCity': False}\n"
     ]
    }
   ],
   "source": [
    "# building up the cityPlotsSettled data for entry...\n",
    "result = []\n",
    "for city in rawData['cityOnSettledLog']:\n",
    "    for plot in city['plots']:\n",
    "        try:\n",
    "            ownerCityId = int(gameCLS[gameCLS.cityName == plot['ownerCity']].iloc[0].cityId)\n",
    "        except IndexError:\n",
    "            ownerCityId = None\n",
    "        plotInfo = {\n",
    "            'plotId': None,\n",
    "            'ownerCityId': ownerCityId,\n",
    "            'ring': plot['r'],\n",
    "            'terrain': plot['terrain'],\n",
    "            'feature': plot['feature'],\n",
    "            'resource': plot['resource'],\n",
    "            'resourceCount': plot['resourceCount'],\n",
    "            'resourceType': plot['resourceType'],\n",
    "            'workers': plot['workers'],\n",
    "            'district': plot['district'],\n",
    "            'hasRiver': plot['hasRiver'],\n",
    "            'isWater': plot['isWater'],\n",
    "            'isLake': plot['isLake'],\n",
    "            'isCity': plot['isCity'],\n",
    "        }\n",
    "        result.append(plotInfo)\n",
    "\n",
    "print(result[0])\n",
    "print(result[1])\n",
    "print(result[2])"
   ]
  },
  {
   "cell_type": "code",
   "execution_count": 26,
   "metadata": {},
   "outputs": [],
   "source": [
    "for row in result:\n",
    "    cur.execute('INSERT INTO cityPlotsSettled VALUES(:plotId, :ownerCityId, :ring, :terrain, :feature, :resource, :resourceCount, :resourceType, :workers, :district, :hasRiver, :isWater, :isLake, :isCity )',\n",
    "                row)"
   ]
  },
  {
   "cell_type": "code",
   "execution_count": null,
   "metadata": {},
   "outputs": [],
   "source": [
    "#cnx.rollback()"
   ]
  },
  {
   "cell_type": "code",
   "execution_count": 27,
   "metadata": {},
   "outputs": [],
   "source": [
    "cnx.commit()"
   ]
  },
  {
   "cell_type": "markdown",
   "metadata": {},
   "source": [
    "## Populate cityPerTurnLog"
   ]
  },
  {
   "cell_type": "code",
   "execution_count": 28,
   "metadata": {},
   "outputs": [],
   "source": [
    "def getCityId(cityName):\n",
    "    try:\n",
    "        # The iloc is neccessary as we can't assume there is only one return value!?\n",
    "        # also have to make sure it is int as numpy.int64 doesn't go into sqlite so well?\n",
    "        return int(gameCLS[gameCLS.cityName == cityName].iloc[0].cityId)\n",
    "    except IndexError:\n",
    "        return None\n",
    "    \n",
    "def getLeaderId(ownerName, ownerCiv):\n",
    "    try:\n",
    "        # The iloc is necessary as we can't assume there is only one return value!?\n",
    "        # also have to make sure it is int as numpy.int64 doesn't go into sqlite so well?\n",
    "        return int(gameCLS[gameCLS.leaderName  == ownerName].iloc[0].leaderId)\n",
    "    except IndexError:\n",
    "        return None"
   ]
  },
  {
   "cell_type": "code",
   "execution_count": 29,
   "metadata": {},
   "outputs": [
    {
     "name": "stdout",
     "output_type": "stream",
     "text": [
      "{'cityId': 50, 'turn': 1, 'ownerId': 10, 'foodPerTurn': '3.00', 'foodToolTip': '+3 from Worked Tiles', 'productionPerTurn': '6.30', 'productionToolTip': '+4 from Worked Tiles[NEWLINE]+2 from Buildings[NEWLINE]   +2 from Palace[NEWLINE]+5pct (+0.2) from Amenities', 'goldPerTurn': '7.35', 'goldToolTip': '+2 from Worked Tiles[NEWLINE]+5 from Buildings[NEWLINE]   +5 from Palace[NEWLINE]+5pct (+0.3) from Amenities', 'sciencePerTurn': '2.63', 'scienceToolTip': '+2 from Buildings[NEWLINE]   +2 from Palace[NEWLINE]+0.5 from Population[NEWLINE]+5pct (+0.1) from Amenities', 'culturePerTurn': '1.36', 'cultureToolTip': '+1 from Buildings[NEWLINE]   +1 from Palace[NEWLINE]+0.2 from Population[NEWLINE]+5pct (+0) from Amenities', 'faithPerTurn': '0.00', 'faithToolTip': '+5pct (+0) from Amenities', 'population': 1, 'housing': 6, 'amenities': 1, 'amenitiesNeeded': 0, 'happiness': 'Happy'}\n",
      "{'cityId': 51, 'turn': 1, 'ownerId': 38, 'foodPerTurn': '4.00', 'foodToolTip': '+4 from Worked Tiles', 'productionPerTurn': '5.00', 'productionToolTip': '+2 from Worked Tiles[NEWLINE]+2 from Buildings[NEWLINE]   +2 from Palace[NEWLINE]+20pct (+0.7) from Modifiers[NEWLINE]+5pct (+0.1) from Amenities', 'goldPerTurn': '6.25', 'goldToolTip': '+5 from Buildings[NEWLINE]   +5 from Palace[NEWLINE]+20pct (+1) from Modifiers[NEWLINE]+5pct (+0.2) from Amenities', 'sciencePerTurn': '2.82', 'scienceToolTip': '+2 from Buildings[NEWLINE]   +2 from Palace[NEWLINE]+0.5 from Population[NEWLINE]+8pct (+0.1) from Modifiers[NEWLINE]+5pct (+0.1) from Amenities', 'culturePerTurn': '1.46', 'cultureToolTip': '+1 from Buildings[NEWLINE]   +1 from Palace[NEWLINE]+0.2 from Population[NEWLINE]+8pct (+0.1) from Modifiers[NEWLINE]+5pct (+0) from Amenities', 'faithPerTurn': '0.00', 'faithToolTip': '+8pct (+0) from Modifiers[NEWLINE]+5pct (+0) from Amenities', 'population': 1, 'housing': 6, 'amenities': 1, 'amenitiesNeeded': 0, 'happiness': 'Happy'}\n",
      "{'cityId': 65, 'turn': 54, 'ownerId': 32, 'foodPerTurn': '16.00', 'foodToolTip': '+16 from Worked Tiles', 'productionPerTurn': '2.70', 'productionToolTip': '+4 from Worked Tiles[NEWLINE]+2 from Buildings[NEWLINE]   +2 from Palace[NEWLINE]-50pct (-3) from Modifiers[NEWLINE]-5pct (-0.2) from Amenities', 'goldPerTurn': '5.70', 'goldToolTip': '+1 from Worked Tiles[NEWLINE]+5 from Buildings[NEWLINE]   +5 from Palace[NEWLINE]-5pct (-0.2) from Amenities', 'sciencePerTurn': '4.75', 'scienceToolTip': '+2 from Buildings[NEWLINE]   +2 from Palace[NEWLINE]+3 from Population[NEWLINE]-5pct (-0.2) from Amenities', 'culturePerTurn': '2.66', 'cultureToolTip': '+1 from Buildings[NEWLINE]   +1 from Palace[NEWLINE]+1.7 from Population[NEWLINE]-5pct (-0.1) from Amenities', 'faithPerTurn': '0.00', 'faithToolTip': '-5pct (+0) from Amenities', 'population': 6, 'housing': 8, 'amenities': 1, 'amenitiesNeeded': 2, 'happiness': 'Displeased'}\n"
     ]
    }
   ],
   "source": [
    "# building up the cityPerTurnLog data for entry...\n",
    "result = []\n",
    "for logEntry in rawData['cityPerTurnLog']:\n",
    "    turnInfo = {\n",
    "        'cityId': getCityId(logEntry['cityName']),\n",
    "        'turn': int(logEntry['turn']),\n",
    "        'ownerId': getLeaderId(logEntry['ownerName'], 'Blah'),\n",
    "        'foodPerTurn': logEntry['foodPerTurn'],\n",
    "        'foodToolTip': logEntry['foodToolTip'],\n",
    "        'productionPerTurn': logEntry['productionPerTurn'],\n",
    "        'productionToolTip': logEntry['productionToolTip'],\n",
    "        'goldPerTurn': logEntry['goldPerTurn'],\n",
    "        'goldToolTip': logEntry['goldToolTip'],\n",
    "        'sciencePerTurn': logEntry['sciencePerTurn'],\n",
    "        'scienceToolTip': logEntry['scienceToolTip'],\n",
    "        'culturePerTurn': logEntry['culturePerTurn'],\n",
    "        'cultureToolTip': logEntry['cultureToolTip'],\n",
    "        'faithPerTurn': logEntry['faithPerTurn'],\n",
    "        'faithToolTip': logEntry['faithToolTip'],\n",
    "        'population': logEntry['population'],\n",
    "        'housing': logEntry['housing'],\n",
    "        'amenities': logEntry['amenities'],\n",
    "        'amenitiesNeeded': logEntry['amenitiesNeeded'],\n",
    "        'happiness': logEntry['happiness'],\n",
    "    }\n",
    "    result.append(turnInfo)\n",
    "\n",
    "print(result[0])\n",
    "print(result[1])\n",
    "print(result[-1])"
   ]
  },
  {
   "cell_type": "code",
   "execution_count": 30,
   "metadata": {},
   "outputs": [],
   "source": [
    "for row in result:\n",
    "    cur.execute('INSERT INTO cityPerTurnLog VALUES(:cityId, :turn, :ownerId, :foodPerTurn, :foodToolTip, :productionPerTurn, :productionToolTip, :goldPerTurn, :goldToolTip, :sciencePerTurn, :scienceToolTip, :culturePerTurn, :cultureToolTip, :faithPerTurn, :faithToolTip, :population, :housing, :amenities, :amenitiesNeeded, :happiness)',\n",
    "                row)"
   ]
  },
  {
   "cell_type": "code",
   "execution_count": null,
   "metadata": {},
   "outputs": [],
   "source": []
  },
  {
   "cell_type": "code",
   "execution_count": null,
   "metadata": {},
   "outputs": [],
   "source": [
    "cnx.rollback()"
   ]
  },
  {
   "cell_type": "code",
   "execution_count": 31,
   "metadata": {},
   "outputs": [],
   "source": [
    "cnx.commit()"
   ]
  },
  {
   "cell_type": "code",
   "execution_count": 32,
   "metadata": {},
   "outputs": [],
   "source": [
    "cnx.close()"
   ]
  },
  {
   "cell_type": "code",
   "execution_count": null,
   "metadata": {},
   "outputs": [],
   "source": []
  }
 ],
 "metadata": {
  "kernelspec": {
   "display_name": "Python 3",
   "language": "python",
   "name": "python3"
  },
  "language_info": {
   "codemirror_mode": {
    "name": "ipython",
    "version": 3
   },
   "file_extension": ".py",
   "mimetype": "text/x-python",
   "name": "python",
   "nbconvert_exporter": "python",
   "pygments_lexer": "ipython3",
   "version": "3.7.0"
  }
 },
 "nbformat": 4,
 "nbformat_minor": 2
}
