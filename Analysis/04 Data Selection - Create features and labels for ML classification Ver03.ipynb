{
 "cells": [
  {
   "cell_type": "markdown",
   "metadata": {},
   "source": [
    "# Create the input features and output lables for the Machine Learning classification training\n",
    "\n",
    "## Premise of the experiment\n",
    "The question I am trying to answer is whether you can predict a successfull city based solely on the information available in the 7, 15 in the case of Russia, tiles immediately around the settled plot. In order to do this we need to define what a successful city looks like, and then how to use the plot information available as input to the classification ML engine.\n",
    "\n",
    "As I am the creator of the dataset I have much more freedom than one would normally have in any ML competition.\n",
    "\n",
    "## Determine the label (aka value to predict)\n",
    "I decided at the start to limit the data capture to the first 50 turns after a city is settled. Also, only using cities settled in the first 3 turns of the game to reduce variability. For example, later in the game strategic resources are show that cleary has impact we can't account for.\n",
    "\n",
    "As cities can, and relatively frequently get settled on the second turn the first task is to standardise and align the \"turns\". This is done with the turns column in the **cityPerTurnView** table. All I need to do here is extract it.\n",
    "\n",
    "Based on the shape of *Faith* yields I decided to leave it out. That means the yields of interest are: food, production, gold, science, and culture. Science and culture get most of their yields from buildings and improvements by I left them in as they are key yields.\n",
    "\n",
    "To determine the \"good\" cities I used the total yield a city produced for the first 50 turns and assigned a score from 0 through 9 based on deciles (10 quantiles) of that specific yield. I then summed the 5 scores (1 each for food, production, gold, science, and culture) and allocated this as the city's score. The maximum score a city could get is 45 and the least is 0. I then marked all cities in the top 25% (top quartile) of this cityTotal as being good and all the rest as poor.\n",
    "\n",
    "## Determine the features (aka values used as input to predict)\n",
    "In the end I decided to use all 19 tiles (plots) that are within 2 tiles from the city centre. By turn 50 many of the 2nd ring tiles are used and as Russia starts with 15 or so available it seemed the best approach to give slightly more information to the model.\n",
    "\n",
    "I also combined terrain and feature into one category as feature never exists in isolation. However resources (bonus, luxury, and strategic) formed a different category. When looking at the resources there were a few that occured frequently and early and some, especially luxury, resource infrequently.\n",
    "\n",
    "All luxuries were grouped in Lux. All bonus resources were grouped in OtherBonus - with the exception of Wheat, Stone, Cattle, and Rice. There is only one strategic resource available so I left Horses as is too.\n",
    "\n",
    "Lastly, I categorised by percentage. For example, I count all the PlainsHills in a city and then divide by 19 to determine the percentage of tiles with PlainsHills. This improved model classification vs. supplying the counts.\n",
    "\n",
    "## Comments regarding the decisions\n",
    "Keep in mind that these decisions were not made in one linear sequence. I did not know the best way to do this when I started and this is the result of much experimentation. Also, I am more that happy to receive feedback on these decisions as I sure this could be improved.\n",
    "\n",
    "This workbook produces the features and labels CSV files that I use in the next one to create a classification model.\n"
   ]
  },
  {
   "cell_type": "code",
   "execution_count": 1,
   "metadata": {},
   "outputs": [],
   "source": [
    "import sqlite3\n",
    "import pandas as pd"
   ]
  },
  {
   "cell_type": "code",
   "execution_count": 2,
   "metadata": {},
   "outputs": [],
   "source": [
    "cnx = sqlite3.connect('Database/Civ6CitySettledData.db')\n",
    "cur = cnx.cursor()\n",
    "#print(cnx)\n",
    "#print(cur)"
   ]
  },
  {
   "cell_type": "markdown",
   "metadata": {},
   "source": [
    "## Labels:"
   ]
  },
  {
   "cell_type": "markdown",
   "metadata": {},
   "source": [
    "Use the specifically created database view to retrieve the per turn data collected. This view also aligns timelines, that is, takes care of cities settled in turn 2, or even turn 3. I was surprised to learn the AI actually moves settlers before settling."
   ]
  },
  {
   "cell_type": "code",
   "execution_count": 3,
   "metadata": {},
   "outputs": [
    {
     "name": "stdout",
     "output_type": "stream",
     "text": [
      "(25100, 29)\n"
     ]
    }
   ],
   "source": [
    "sqlSelect = 'SELECT * FROM cityPerTurnView WHERE turns >= 1 and turns <= 50'\n",
    "cityPt = pd.read_sql_query(sqlSelect, cnx)\n",
    "print(cityPt.shape)"
   ]
  },
  {
   "cell_type": "markdown",
   "metadata": {},
   "source": [
    "I have excluded Faith as it was simply too variable to use. Also, it doesn't appear to be a core yield in general, although it is situationally very useful."
   ]
  },
  {
   "cell_type": "code",
   "execution_count": 4,
   "metadata": {},
   "outputs": [
    {
     "name": "stdout",
     "output_type": "stream",
     "text": [
      "   cityId  cultureScore  goldTotal  productionTotal  goldScore  scienceTotal  \\\n",
      "0       1             0      289.8           492.45          0        182.68   \n",
      "1       2             0      660.7           490.85          1        196.94   \n",
      "2       3             0      251.5           159.15          0        180.63   \n",
      "3       4             0      262.5           157.30          0        150.22   \n",
      "4       5             0      250.0           105.40          0        185.06   \n",
      "\n",
      "   cityScore  cultureTotal  productionScore  foodScore  cityTotal  foodTotal  \\\n",
      "0          0        101.97                1          0         17      268.0   \n",
      "1          1        164.75                0          0         32      321.0   \n",
      "2          0        153.38                0          0         18      469.0   \n",
      "3          0        140.42                0          0          6      195.0   \n",
      "4          0        141.82                0          1         15      500.0   \n",
      "\n",
      "   scienceScore  \n",
      "0             0  \n",
      "1             0  \n",
      "2             0  \n",
      "3             0  \n",
      "4             0  \n"
     ]
    }
   ],
   "source": [
    "yields = ['food', 'production', 'gold', 'science', 'culture']\n",
    "cityIds = list(cityPt['cityId'].unique())\n",
    "labelsDf = pd.DataFrame(columns={'foodTotal', 'foodScore', 'productionTotal', 'productionScore',\n",
    "                                 'goldTotal', 'goldScore', 'scienceTotal', 'scienceScore',\n",
    "                                 'cultureTotal', 'cultureScore', 'cityTotal', 'cityScore'},\n",
    "                        index=cityIds)\n",
    "labelsDf.reset_index(level=0,inplace=True)\n",
    "labelsDf.rename(columns={'index':'cityId'}, inplace=True)\n",
    "labelsDf.sort_values(by='cityId', inplace=True)\n",
    "labelsDf.index = pd.RangeIndex(len(labelsDf.index))\n",
    "labelsDf.fillna(0, inplace=True)\n",
    "\n",
    "# As I decided to use binary classification we have two steps here, internally\n",
    "# I use deciles to determine the cityScore, then I replace all with the 2 quantile\n",
    "# external one. (top 25% is good, rest \"poor\")\n",
    "quantileInternal = [0, .1, .2, .3, .4, .5, .6, .7, .8, .9, 1]\n",
    "quantileExternal = [0, .75, 1]\n",
    "\n",
    "for yld in yields:\n",
    "    columnName = \"{}PerTurn\".format(yld)\n",
    "    cumulativeDf = cityPt[['cityId', 'turns', columnName]].pivot(index='turns',\n",
    "                                                                 columns='cityId',\n",
    "                                                                 values=columnName).cumsum()\n",
    "    t50 = cumulativeDf.loc[50].to_frame()\n",
    "    t50.reset_index(level=0, inplace=True)\n",
    "    t50.rename(columns={50:\"{}Total\".format(yld)}, inplace=True)\n",
    "    # join here via boolean map as using cityID, not index - see df.update below\n",
    "    labelsDf.loc[labelsDf.cityId.isin(t50.cityId), \"{}Total\".format(yld)] = t50[\"{}Total\".format(yld)]\n",
    "    \n",
    "    quantilesDf = pd.qcut(labelsDf[\"{}Total\".format(yld)], quantileInternal, labels=False).to_frame()\n",
    "    quantilesDf.rename(columns={\"{}Total\".format(yld):\"{}Score\".format(yld)}, inplace=True)\n",
    "    # update works cause we have index alignment\n",
    "    labelsDf.update(quantilesDf)\n",
    "    labelsDf['cityTotal'] = labelsDf['cityTotal'] + labelsDf[\"{}Score\".format(yld)]\n",
    "\n",
    "quantilesDf = pd.qcut(labelsDf['cityTotal'], quantileExternal, labels=False).to_frame()\n",
    "quantilesDf.rename(columns={'cityTotal':'cityScore'}, inplace=True)\n",
    "# update works cause we have index alignment\n",
    "labelsDf.update(quantilesDf)\n",
    "\n",
    "for yld in yields:\n",
    "    labelsDf['{}Score'.format(yld)] = pd.qcut(labelsDf['{}Total'.format(yld)], quantileExternal, labels=False)\n",
    "\n",
    "print(labelsDf.head())"
   ]
  },
  {
   "cell_type": "code",
   "execution_count": 5,
   "metadata": {},
   "outputs": [],
   "source": [
    "# Forgetting encoding='utf-8' here causes much pain later!\n",
    "labelsDf.to_csv('ModelInput/labels.csv', encoding='utf-8', index=False)"
   ]
  },
  {
   "cell_type": "markdown",
   "metadata": {},
   "source": [
    "## Features:"
   ]
  },
  {
   "cell_type": "markdown",
   "metadata": {},
   "source": [
    "Use the cityPlotsSettled data collected to prepare the features we intend using as input into the model. The category key idea is explained in the introduction.\n",
    "\n",
    "We also specify the cityHasRiver as 1 = True, and 0 = False."
   ]
  },
  {
   "cell_type": "code",
   "execution_count": 6,
   "metadata": {},
   "outputs": [
    {
     "name": "stdout",
     "output_type": "stream",
     "text": [
      "(9538, 15)\n"
     ]
    }
   ],
   "source": [
    "# Decision about what to include and what now...\n",
    "sqlSelect = 'SELECT * FROM cityPlotsSettled'\n",
    "cityPs = pd.read_sql_query(sqlSelect, cnx)\n",
    "print(cityPs.shape)\n",
    "#print(cityPs.dtypes)"
   ]
  },
  {
   "cell_type": "markdown",
   "metadata": {},
   "source": [
    "### Extract the categorical features"
   ]
  },
  {
   "cell_type": "code",
   "execution_count": 7,
   "metadata": {},
   "outputs": [
    {
     "name": "stdout",
     "output_type": "stream",
     "text": [
      "\n",
      "Terrain Features categories:\n",
      "['PlainsHills', 'PlainsMountain', 'PlainsRainforest', 'Plains', 'PlainsHillsWoods', 'DesertHills', 'PlainsWoods', 'PlainsHillsRainforest', 'Grassland', 'CoastLake', 'GrasslandHills', 'DesertMountain', 'Desert', 'GrasslandWoods', 'GrasslandMarsh', 'Ocean', 'Tundra', 'Snow', 'GrasslandHillsWoods', 'GrasslandMountain', 'CoastLakeReef', 'DesertFloodplains', 'TundraWoods', 'TundraMountain', 'TundraHills', 'DesertOasis', 'TundraHillsWoods']\n",
      "\n",
      "Resource categories:\n",
      "['None', 'Sheep', 'Lux', 'Wheat', 'Bananas', 'Fish', 'Stone', 'Cattle', 'Horses', 'Deer', 'Rice', 'Crabs', 'Copper']\n",
      "\n",
      "Features DataFrame will contain:\n",
      "(0, 41)\n",
      "Index(['cityId', 'PlainsHills', 'PlainsMountain', 'PlainsRainforest', 'Plains',\n",
      "       'PlainsHillsWoods', 'DesertHills', 'PlainsWoods',\n",
      "       'PlainsHillsRainforest', 'Grassland', 'CoastLake', 'GrasslandHills',\n",
      "       'DesertMountain', 'Desert', 'GrasslandWoods', 'GrasslandMarsh', 'Ocean',\n",
      "       'Tundra', 'Snow', 'GrasslandHillsWoods', 'GrasslandMountain',\n",
      "       'CoastLakeReef', 'DesertFloodplains', 'TundraWoods', 'TundraMountain',\n",
      "       'TundraHills', 'DesertOasis', 'TundraHillsWoods', 'None', 'Sheep',\n",
      "       'Lux', 'Wheat', 'Bananas', 'Fish', 'Stone', 'Cattle', 'Horses', 'Deer',\n",
      "       'Rice', 'Crabs', 'Copper'],\n",
      "      dtype='object')\n"
     ]
    }
   ],
   "source": [
    "#Create two new categorical columns in the sourceDf first\n",
    "\n",
    "# Terrain and Feature categories - these never occur in isolation so group them!\n",
    "cityPs['catTf'] = cityPs['terrain'] + cityPs['feature']\n",
    "# Remove None, whitespace, and brackets\n",
    "cityPs['catTf'] = cityPs['catTf'].apply(lambda s: s.replace('None', '').replace(' and ', '').replace(' ', ''))\n",
    "cityPs['catTf'] = cityPs['catTf'].apply(lambda s: s.replace('(','').replace(')', ''))\n",
    "\n",
    "# And, a category key for resources...\n",
    "cityPs['catR'] = cityPs['resource']\n",
    "# Remove all \"hidden\" strategic resources - Only Horses are left\n",
    "cityPs['catR'] = cityPs['catR'].apply(lambda s: s.replace('Uranium', 'None').replace('Oil', 'None').replace('Niter', 'None'))\n",
    "cityPs['catR'] = cityPs['catR'].apply(lambda s: s.replace('Aluminum', 'None').replace('Coal', 'None').replace('Iron', 'None'))\n",
    "# Consolidate Luxuries\n",
    "cityPs['catR'] = cityPs['catR'].apply(lambda s: s.replace('Dyes', 'Lux').replace('Silver', 'Lux').replace('Diamonds', 'Lux'))\n",
    "cityPs['catR'] = cityPs['catR'].apply(lambda s: s.replace('Tea', 'Lux').replace('Salt', 'Lux').replace('Olives', 'Lux'))\n",
    "cityPs['catR'] = cityPs['catR'].apply(lambda s: s.replace('Ivory', 'Lux').replace('Sugar', 'Lux').replace('Coffee', 'Lux'))\n",
    "cityPs['catR'] = cityPs['catR'].apply(lambda s: s.replace('Cotton', 'Lux').replace('Furs', 'Lux').replace('Whales', 'Lux'))\n",
    "cityPs['catR'] = cityPs['catR'].apply(lambda s: s.replace('Marble', 'Lux').replace('Jade', 'Lux').replace('Turtles', 'Lux'))\n",
    "cityPs['catR'] = cityPs['catR'].apply(lambda s: s.replace('Gypsum', 'Lux').replace('Mercury', 'Lux').replace('Tobacco', 'Lux'))\n",
    "cityPs['catR'] = cityPs['catR'].apply(lambda s: s.replace('Wine', 'Lux').replace('Truffles', 'Lux').replace('Incense', 'Lux'))\n",
    "cityPs['catR'] = cityPs['catR'].apply(lambda s: s.replace('Silk', 'Lux').replace('Citrus', 'Lux').replace('Spices', 'Lux'))\n",
    "cityPs['catR'] = cityPs['catR'].apply(lambda s: s.replace('Cocoa', 'Lux').replace('Pearls', 'Lux').replace('Amber', 'Lux'))\n",
    "## Consolidate bonus resources\n",
    "#cityPs['catR'] = cityPs['catR'].apply(lambda s: s.replace('Sheep', 'OtherBonus')) #.replace('Bananas', 'OtherBonus'))\n",
    "#cityPs['catR'] = cityPs['catR'].apply(lambda s: s.replace('Fish', 'OtherBonus').replace('Deer', 'OtherBonus'))\n",
    "#cityPs['catR'] = cityPs['catR'].apply(lambda s: s.replace('Crabs', 'OtherBonus').replace('Copper', 'OtherBonus'))\n",
    "# Remove None, whitespace, and brackets\n",
    "cityPs['catR'] = cityPs['catR'].apply(lambda s: s.replace(' ', '').replace('(','').replace(')', ''))\n",
    "\n",
    "# Still have 35 different \"categories\" here...\n",
    "#print(cityPs[['plotId','catTf']].groupby('catTf').count().sort_values(by='catTf', ascending=True).count())\n",
    "#print(cityPs[['plotId','catR']].groupby('catR').count().sort_values(by='catR', ascending=True).count())\n",
    "\n",
    "print(\"\\nTerrain Features categories:\")\n",
    "print(list(cityPs['catTf'].unique()))\n",
    "print(\"\\nResource categories:\")\n",
    "print(list(cityPs['catR'].unique()))\n",
    "\n",
    "# Here we effectively \"One Hot Encode\" the categories, that is turn the categorical features into\n",
    "# numerical ones\n",
    "\n",
    "# Create the destination DataFrame using the list of categories.\n",
    "\n",
    "cols = ['cityId'] + list(cityPs['catTf'].unique()) + list(cityPs['catR'].unique())\n",
    "#print(cols, \"\\n\", type(cols))\n",
    "#list(filter(None, list(cityPs['catR'].unique())))\n",
    "featuresDf = pd.DataFrame(columns = cols)\n",
    "featuresDf = featuresDf.astype('float')\n",
    "print('\\nFeatures DataFrame will contain:')\n",
    "print(featuresDf.shape)\n",
    "print(featuresDf.columns)"
   ]
  },
  {
   "cell_type": "markdown",
   "metadata": {},
   "source": [
    "### Transform raw plot data into model input features"
   ]
  },
  {
   "cell_type": "code",
   "execution_count": 8,
   "metadata": {},
   "outputs": [
    {
     "name": "stdout",
     "output_type": "stream",
     "text": [
      "   cityId  PlainsHills  PlainsMountain  PlainsRainforest  Plains  \\\n",
      "1     1.0       0.1579          0.0526            0.0526  0.3158   \n",
      "2     2.0       0.0526          0.0000            0.1579  0.1053   \n",
      "3     3.0       0.0526          0.0000            0.0526  0.3158   \n",
      "4     4.0       0.0526          0.0000            0.1053  0.2105   \n",
      "5     5.0       0.0000          0.0000            0.0526  0.0000   \n",
      "\n",
      "   PlainsHillsWoods  DesertHills  PlainsWoods  PlainsHillsRainforest  \\\n",
      "1            0.1053       0.0526       0.1579                 0.0526   \n",
      "2            0.0526       0.1053       0.1053                 0.0000   \n",
      "3            0.0000       0.0000       0.1053                 0.0000   \n",
      "4            0.0526       0.0000       0.0526                 0.0000   \n",
      "5            0.0000       0.0000       0.0000                 0.0000   \n",
      "\n",
      "   Grassland   ...     Wheat  Bananas    Fish   Stone  Cattle  Horses    Deer  \\\n",
      "1     0.0526   ...    0.0526   0.0000  0.0000  0.0000  0.0000  0.0000  0.0000   \n",
      "2     0.0000   ...    0.0000   0.0526  0.0526  0.0000  0.0000  0.0000  0.0000   \n",
      "3     0.2632   ...    0.0000   0.0000  0.0000  0.1053  0.0526  0.0000  0.0000   \n",
      "4     0.0000   ...    0.0526   0.0000  0.0526  0.0000  0.0000  0.0000  0.0000   \n",
      "5     0.3684   ...    0.0000   0.0000  0.0000  0.0000  0.0000  0.0526  0.0526   \n",
      "\n",
      "   Rice  Crabs  Copper  \n",
      "1   0.0    0.0     0.0  \n",
      "2   0.0    0.0     0.0  \n",
      "3   0.0    0.0     0.0  \n",
      "4   0.0    0.0     0.0  \n",
      "5   0.0    0.0     0.0  \n",
      "\n",
      "[5 rows x 41 columns]\n"
     ]
    }
   ],
   "source": [
    "# Loop through all plots, by city\n",
    "for cityId in cityPs['recordedCityId'].unique():\n",
    "    # Select all the plots in the city\n",
    "    plotsDf = cityPs[cityPs['recordedCityId'] == cityId]\n",
    "\n",
    "    # Very handy pandas functionality to count and percentage by category\n",
    "    catTfSeries = round(plotsDf.groupby(['catTf'])['plotId'].count() / 19, 4)\n",
    "    catRSeries = round(plotsDf.groupby(['catR'])['plotId'].count() / 19, 4)\n",
    "#    catTfSeries = plotsDf.groupby(['catTf'])['plotId'].count()\n",
    "#    catRSeries = plotsDf.groupby(['catR'])['plotId'].count()\n",
    "\n",
    "    # loop through each series and add calculated values to the featuresDF\n",
    "    featuresDf.loc[cityId, 'cityId'] = cityId\n",
    "    for cat, val in catTfSeries.iteritems():\n",
    "        featuresDf.loc[cityId, cat] = val\n",
    "    for cat, val in catRSeries.iteritems():\n",
    "        featuresDf.loc[cityId, cat] = val\n",
    "\n",
    "# make sure NaN or empty cells are replaced with zero\n",
    "featuresDf.fillna(0.0, inplace=True)\n",
    "print(featuresDf.head())"
   ]
  },
  {
   "cell_type": "code",
   "execution_count": 9,
   "metadata": {},
   "outputs": [],
   "source": [
    "# cityHasRiver calculation...\n",
    "for cityId in cityPs['recordedCityId'].unique():\n",
    "    plotsDf = cityPs[cityPs['recordedCityId'] == cityId]\n",
    "    \n",
    "    featuresDf.loc[cityId, 'cityHasRiver'] = plotsDf[plotsDf['isCity'] == True].iloc[0,:].hasRiver\n",
    "\n",
    "# Drop the \"none\" now\n",
    "del featuresDf['None']\n",
    "\n",
    "# Make sure all the dtypes are correct. All should be float except cityId and cityHasRiver\n",
    "#featuresDf = featuresDf.astype('int')\n",
    "featuresDf = featuresDf.astype('float')\n",
    "featuresDf['cityId'] = featuresDf['cityId'].astype('int')\n",
    "featuresDf['cityHasRiver'] = featuresDf['cityHasRiver'].astype('int')"
   ]
  },
  {
   "cell_type": "code",
   "execution_count": 10,
   "metadata": {
    "scrolled": false
   },
   "outputs": [
    {
     "name": "stdout",
     "output_type": "stream",
     "text": [
      "   cityId  PlainsHills  PlainsMountain  PlainsRainforest  Plains  \\\n",
      "1       1       0.1579          0.0526            0.0526  0.3158   \n",
      "2       2       0.0526          0.0000            0.1579  0.1053   \n",
      "3       3       0.0526          0.0000            0.0526  0.3158   \n",
      "4       4       0.0526          0.0000            0.1053  0.2105   \n",
      "5       5       0.0000          0.0000            0.0526  0.0000   \n",
      "\n",
      "   PlainsHillsWoods  DesertHills  PlainsWoods  PlainsHillsRainforest  \\\n",
      "1            0.1053       0.0526       0.1579                 0.0526   \n",
      "2            0.0526       0.1053       0.1053                 0.0000   \n",
      "3            0.0000       0.0000       0.1053                 0.0000   \n",
      "4            0.0526       0.0000       0.0526                 0.0000   \n",
      "5            0.0000       0.0000       0.0000                 0.0000   \n",
      "\n",
      "   Grassland      ...       Bananas    Fish   Stone  Cattle  Horses    Deer  \\\n",
      "1     0.0526      ...        0.0000  0.0000  0.0000  0.0000  0.0000  0.0000   \n",
      "2     0.0000      ...        0.0526  0.0526  0.0000  0.0000  0.0000  0.0000   \n",
      "3     0.2632      ...        0.0000  0.0000  0.1053  0.0526  0.0000  0.0000   \n",
      "4     0.0000      ...        0.0000  0.0526  0.0000  0.0000  0.0000  0.0000   \n",
      "5     0.3684      ...        0.0000  0.0000  0.0000  0.0000  0.0526  0.0526   \n",
      "\n",
      "   Rice  Crabs  Copper  cityHasRiver  \n",
      "1   0.0    0.0     0.0             1  \n",
      "2   0.0    0.0     0.0             1  \n",
      "3   0.0    0.0     0.0             1  \n",
      "4   0.0    0.0     0.0             0  \n",
      "5   0.0    0.0     0.0             1  \n",
      "\n",
      "[5 rows x 41 columns]\n",
      "cityId                     int32\n",
      "PlainsHills              float64\n",
      "PlainsMountain           float64\n",
      "PlainsRainforest         float64\n",
      "Plains                   float64\n",
      "PlainsHillsWoods         float64\n",
      "DesertHills              float64\n",
      "PlainsWoods              float64\n",
      "PlainsHillsRainforest    float64\n",
      "Grassland                float64\n",
      "CoastLake                float64\n",
      "GrasslandHills           float64\n",
      "DesertMountain           float64\n",
      "Desert                   float64\n",
      "GrasslandWoods           float64\n",
      "GrasslandMarsh           float64\n",
      "Ocean                    float64\n",
      "Tundra                   float64\n",
      "Snow                     float64\n",
      "GrasslandHillsWoods      float64\n",
      "GrasslandMountain        float64\n",
      "CoastLakeReef            float64\n",
      "DesertFloodplains        float64\n",
      "TundraWoods              float64\n",
      "TundraMountain           float64\n",
      "TundraHills              float64\n",
      "DesertOasis              float64\n",
      "TundraHillsWoods         float64\n",
      "Sheep                    float64\n",
      "Lux                      float64\n",
      "Wheat                    float64\n",
      "Bananas                  float64\n",
      "Fish                     float64\n",
      "Stone                    float64\n",
      "Cattle                   float64\n",
      "Horses                   float64\n",
      "Deer                     float64\n",
      "Rice                     float64\n",
      "Crabs                    float64\n",
      "Copper                   float64\n",
      "cityHasRiver               int32\n",
      "dtype: object\n"
     ]
    }
   ],
   "source": [
    "print(featuresDf.head())\n",
    "print(featuresDf.dtypes)"
   ]
  },
  {
   "cell_type": "code",
   "execution_count": 11,
   "metadata": {
    "scrolled": true
   },
   "outputs": [],
   "source": [
    "# Bad things happen downstream if you forget the encoding ... don't forget!\n",
    "featuresDf.to_csv('ModelInput/features.csv', encoding='utf-8', index=False)"
   ]
  },
  {
   "cell_type": "code",
   "execution_count": null,
   "metadata": {},
   "outputs": [],
   "source": []
  }
 ],
 "metadata": {
  "kernelspec": {
   "display_name": "Python 3",
   "language": "python",
   "name": "python3"
  },
  "language_info": {
   "codemirror_mode": {
    "name": "ipython",
    "version": 3
   },
   "file_extension": ".py",
   "mimetype": "text/x-python",
   "name": "python",
   "nbconvert_exporter": "python",
   "pygments_lexer": "ipython3",
   "version": "3.6.7"
  }
 },
 "nbformat": 4,
 "nbformat_minor": 2
}
