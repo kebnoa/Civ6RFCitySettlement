{
 "cells": [
  {
   "cell_type": "markdown",
   "metadata": {},
   "source": [
    "# Explore the plots, when settling a city, measurements\n",
    "\n",
    "The database contains all the plots in the first two rings from the city centre, that is:\n",
    "- city centre is in ring 0 and contains 1 plot,\n",
    "- adjacent to city tiles are ring 1 and contains 6 plots,\n",
    "- those 2 tiles away are ring 2 and contains 12 plots.\n",
    "\n",
    "That means we capture the 19 nearest tiles' plot information.\n",
    "\n",
    "Data captured per tile includes:\n",
    "- owner of plot at the time the city was settled. (Most civ's start with 7/19 tiles)\n",
    "- recordedCityId is an identifier of all the tiles that \"could\" belong to a city when settled\n",
    "- terrain information\n",
    "- features information\n",
    "- resource, resourceCount, and resourceType information\n",
    "- workers on plot count\n",
    "- district on plot - this is unlikely to be anything other than 'City Centre'\n",
    "- hasRiver - does the plot have an adjacent river\n",
    "- isWater - is the plot water\n",
    "- isLake - is the plot part of a lake\n",
    "- isCity - only true once per city...\n",
    "\n",
    "The purpose of this workbook is to investigate how to present this information as input to the ML model.\n",
    "\n",
    "I purposely did not capture the \"yields\" to make the Machine Learning Classification challenge more realistic. Also, there is no relation between any of the database Id values and the in-game Ids"
   ]
  },
  {
   "cell_type": "code",
   "execution_count": 1,
   "metadata": {},
   "outputs": [],
   "source": [
    "import sqlite3\n",
    "import matplotlib.pyplot as plt\n",
    "import pandas as pd\n",
    "#pd.set_option('display.height', 1000)\n",
    "pd.set_option('display.max_rows', 200)\n",
    "pd.set_option('display.max_columns', 10)\n",
    "pd.set_option('display.width', 700)\n",
    "pd.set_option('display.max_colwidth', 100)"
   ]
  },
  {
   "cell_type": "code",
   "execution_count": 2,
   "metadata": {},
   "outputs": [],
   "source": [
    "cnx = sqlite3.connect('Database/Civ6CitySettledData.db')\n",
    "cur = cnx.cursor()\n",
    "#print(cnx)\n",
    "#print(cur)"
   ]
  },
  {
   "cell_type": "markdown",
   "metadata": {},
   "source": [
    "## Retrieve the city plots as settled data\n",
    "cityPlotsSettled contains the city plot, adjacent to city plots, and 2 tiles from city plots information at the time the city was settled. The idea is to look at this information and \"predict\" the yield performance of the city.\n",
    "\n",
    "The primary identity for this database is the cityId. That is, this database (and experiment) is designed to look at city growth over time. The same cityName, leaderName etc. can occur in multiple games so when we add the recorded information for the game we create new cityIds."
   ]
  },
  {
   "cell_type": "code",
   "execution_count": 3,
   "metadata": {},
   "outputs": [
    {
     "name": "stdout",
     "output_type": "stream",
     "text": [
      "(9538, 15)\n",
      "plotId              int64\n",
      "ownerCityId       float64\n",
      "recordedCityId      int64\n",
      "ring                int64\n",
      "terrain            object\n",
      "feature            object\n",
      "resource           object\n",
      "resourceCount       int64\n",
      "resourceType       object\n",
      "workers             int64\n",
      "district           object\n",
      "hasRiver            int64\n",
      "isWater             int64\n",
      "isLake              int64\n",
      "isCity              int64\n",
      "dtype: object\n"
     ]
    }
   ],
   "source": [
    "# After experimentation I decided to use all the plots within 2 tiles from the city centre.\n",
    "sqlSelect = 'SELECT * FROM cityPlotsSettled'\n",
    "\n",
    "# Other options I experimented with are:\n",
    "#sqlSelect = 'SELECT * FROM cityPlotsSettled WHERE ownerCityId <> \"None\"'\n",
    "#sqlSelect = 'SELECT * FROM cityPlotsSettled WHERE ring == 0'\n",
    "#sqlSelect = 'SELECT * FROM cityPlotsSettled WHERE ring == 1'\n",
    "#sqlSelect = 'SELECT * FROM cityPlotsSettled WHERE ring == 2'\n",
    "\n",
    "cityPs = pd.read_sql_query(sqlSelect, cnx)\n",
    "print(cityPs.shape)\n",
    "print(cityPs.dtypes)"
   ]
  },
  {
   "cell_type": "markdown",
   "metadata": {},
   "source": [
    "## Plot terrain counts"
   ]
  },
  {
   "cell_type": "code",
   "execution_count": 4,
   "metadata": {
    "scrolled": false
   },
   "outputs": [
    {
     "name": "stdout",
     "output_type": "stream",
     "text": [
      "                      Count\n",
      "terrain                    \n",
      "Grassland              2476\n",
      "Plains                 2409\n",
      "Plains (Hills)          996\n",
      "Coast and Lake          992\n",
      "Grassland (Hills)       971\n",
      "Desert                  537\n",
      "Grassland (Mountain)    286\n",
      "Desert (Hills)          216\n",
      "Plains (Mountain)       214\n",
      "Tundra                  197\n",
      "Ocean                   100\n",
      "Desert (Mountain)        69\n",
      "Tundra (Hills)           58\n",
      "Tundra (Mountain)        16\n",
      "Snow                      1\n"
     ]
    }
   ],
   "source": [
    "df = cityPs[['plotId', 'terrain']].groupby('terrain').count().sort_values(by='plotId', ascending=False)\n",
    "df.rename(columns={'plotId':'Count'}, inplace=True)\n",
    "print(df)"
   ]
  },
  {
   "cell_type": "markdown",
   "metadata": {},
   "source": [
    "## Plot features counts\n",
    "City doesn't have features as they are \"removed\" when settled"
   ]
  },
  {
   "cell_type": "code",
   "execution_count": 5,
   "metadata": {},
   "outputs": [
    {
     "name": "stdout",
     "output_type": "stream",
     "text": [
      "             Count\n",
      "feature           \n",
      "None          6963\n",
      "Woods         1294\n",
      "Rainforest     818\n",
      "Marsh          226\n",
      "Floodplains    164\n",
      "Reef            60\n",
      "Oasis           13\n"
     ]
    }
   ],
   "source": [
    "df = cityPs[['plotId', 'feature']].groupby('feature').count().sort_values(by='plotId', ascending=False)\n",
    "df.rename(columns={'plotId':'Count'}, inplace=True)\n",
    "print(df)"
   ]
  },
  {
   "cell_type": "markdown",
   "metadata": {},
   "source": [
    "## Plot resource counts"
   ]
  },
  {
   "cell_type": "code",
   "execution_count": 6,
   "metadata": {},
   "outputs": [
    {
     "name": "stdout",
     "output_type": "stream",
     "text": [
      "          Count\n",
      "resource       \n",
      "None       7478\n",
      "Stone       274\n",
      "Wheat       221\n",
      "Cattle      121\n",
      "Rice        113\n",
      "Bananas     107\n",
      "Sheep        99\n",
      "Horses       86\n",
      "Fish         70\n",
      "Uranium      62\n",
      "Iron         55\n",
      "Aluminum     54\n",
      "Coal         54\n",
      "Copper       52\n",
      "Deer         51\n",
      "Niter        46\n",
      "Gypsum       34\n",
      "Crabs        34\n",
      "Jade         33\n",
      "Amber        32\n",
      "Oil          28\n",
      "Sugar        27\n",
      "Spices       25\n",
      "Tobacco      24\n",
      "Turtles      23\n",
      "Wine         23\n",
      "Ivory        23\n",
      "Tea          22\n",
      "Coffee       21\n",
      "Mercury      20\n",
      "Furs         20\n",
      "Salt         20\n",
      "Cotton       20\n",
      "Marble       18\n",
      "Silk         18\n",
      "Truffles     15\n",
      "Citrus       15\n",
      "Olives       14\n",
      "Diamonds     14\n",
      "Incense      13\n",
      "Cocoa        13\n",
      "Dyes         13\n",
      "Silver       12\n",
      "Whales       12\n",
      "Pearls        9\n"
     ]
    }
   ],
   "source": [
    "df = cityPs[['plotId', 'resource']].groupby('resource').count().sort_values(by='plotId', ascending=False)\n",
    "#print(len(cityPs[['plotId', 'resource']].groupby('resource').count().sort_values(by='plotId', ascending=False)))\n",
    "df.rename(columns={'plotId':'Count'}, inplace=True)\n",
    "print(df)"
   ]
  },
  {
   "cell_type": "code",
   "execution_count": 7,
   "metadata": {},
   "outputs": [],
   "source": [
    "#print(cityPs[['plotId', 'resourceType']].groupby('resourceType').count().sort_values(by='plotId', ascending=False))"
   ]
  },
  {
   "cell_type": "code",
   "execution_count": 8,
   "metadata": {},
   "outputs": [],
   "source": [
    "#print(cityPs[['plotId', 'district']].groupby('district').count().sort_values(by='plotId', ascending=False))"
   ]
  },
  {
   "cell_type": "code",
   "execution_count": 9,
   "metadata": {},
   "outputs": [
    {
     "name": "stdout",
     "output_type": "stream",
     "text": [
      "          Count\n",
      "hasRiver       \n",
      "0          5875\n",
      "1          3663\n"
     ]
    }
   ],
   "source": [
    "df = cityPs[['plotId', 'hasRiver']].groupby('hasRiver').count().sort_values(by='plotId', ascending=False)\n",
    "df.rename(columns={'plotId':'Count'}, inplace=True)\n",
    "print(df)"
   ]
  },
  {
   "cell_type": "code",
   "execution_count": 10,
   "metadata": {},
   "outputs": [],
   "source": [
    "#print(cityPs[['plotId', 'resourceCount']].groupby('resourceCount').count().sort_values(by='plotId', ascending=False))"
   ]
  },
  {
   "cell_type": "code",
   "execution_count": null,
   "metadata": {},
   "outputs": [],
   "source": []
  },
  {
   "cell_type": "code",
   "execution_count": 11,
   "metadata": {},
   "outputs": [],
   "source": [
    "#cityPs[cityPs['resourceType'] == 'Strategic'].resource.unique()\n",
    "#cityPs[cityPs['resourceType'] == 'Luxury'].resource.unique()\n",
    "#cityPs[cityPs['resourceType'] == 'Bonus'].resource.unique()"
   ]
  },
  {
   "cell_type": "code",
   "execution_count": 12,
   "metadata": {},
   "outputs": [],
   "source": [
    "#cols = list(cityPs['category'].unique())\n",
    "#print(type(cols))\n",
    "#print(len(cols))\n",
    "#print(cols)"
   ]
  },
  {
   "cell_type": "code",
   "execution_count": 13,
   "metadata": {},
   "outputs": [],
   "source": [
    "cur.close()\n",
    "cnx.close()"
   ]
  },
  {
   "cell_type": "code",
   "execution_count": null,
   "metadata": {},
   "outputs": [],
   "source": []
  }
 ],
 "metadata": {
  "kernelspec": {
   "display_name": "Python 3",
   "language": "python",
   "name": "python3"
  },
  "language_info": {
   "codemirror_mode": {
    "name": "ipython",
    "version": 3
   },
   "file_extension": ".py",
   "mimetype": "text/x-python",
   "name": "python",
   "nbconvert_exporter": "python",
   "pygments_lexer": "ipython3",
   "version": "3.6.7"
  }
 },
 "nbformat": 4,
 "nbformat_minor": 2
}
