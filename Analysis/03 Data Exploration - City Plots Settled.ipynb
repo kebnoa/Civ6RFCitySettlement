{
 "cells": [
  {
   "cell_type": "code",
   "execution_count": 1,
   "metadata": {},
   "outputs": [],
   "source": [
    "import sqlite3\n",
    "import matplotlib.pyplot as plt\n",
    "import pandas as pd\n",
    "#pd.set_option('display.height', 1000)\n",
    "pd.set_option('display.max_rows', 200)\n",
    "pd.set_option('display.max_columns', 10)\n",
    "pd.set_option('display.width', 700)"
   ]
  },
  {
   "cell_type": "code",
   "execution_count": 2,
   "metadata": {},
   "outputs": [
    {
     "name": "stdout",
     "output_type": "stream",
     "text": [
      "<sqlite3.Connection object at 0x00000268EF336110>\n",
      "<sqlite3.Cursor object at 0x00000268EF2DB810>\n"
     ]
    }
   ],
   "source": [
    "cnx = sqlite3.connect('Database/Civ6CitySettledData.db')\n",
    "cur = cnx.cursor()\n",
    "print(cnx)\n",
    "print(cur)"
   ]
  },
  {
   "cell_type": "markdown",
   "metadata": {},
   "source": [
    "## Retrieve the city plots as settled data\n",
    "cityPlotsSettled contains the city plot, adjacent to city plots, and 2 tiles from city plots information at the time the city was settled. The idea is to look at this information and \"predict\" the yield performance of the city.\n",
    "\n",
    "The base identiy for this database is the cityId. That is, in this database (and experiment) is designed to look at city growth over time. The same cityName can occur in multiple games so when we add the recorded information for the game we create new cityIds."
   ]
  },
  {
   "cell_type": "code",
   "execution_count": 3,
   "metadata": {},
   "outputs": [
    {
     "name": "stdout",
     "output_type": "stream",
     "text": [
      "(2432, 15)\n",
      "plotId              int64\n",
      "ownerCityId       float64\n",
      "recordedCityId      int64\n",
      "ring                int64\n",
      "terrain            object\n",
      "feature            object\n",
      "resource           object\n",
      "resourceCount       int64\n",
      "resourceType       object\n",
      "workers             int64\n",
      "district           object\n",
      "hasRiver            int64\n",
      "isWater             int64\n",
      "isLake              int64\n",
      "isCity              int64\n",
      "dtype: object\n"
     ]
    }
   ],
   "source": [
    "sqlSelect = 'SELECT * FROM cityPlotsSettled'\n",
    "#sqlSelect = 'SELECT * FROM cityPlotsSettled WHERE ownerCityId <> \"None\"'\n",
    "#sqlSelect = 'SELECT * FROM cityPlotsSettled WHERE ring == 0'\n",
    "#sqlSelect = 'SELECT * FROM cityPlotsSettled WHERE ring == 1'\n",
    "#sqlSelect = 'SELECT * FROM cityPlotsSettled WHERE ring == 2'\n",
    "cityPs = pd.read_sql_query(sqlSelect, cnx)\n",
    "print(cityPs.shape)\n",
    "print(cityPs.dtypes)"
   ]
  },
  {
   "cell_type": "code",
   "execution_count": 4,
   "metadata": {
    "scrolled": false
   },
   "outputs": [
    {
     "name": "stdout",
     "output_type": "stream",
     "text": [
      "                      plotId\n",
      "terrain                     \n",
      "Grassland                613\n",
      "Plains                   595\n",
      "Grassland (Hills)        287\n",
      "Coast and Lake           266\n",
      "Plains (Hills)           259\n",
      "Desert                   138\n",
      "Grassland (Mountain)      65\n",
      "Desert (Hills)            53\n",
      "Plains (Mountain)         44\n",
      "Tundra                    44\n",
      "Ocean                     30\n",
      "Desert (Mountain)         18\n",
      "Tundra (Hills)            15\n",
      "Tundra (Mountain)          4\n",
      "Snow                       1\n"
     ]
    }
   ],
   "source": [
    "print(cityPs[['plotId', 'terrain']].groupby('terrain').count().sort_values(by='plotId', ascending=False))"
   ]
  },
  {
   "cell_type": "code",
   "execution_count": 6,
   "metadata": {},
   "outputs": [
    {
     "name": "stdout",
     "output_type": "stream",
     "text": [
      "             plotId\n",
      "feature            \n",
      "None           1793\n",
      "Woods           333\n",
      "Rainforest      206\n",
      "Marsh            54\n",
      "Floodplains      31\n",
      "Reef             12\n",
      "Oasis             3\n"
     ]
    }
   ],
   "source": [
    "print(cityPs[['plotId', 'feature']].groupby('feature').count().sort_values(by='plotId', ascending=False))"
   ]
  },
  {
   "cell_type": "code",
   "execution_count": 7,
   "metadata": {},
   "outputs": [
    {
     "name": "stdout",
     "output_type": "stream",
     "text": [
      "          plotId\n",
      "resource        \n",
      "None        1902\n",
      "Stone         59\n",
      "Wheat         57\n",
      "Rice          33\n",
      "Cattle        31\n",
      "Fish          27\n",
      "Bananas       24\n",
      "Sheep         24\n",
      "Horses        22\n",
      "Iron          18\n",
      "Coal          17\n",
      "Deer          16\n",
      "Aluminum      15\n",
      "Uranium       13\n",
      "Copper        12\n",
      "Niter         12\n",
      "Crabs         10\n",
      "Cotton        10\n",
      "Gypsum        10\n",
      "Jade           8\n",
      "Wine           8\n",
      "Furs           8\n",
      "Mercury        7\n",
      "Turtles        7\n",
      "Ivory          7\n",
      "Silk           6\n",
      "Oil            6\n",
      "Truffles       6\n",
      "Tobacco        6\n",
      "Diamonds       6\n",
      "Citrus         5\n",
      "Marble         5\n",
      "Dyes           5\n",
      "Pearls         5\n",
      "Spices         4\n",
      "Incense        4\n",
      "Salt           3\n",
      "Cocoa          3\n",
      "Coffee         2\n",
      "Sugar          2\n",
      "Tea            2\n",
      "Olives         2\n",
      "Whales         2\n",
      "Silver         1\n",
      "44\n"
     ]
    }
   ],
   "source": [
    "print(cityPs[['plotId', 'resource']].groupby('resource').count().sort_values(by='plotId', ascending=False))\n",
    "print(len(cityPs[['plotId', 'resource']].groupby('resource').count().sort_values(by='plotId', ascending=False)))"
   ]
  },
  {
   "cell_type": "code",
   "execution_count": 7,
   "metadata": {},
   "outputs": [],
   "source": [
    "#print(cityPs[['plotId', 'resourceType']].groupby('resourceType').count().sort_values(by='plotId', ascending=False))"
   ]
  },
  {
   "cell_type": "code",
   "execution_count": 8,
   "metadata": {},
   "outputs": [],
   "source": [
    "#print(cityPs[['plotId', 'district']].groupby('district').count().sort_values(by='plotId', ascending=False))"
   ]
  },
  {
   "cell_type": "code",
   "execution_count": 9,
   "metadata": {},
   "outputs": [],
   "source": [
    "print(cityPs[['plotId', 'hasRiver']].groupby('hasRiver').count().sort_values(by='plotId', ascending=False))"
   ]
  },
  {
   "cell_type": "code",
   "execution_count": 10,
   "metadata": {},
   "outputs": [],
   "source": [
    "#print(cityPs[['plotId', 'resourceCount']].groupby('resourceCount').count().sort_values(by='plotId', ascending=False))"
   ]
  },
  {
   "cell_type": "code",
   "execution_count": 11,
   "metadata": {},
   "outputs": [],
   "source": []
  },
  {
   "cell_type": "code",
   "execution_count": 12,
   "metadata": {},
   "outputs": [],
   "source": [
    "#cityPs[cityPs['resourceType'] == 'Strategic'].resource.unique()\n",
    "#cityPs[cityPs['resourceType'] == 'Luxury'].resource.unique()\n",
    "#cityPs[cityPs['resourceType'] == 'Bonus'].resource.unique()"
   ]
  },
  {
   "cell_type": "code",
   "execution_count": 13,
   "metadata": {},
   "outputs": [],
   "source": [
    "#cols = list(cityPs['category'].unique())\n",
    "#print(type(cols))\n",
    "#print(len(cols))\n",
    "#print(cols)"
   ]
  },
  {
   "cell_type": "code",
   "execution_count": 18,
   "metadata": {},
   "outputs": [],
   "source": [
    "cur.close()\n",
    "cnx.close()"
   ]
  }
 ],
 "metadata": {
  "kernelspec": {
   "display_name": "Python 3",
   "language": "python",
   "name": "python3"
  },
  "language_info": {
   "codemirror_mode": {
    "name": "ipython",
    "version": 3
   },
   "file_extension": ".py",
   "mimetype": "text/x-python",
   "name": "python",
   "nbconvert_exporter": "python",
   "pygments_lexer": "ipython3",
   "version": "3.7.1"
  }
 },
 "nbformat": 4,
 "nbformat_minor": 2
}
