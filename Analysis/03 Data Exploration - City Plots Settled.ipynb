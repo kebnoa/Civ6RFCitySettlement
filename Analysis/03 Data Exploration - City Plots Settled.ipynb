{
 "cells": [
  {
   "cell_type": "code",
   "execution_count": 1,
   "metadata": {},
   "outputs": [],
   "source": [
    "import sqlite3\n",
    "import matplotlib.pyplot as plt\n",
    "import pandas as pd\n",
    "#pd.set_option('display.height', 1000)\n",
    "pd.set_option('display.max_rows', 200)\n",
    "pd.set_option('display.max_columns', 10)\n",
    "pd.set_option('display.width', 700)"
   ]
  },
  {
   "cell_type": "code",
   "execution_count": 2,
   "metadata": {},
   "outputs": [
    {
     "name": "stdout",
     "output_type": "stream",
     "text": [
      "<sqlite3.Connection object at 0x0000026BF33ED1F0>\n",
      "<sqlite3.Cursor object at 0x0000026BF5C7CE30>\n"
     ]
    }
   ],
   "source": [
    "cnx = sqlite3.connect('Database/Civ6CitySettledData.db')\n",
    "cur = cnx.cursor()\n",
    "print(cnx)\n",
    "print(cur)"
   ]
  },
  {
   "cell_type": "markdown",
   "metadata": {},
   "source": [
    "## Retrieve the city plots as settled data\n",
    "cityPlotsSettled contains the city plot, adjacent to city plots, and 2 tiles from city plots information at the time the city was settled. The idea is to look at this information and \"predict\" the yield performance of the city.\n",
    "\n",
    "The base identiy for this database is the cityId. That is, in this database (and experiment) is designed to look at city growth over time. The same cityName can occur in multiple games so when we add the recorded information for the game we create new cityIds."
   ]
  },
  {
   "cell_type": "code",
   "execution_count": 8,
   "metadata": {},
   "outputs": [
    {
     "name": "stdout",
     "output_type": "stream",
     "text": [
      "(1711, 15)\n",
      "plotId             int64\n",
      "ownerCityId        int64\n",
      "recordedCityId     int64\n",
      "ring               int64\n",
      "terrain           object\n",
      "feature           object\n",
      "resource          object\n",
      "resourceCount      int64\n",
      "resourceType      object\n",
      "workers            int64\n",
      "district          object\n",
      "hasRiver           int64\n",
      "isWater            int64\n",
      "isLake             int64\n",
      "isCity             int64\n",
      "dtype: object\n"
     ]
    }
   ],
   "source": [
    "#sqlSelect = 'SELECT * FROM cityPlotsSettled'\n",
    "sqlSelect = 'SELECT * FROM cityPlotsSettled WHERE ownerCityId <> \"None\"'\n",
    "#sqlSelect = 'SELECT * FROM cityPlotsSettled WHERE ring == 0'\n",
    "#sqlSelect = 'SELECT * FROM cityPlotsSettled WHERE ring == 1'\n",
    "#sqlSelect = 'SELECT * FROM cityPlotsSettled WHERE ring == 2'\n",
    "cityPs = pd.read_sql_query(sqlSelect, cnx)\n",
    "print(cityPs.shape)\n",
    "print(cityPs.dtypes)"
   ]
  },
  {
   "cell_type": "code",
   "execution_count": 4,
   "metadata": {
    "scrolled": false
   },
   "outputs": [
    {
     "name": "stdout",
     "output_type": "stream",
     "text": [
      "                   plotId\n",
      "terrain                  \n",
      "Plains (Hills)         71\n",
      "Grassland (Hills)      56\n",
      "Grassland              54\n",
      "Plains                 34\n",
      "Desert                 16\n",
      "Desert (Hills)          2\n"
     ]
    }
   ],
   "source": [
    "print(cityPs[['plotId', 'terrain']].groupby('terrain').count().sort_values(by='plotId', ascending=False))"
   ]
  },
  {
   "cell_type": "code",
   "execution_count": 5,
   "metadata": {},
   "outputs": [
    {
     "name": "stdout",
     "output_type": "stream",
     "text": [
      "         plotId\n",
      "feature        \n",
      "None        233\n"
     ]
    }
   ],
   "source": [
    "print(cityPs[['plotId', 'feature']].groupby('feature').count().sort_values(by='plotId', ascending=False))"
   ]
  },
  {
   "cell_type": "code",
   "execution_count": 6,
   "metadata": {},
   "outputs": [
    {
     "name": "stdout",
     "output_type": "stream",
     "text": [
      "          plotId\n",
      "resource        \n",
      "None         229\n",
      "Stone          3\n",
      "Cattle         1\n",
      "3\n"
     ]
    }
   ],
   "source": [
    "print(cityPs[['plotId', 'resource']].groupby('resource').count().sort_values(by='plotId', ascending=False))\n",
    "print(len(cityPs[['plotId', 'resource']].groupby('resource').count().sort_values(by='plotId', ascending=False)))"
   ]
  },
  {
   "cell_type": "code",
   "execution_count": 7,
   "metadata": {},
   "outputs": [],
   "source": [
    "#print(cityPs[['plotId', 'resourceType']].groupby('resourceType').count().sort_values(by='plotId', ascending=False))"
   ]
  },
  {
   "cell_type": "code",
   "execution_count": 8,
   "metadata": {},
   "outputs": [],
   "source": [
    "#print(cityPs[['plotId', 'district']].groupby('district').count().sort_values(by='plotId', ascending=False))"
   ]
  },
  {
   "cell_type": "code",
   "execution_count": 7,
   "metadata": {},
   "outputs": [
    {
     "name": "stdout",
     "output_type": "stream",
     "text": [
      "          plotId\n",
      "hasRiver        \n",
      "1            190\n",
      "0             43\n"
     ]
    }
   ],
   "source": [
    "print(cityPs[['plotId', 'hasRiver']].groupby('hasRiver').count().sort_values(by='plotId', ascending=False))"
   ]
  },
  {
   "cell_type": "code",
   "execution_count": 10,
   "metadata": {},
   "outputs": [],
   "source": [
    "#print(cityPs[['plotId', 'resourceCount']].groupby('resourceCount').count().sort_values(by='plotId', ascending=False))"
   ]
  },
  {
   "cell_type": "code",
   "execution_count": 11,
   "metadata": {},
   "outputs": [],
   "source": []
  },
  {
   "cell_type": "code",
   "execution_count": 12,
   "metadata": {},
   "outputs": [],
   "source": [
    "#cityPs[cityPs['resourceType'] == 'Strategic'].resource.unique()\n",
    "#cityPs[cityPs['resourceType'] == 'Luxury'].resource.unique()\n",
    "#cityPs[cityPs['resourceType'] == 'Bonus'].resource.unique()"
   ]
  },
  {
   "cell_type": "code",
   "execution_count": 13,
   "metadata": {},
   "outputs": [],
   "source": [
    "#cols = list(cityPs['category'].unique())\n",
    "#print(type(cols))\n",
    "#print(len(cols))\n",
    "#print(cols)"
   ]
  },
  {
   "cell_type": "code",
   "execution_count": 18,
   "metadata": {},
   "outputs": [],
   "source": [
    "cur.close()\n",
    "cnx.close()"
   ]
  }
 ],
 "metadata": {
  "kernelspec": {
   "display_name": "Python 3",
   "language": "python",
   "name": "python3"
  },
  "language_info": {
   "codemirror_mode": {
    "name": "ipython",
    "version": 3
   },
   "file_extension": ".py",
   "mimetype": "text/x-python",
   "name": "python",
   "nbconvert_exporter": "python",
   "pygments_lexer": "ipython3",
   "version": "3.6.7"
  }
 },
 "nbformat": 4,
 "nbformat_minor": 2
}
