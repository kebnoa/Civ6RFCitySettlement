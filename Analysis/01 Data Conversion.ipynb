{
 "cells": [
  {
   "cell_type": "code",
   "execution_count": 25,
   "metadata": {},
   "outputs": [],
   "source": [
    "import json\n",
    "import pandas as pd"
   ]
  },
  {
   "cell_type": "code",
   "execution_count": 2,
   "metadata": {},
   "outputs": [],
   "source": [
    "jsonData = open('RawData/20181120_01.json').read()"
   ]
  },
  {
   "cell_type": "code",
   "execution_count": 47,
   "metadata": {},
   "outputs": [
    {
     "name": "stdout",
     "output_type": "stream",
     "text": [
      "l\n"
     ]
    }
   ],
   "source": []
  },
  {
   "cell_type": "code",
   "execution_count": 48,
   "metadata": {},
   "outputs": [
    {
     "name": "stdout",
     "output_type": "stream",
     "text": [
      "<class 'dict'>\n",
      "{'mapType': 'ToDo', 'gameSpeed': 'Standard', 'leader': 'Gilgamesh', 'mapSize': 'Duel', 'startEra': 'Ancient Era', 'ruleSet': 'RULESET_EXPANSION_1', 'players': [{'playerName': 'Gilgamesh', 'playerCiv': 'Sumeria'}, {'playerName': 'Montezuma', 'playerCiv': 'Aztec'}, {'playerName': 'Bandar Brunei', 'playerCiv': 'Bandar Brunei'}, {'playerName': 'Babylon', 'playerCiv': 'Babylon'}, {'playerName': 'Hong Kong', 'playerCiv': 'Hong Kong'}], 'difficulty': 'Prince'}\n"
     ]
    }
   ],
   "source": [
    "rawData = json.loads(jsonData)\n",
    "#print(type(rawData))\n",
    "#print(rawData)\n",
    "#print(rawData['gameConfig'][0]['mapType'])\n"
   ]
  },
  {
   "cell_type": "code",
   "execution_count": 64,
   "metadata": {},
   "outputs": [
    {
     "name": "stdout",
     "output_type": "stream",
     "text": [
      "Gilgamesh\n",
      "<class 'list'>\n"
     ]
    }
   ],
   "source": [
    "print(rawData['gameConfig'][0]['players'][0]['playerName'])\n",
    "print(type(rawData['gameConfig'][0]['players']))"
   ]
  },
  {
   "cell_type": "code",
   "execution_count": 70,
   "metadata": {},
   "outputs": [
    {
     "name": "stdout",
     "output_type": "stream",
     "text": [
      "Gilgamesh Sumeria\n",
      "Montezuma Aztec\n",
      "Bandar Brunei Bandar Brunei\n",
      "Babylon Babylon\n",
      "Hong Kong Hong Kong\n"
     ]
    }
   ],
   "source": [
    "for row in rawData['gameConfig'][0]['players']:\n",
    "    print(row['playerName'], row['playerCiv'])"
   ]
  },
  {
   "cell_type": "code",
   "execution_count": 38,
   "metadata": {},
   "outputs": [
    {
     "name": "stdout",
     "output_type": "stream",
     "text": [
      "{'mapType': 'ToDo', 'gameSpeed': 'Standard', 'leader': 'Gilgamesh', 'mapSize': 'Duel', 'startEra': 'Ancient Era', 'ruleSet': 'RULESET_EXPANSION_1', 'players': [{'playerName': 'Gilgamesh', 'playerCiv': 'Sumeria'}, {'playerName': 'Montezuma', 'playerCiv': 'Aztec'}, {'playerName': 'Bandar Brunei', 'playerCiv': 'Bandar Brunei'}, {'playerName': 'Babylon', 'playerCiv': 'Babylon'}, {'playerName': 'Hong Kong', 'playerCiv': 'Hong Kong'}], 'difficulty': 'Prince'}\n"
     ]
    }
   ],
   "source": [
    "for row in gameConfigList:\n",
    "    print(row)"
   ]
  },
  {
   "cell_type": "code",
   "execution_count": null,
   "metadata": {},
   "outputs": [],
   "source": []
  }
 ],
 "metadata": {
  "kernelspec": {
   "display_name": "Python 3",
   "language": "python",
   "name": "python3"
  },
  "language_info": {
   "codemirror_mode": {
    "name": "ipython",
    "version": 3
   },
   "file_extension": ".py",
   "mimetype": "text/x-python",
   "name": "python",
   "nbconvert_exporter": "python",
   "pygments_lexer": "ipython3",
   "version": "3.7.0"
  }
 },
 "nbformat": 4,
 "nbformat_minor": 2
}
