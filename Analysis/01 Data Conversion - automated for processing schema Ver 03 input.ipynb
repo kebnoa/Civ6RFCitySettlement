{
 "cells": [
  {
   "cell_type": "markdown",
   "metadata": {},
   "source": [
    "# Convert and upload the json input data to the Sqlite database\n",
    "All the real work happens in the Civ6CitySettlementJsonLoader python module in the Analysis folder of this project.\n",
    "\n",
    "The Civ6CitySettlementJsonLoader.Loader class is initialised with the json file to import. It follows the following high level plan:\n",
    "1. Checks if the jsonDataFilename exists and retrieves the \"jsonSchemaVersion\" number.\n",
    "2. Validates the jsonDataFile content:\n",
    "       2.1 against the jsonSchemaVersion, i.e. tests the json input is in the expected format.\n",
    "       2.2 by loading it into an InMemory database to ensure no load errors\n",
    "3. Then opens the actual sqlite database connection and uploads the data"
   ]
  },
  {
   "cell_type": "code",
   "execution_count": 1,
   "metadata": {},
   "outputs": [],
   "source": [
    "import Civ6CitySettlementJsonLoader as ccjl"
   ]
  },
  {
   "cell_type": "markdown",
   "metadata": {},
   "source": [
    "Uncomment the following cell and then run the notebook to upload the json files to the database. It is commented out by default to avoid loading the same datafile multiple times. At the moment there is no sensible way to prevent data being uploaded multiple times.\n",
    "\n",
    "It is possible to remove the duplicated data, but it is a pain. Handle this step with care!"
   ]
  },
  {
   "cell_type": "code",
   "execution_count": 2,
   "metadata": {},
   "outputs": [],
   "source": [
    "#FilesToLoad = ['RawData/20181129_01.json', 'RawData/20181129_02.json', 'RawData/20181129_03.json']\n",
    "#FilesToLoad = ['RawData/20181207_01.json']\n",
    "#FilesToLoad = ['RawData/20181208_01.json']\n",
    "#FilesToLoad = ['RawData/20181208_02.json', 'RawData/20181208_03.json']\n",
    "#FilesToLoad = ['RawData/20181209_01.json']\n",
    "#FilesToLoad = ['RawData/20181209_02.json', 'RawData/20181209_03.json']\n",
    "#FilesToLoad = ['RawData/20181210_01.json']\n",
    "#FilesToLoad = ['RawData/20181211_01.json']\n",
    "#FilesToLoad = ['RawData/20181213_01.json', 'RawData/20181213_02.json', 'RawData/20181213_03.json']\n",
    "#FilesToLoad = ['RawData/20181213_04.json']\n",
    "#FilesToLoad = ['RawData/20181214_01.json']\n",
    "#FilesToLoad = ['RawData/20181214_02.json']\n",
    "#FilesToLoad = ['RawData/20181214_03.json']\n",
    "FilesToLoad = ['RawData/20181214_04.json', 'RawData/20181214_05.json', 'RawData/20181214_06.json']"
   ]
  },
  {
   "cell_type": "code",
   "execution_count": 3,
   "metadata": {},
   "outputs": [
    {
     "name": "stdout",
     "output_type": "stream",
     "text": [
      "\n",
      "Connecting (and initialising) InMemory Database:\n",
      " - game table populated, gameId:  2\n",
      " - leader table populated, added 27 leaders\n",
      " - gameLeaders table populated, added 30 gameLeaders\n",
      " - citySettledLog and gameCity tables updated. Added 30 cities\n",
      " - cityPlotsSettled table updated. Added 570 plots\n",
      " - cityPerTurnLog table updated. Added 1615 entries.\n",
      "\n",
      "Connecting to Database/Civ6CitySettledData.db Database:\n",
      " - game table populated, gameId:  25\n",
      " - leader table populated, added 0 leaders\n",
      " - gameLeaders table populated, added 30 gameLeaders\n",
      " - citySettledLog and gameCity tables updated. Added 30 cities\n",
      " - cityPlotsSettled table updated. Added 570 plots\n",
      " - cityPerTurnLog table updated. Added 1615 entries.\n",
      "\n",
      "Completed upload successfully!\n",
      "\n",
      "Connecting (and initialising) InMemory Database:\n",
      " - game table populated, gameId:  2\n",
      " - leader table populated, added 27 leaders\n",
      " - gameLeaders table populated, added 30 gameLeaders\n",
      " - citySettledLog and gameCity tables updated. Added 30 cities\n",
      " - cityPlotsSettled table updated. Added 570 plots\n",
      " - cityPerTurnLog table updated. Added 1615 entries.\n",
      "\n",
      "Connecting to Database/Civ6CitySettledData.db Database:\n",
      " - game table populated, gameId:  26\n",
      " - leader table populated, added 0 leaders\n",
      " - gameLeaders table populated, added 30 gameLeaders\n",
      " - citySettledLog and gameCity tables updated. Added 30 cities\n",
      " - cityPlotsSettled table updated. Added 570 plots\n",
      " - cityPerTurnLog table updated. Added 1615 entries.\n",
      "\n",
      "Completed upload successfully!\n",
      "\n",
      "Connecting (and initialising) InMemory Database:\n",
      " - game table populated, gameId:  2\n",
      " - leader table populated, added 27 leaders\n",
      " - gameLeaders table populated, added 30 gameLeaders\n",
      " - citySettledLog and gameCity tables updated. Added 30 cities\n",
      " - cityPlotsSettled table updated. Added 570 plots\n",
      " - cityPerTurnLog table updated. Added 1613 entries.\n",
      "\n",
      "Connecting to Database/Civ6CitySettledData.db Database:\n",
      " - game table populated, gameId:  27\n",
      " - leader table populated, added 0 leaders\n",
      " - gameLeaders table populated, added 30 gameLeaders\n",
      " - citySettledLog and gameCity tables updated. Added 30 cities\n",
      " - cityPlotsSettled table updated. Added 570 plots\n",
      " - cityPerTurnLog table updated. Added 1613 entries.\n",
      "\n",
      "Completed upload successfully!\n"
     ]
    }
   ],
   "source": [
    "for file in FilesToLoad:\n",
    "    loader = ccjl.Loader(file)\n",
    "    if (loader.hasInitialsedCorrectly == True):\n",
    "        if (loader.jsonDataPassesValidation()):\n",
    "            db = loader.connectDb('Database/Civ6CitySettledData.db')\n",
    "            if (db is not None):\n",
    "                isSuccessful = loader.uploadToDatabase(db)\n",
    "                if(isSuccessful):\n",
    "                    print(\"\\nCompleted upload successfully!\")\n",
    "                else:\n",
    "                    print(\"\\nFailed upload, abort!\")\n",
    "            else:\n",
    "                print(\"\\nFailed database connection, abort!\")\n",
    "        else:\n",
    "            print(\"\\nFailed validation, abort!\")\n",
    "    else:\n",
    "        print(\"\\nFailed initilisation, abort!\")\n"
   ]
  },
  {
   "cell_type": "code",
   "execution_count": 4,
   "metadata": {},
   "outputs": [],
   "source": [
    "#print(loader)\n",
    "#print(\"\\nCurrent functions and variables:\")\n",
    "#for row in dir(loader):\n",
    "#    if not(row.startswith(\"__\")):\n",
    "#        print(\"\\t\", row)"
   ]
  }
 ],
 "metadata": {
  "kernelspec": {
   "display_name": "Python 3",
   "language": "python",
   "name": "python3"
  },
  "language_info": {
   "codemirror_mode": {
    "name": "ipython",
    "version": 3
   },
   "file_extension": ".py",
   "mimetype": "text/x-python",
   "name": "python",
   "nbconvert_exporter": "python",
   "pygments_lexer": "ipython3",
   "version": "3.6.7"
  }
 },
 "nbformat": 4,
 "nbformat_minor": 2
}
