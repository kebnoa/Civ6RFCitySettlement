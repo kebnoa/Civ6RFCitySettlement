{
 "cells": [
  {
   "cell_type": "code",
   "execution_count": 1,
   "metadata": {},
   "outputs": [],
   "source": [
    "import sqlite3\n",
    "import pandas as pd"
   ]
  },
  {
   "cell_type": "code",
   "execution_count": 2,
   "metadata": {},
   "outputs": [
    {
     "name": "stdout",
     "output_type": "stream",
     "text": [
      "<sqlite3.Connection object at 0x0000022F589A01F0>\n",
      "<sqlite3.Cursor object at 0x0000022F5898C8F0>\n"
     ]
    }
   ],
   "source": [
    "cnx = sqlite3.connect('Database/Civ6CitySettledData.db')\n",
    "cur = cnx.cursor()\n",
    "print(cnx)\n",
    "print(cur)"
   ]
  },
  {
   "cell_type": "markdown",
   "metadata": {},
   "source": [
    "## Retrieve the city growth and performance data\n"
   ]
  },
  {
   "cell_type": "code",
   "execution_count": 14,
   "metadata": {},
   "outputs": [
    {
     "name": "stdout",
     "output_type": "stream",
     "text": [
      "(3714, 29)\n",
      "cityId                 int64\n",
      "gameId                 int64\n",
      "settledById            int64\n",
      "currentOwnerId         int64\n",
      "cityName              object\n",
      "settledByName         object\n",
      "settledByCiv          object\n",
      "currentOwnerName      object\n",
      "currentOwnerCiv       object\n",
      "settledOnTurn          int64\n",
      "gameTurn               int64\n",
      "turns                  int64\n",
      "foodPerTurn          float64\n",
      "foodToolTip           object\n",
      "productionPerTurn    float64\n",
      "productionToolTip     object\n",
      "goldPerTurn          float64\n",
      "goldToolTip           object\n",
      "sciencePerTurn       float64\n",
      "scienceToolTip        object\n",
      "culturePerTurn       float64\n",
      "cultureToolTip        object\n",
      "faithPerTurn         float64\n",
      "faithToolTip          object\n",
      "population             int64\n",
      "housing                int64\n",
      "amenities              int64\n",
      "amenitiesNeeded        int64\n",
      "happiness             object\n",
      "dtype: object\n"
     ]
    }
   ],
   "source": [
    "sqlSelect = 'SELECT * FROM cityPerTurnView'\n",
    "cptv = pd.read_sql_query(sqlSelect, cnx)\n",
    "print(cptv.shape)\n",
    "print(cptv.dtypes)"
   ]
  },
  {
   "cell_type": "code",
   "execution_count": null,
   "metadata": {},
   "outputs": [],
   "source": []
  }
 ],
 "metadata": {
  "kernelspec": {
   "display_name": "Python 3",
   "language": "python",
   "name": "python3"
  },
  "language_info": {
   "codemirror_mode": {
    "name": "ipython",
    "version": 3
   },
   "file_extension": ".py",
   "mimetype": "text/x-python",
   "name": "python",
   "nbconvert_exporter": "python",
   "pygments_lexer": "ipython3",
   "version": "3.7.0"
  }
 },
 "nbformat": 4,
 "nbformat_minor": 2
}
