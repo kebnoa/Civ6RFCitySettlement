{
 "cells": [
  {
   "cell_type": "markdown",
   "metadata": {},
   "source": [
    "# Create the input features and output lables for the Machine Learning classification training\n",
    "\n",
    "## Overall goal:\n",
    "This project is an attempt to classify a Civ 6 starting city location based solely on the tile/plot information available when settling.\n",
    "\n",
    "This workbook is where we start selecting the data we are going to use to train the classifier.\n",
    "\n",
    "## Labels:\n",
    "This is the values we wish to predict. This version of the model to determine a \"good\" city is based on the various cumulative yields it produces during the 50 turns following the city being settled, graded into 5 quantiles scored 0 through 4 for each yield. These scores are then added together and graded into 5 quantiles scored 0 through 4 to give the city \"goodness\"\n",
    "\n",
    "That is, all the food the city produces is summed. Then graded against which quantile it falls against ALL the cities. This process is repeated for production, gold, science, and culture to get 5 different scores for the city in question. these 5 scores are then summed to give a potential maximum score of 20 and a potential minimum of 0.\n",
    "\n",
    "We will use the totalScore (0, 1, 2, 3, 4) as the value we wish to predict as part of the classification\n",
    "\n",
    "## Features:\n",
    "This is the values we have in order to make the classification. This version of the model uses a combined terrain, feature, and resource key, determined by looking at all the known plots in the database, to determine the plot frequency percentage.\n",
    "\n",
    "That is, the plots in the first 2 rings of the city centre (19 in total) are classified as belonging to one of the keys, summed and then divided by 19 to get the percentage of tile in the city that are for example \"Plains (Hills) with Woods and luxury resource. Hint, this is pretty rare occurance from the data I've gathered.\n",
    "\n",
    "Likewise the percentage of tiles with a river is calculcated and a binary yes/no whether the city has a river.\n",
    "\n",
    "## Observations:\n",
    "The following questions and assumptions still need to be reviewed and reflected on to improve the model.\n",
    "\n",
    "### What is a \"good\" city?\n",
    "There are many other factors that could determine a good city, especially later in the game when you have options to utilise tile better. Assuming that we are literally only interested in the first 50-55 turns of the games focussing on the lifetime yield seems acceptable.\n",
    "\n",
    "### Which tiles should be used as input?\n",
    "With the exception of Peter (Russia) most cities cap out (in 50 turns) at the city centre, the first ring, and 2-3 tiles of the second ring. That is between 8-9 tiles. Also, usually the population can't utilise all these tiles in any case. There is also the possibility of buying tiles. In the end I decided to use all the tiles in the first 2 rings\n",
    "\n",
    "### How do you summarise to input to manageable levels without losing to much accuracy?\n",
    "When I started this I thought to break the inputs down per tile, that is have input collumns for the each tile with features, resources, bonuses, next to a river, has a worker etc ... this very quickly leads to an input feature explosion. E.g. assume 19 tiles, 15+ terrains, 7+ features, 44+ resources, has/hasn't river already gives >175k input columns. Assuming you need 20 samples per feature for any semblance of accurcy I'd need to have >3.5 million city records.\n",
    "\n",
    "The terrain, feature, resource key percentage reduces the input requirement to around 70 which is manageable. I only have around 10-20% samples of what is recommended, but lets see where this gets us.\n",
    "\n",
    "### What else should be used to answer the question?\n",
    "This complexity becomes unmanageable pretty quickly if you try to include, for example build order in the city. Likewise district placement considerations."
   ]
  },
  {
   "cell_type": "code",
   "execution_count": 1,
   "metadata": {},
   "outputs": [],
   "source": [
    "import sqlite3\n",
    "import pandas as pd"
   ]
  },
  {
   "cell_type": "code",
   "execution_count": 2,
   "metadata": {},
   "outputs": [
    {
     "name": "stdout",
     "output_type": "stream",
     "text": [
      "<sqlite3.Connection object at 0x000001AB53A101F0>\n",
      "<sqlite3.Cursor object at 0x000001AB539A4EA0>\n"
     ]
    }
   ],
   "source": [
    "cnx = sqlite3.connect('Database/Civ6CitySettledData.db')\n",
    "cur = cnx.cursor()\n",
    "print(cnx)\n",
    "print(cur)"
   ]
  },
  {
   "cell_type": "markdown",
   "metadata": {},
   "source": [
    "## Labels:"
   ]
  },
  {
   "cell_type": "markdown",
   "metadata": {},
   "source": [
    "Use the specifically created database view to retrieve the per turn data collected. This view also aligns timelines, that is, takes care of cities settled in turn 2, or even turn 3. I was surprised to learn the AI actually moves settlers before settling."
   ]
  },
  {
   "cell_type": "code",
   "execution_count": 3,
   "metadata": {},
   "outputs": [
    {
     "name": "stdout",
     "output_type": "stream",
     "text": [
      "(6400, 29)\n"
     ]
    }
   ],
   "source": [
    "sqlSelect = 'SELECT * FROM cityPerTurnView WHERE turns >= 1 and turns <= 50'\n",
    "cityPt = pd.read_sql_query(sqlSelect, cnx)\n",
    "print(cityPt.shape)"
   ]
  },
  {
   "cell_type": "markdown",
   "metadata": {},
   "source": [
    "I have excluded Faith as it was simply too variable to use. Also, it doesn't appear to be a core yield in general, although it is situationally very useful."
   ]
  },
  {
   "cell_type": "code",
   "execution_count": 4,
   "metadata": {},
   "outputs": [
    {
     "name": "stdout",
     "output_type": "stream",
     "text": [
      "     cityId  productionTotal  goldTotal  cityTotal  cultureScore  goldScore  \\\n",
      "0         1           492.45     289.80          7             0          2   \n",
      "1         2           490.85     660.70         14             3          4   \n",
      "2         3           159.15     251.50          8             2          0   \n",
      "3         4           157.30     262.50          3             1          1   \n",
      "4         5           105.40     250.00          6             1          0   \n",
      "5         6           480.50     305.00         12             0          2   \n",
      "6         7           422.60     452.30         13             1          4   \n",
      "7         8           473.90     406.05         12             0          4   \n",
      "8         9           253.40     338.00         15             3          3   \n",
      "9        10           174.40     275.52         14             4          2   \n",
      "10       11           214.40     252.50          9             3          0   \n",
      "11       12           144.25     250.95          7             1          0   \n",
      "12       13            83.85     278.55          9             0          2   \n",
      "13       14           158.65     257.50          5             1          1   \n",
      "14       15           201.65     253.75          8             3          0   \n",
      "15       16           176.40     264.13         10             3          1   \n",
      "16       17           149.05     268.80          6             4          1   \n",
      "17       18           321.80     450.35         11             2          4   \n",
      "18       19           411.80     533.90         17             3          4   \n",
      "19       20           446.20     386.55         15             2          3   \n",
      "20       21           542.40     395.95         16             4          4   \n",
      "21       22           492.20     301.75         12             0          2   \n",
      "22       23           486.10     687.80         17             3          4   \n",
      "23       24           576.60     731.20         13             3          4   \n",
      "24       25           429.60     687.05         17             4          4   \n",
      "25       26           449.35     309.70         13             3          2   \n",
      "26       27           376.95     307.00         13             0          2   \n",
      "27       28           506.65     298.75         14             0          2   \n",
      "28       29           532.50     556.25         18             4          4   \n",
      "29       30           145.75     259.25          4             1          1   \n",
      "..      ...              ...        ...        ...           ...        ...   \n",
      "98       99           644.40     361.05         17             4          3   \n",
      "99      100           525.95     306.25         11             4          2   \n",
      "100     101           497.80     409.40         20             4          4   \n",
      "101     102            94.10     488.10          9             1          4   \n",
      "102     103            77.25     348.95         10             0          3   \n",
      "103     104           100.70     251.26          7             0          0   \n",
      "104     105           180.55     278.50          8             2          2   \n",
      "105     106           111.20     287.20         10             0          2   \n",
      "106     107           129.00     295.50          5             1          2   \n",
      "107     108           181.25     253.00          9             3          0   \n",
      "108     109           222.70     337.65          8             3          3   \n",
      "109     110           125.65     388.30          5             1          3   \n",
      "110     111           579.40     298.70         15             1          2   \n",
      "111     112           436.60     340.20         14             3          3   \n",
      "112     113           506.00     498.60         18             4          4   \n",
      "113     114           570.40     315.25         15             4          2   \n",
      "114     115           634.75     384.35         11             4          3   \n",
      "115     116           488.80     612.55         10             0          4   \n",
      "116     117           612.55     362.10         18             4          3   \n",
      "117     118           556.25     425.00          8             0          4   \n",
      "118     119           218.40     257.50          5             2          1   \n",
      "119     120           229.50     258.00          8             4          1   \n",
      "120     121           186.05     281.50          8             2          2   \n",
      "121     122           123.25     257.75          9             1          1   \n",
      "122     123           185.55     254.50          7             2          0   \n",
      "123     124           190.10     277.80          6             2          2   \n",
      "124     125           128.90     257.25          2             1          0   \n",
      "125     126           111.80     257.25          2             1          0   \n",
      "126     127            77.40     367.35          4             0          3   \n",
      "127     128           438.90     490.95         13             2          4   \n",
      "\n",
      "     cityScore  scienceTotal  scienceScore  productionScore  cultureTotal  \\\n",
      "0            1        182.68             2                3        101.97   \n",
      "1            3        196.94             3                3        164.75   \n",
      "2            1        180.63             2                1        153.38   \n",
      "3            0        150.22             0                1        140.42   \n",
      "4            0        185.06             2                0        141.82   \n",
      "5            3        203.92             4                3        111.22   \n",
      "6            3        195.30             3                3        141.93   \n",
      "7            3        212.50             4                3         99.73   \n",
      "8            4        202.13             3                3        169.84   \n",
      "9            3        196.41             3                1        211.89   \n",
      "10           2        177.01             2                2        161.56   \n",
      "11           1        185.06             2                1        129.82   \n",
      "12           2        191.77             3                0        105.20   \n",
      "13           0        166.56             1                1        143.70   \n",
      "14           1        175.61             1                2        157.16   \n",
      "15           2        179.14             2                1        156.28   \n",
      "16           0        161.72             0                1        197.58   \n",
      "17           3        173.07             1                3        146.45   \n",
      "18           4        277.52             4                3        172.93   \n",
      "19           4        239.71             4                3        153.09   \n",
      "20           4        256.87             4                4        297.01   \n",
      "21           3        220.09             4                3        111.83   \n",
      "22           4        237.02             4                3        172.15   \n",
      "23           3        189.44             2                4        159.33   \n",
      "24           4        193.26             3                3        214.68   \n",
      "25           3        188.96             2                3        170.97   \n",
      "26           3        214.55             4                3        114.12   \n",
      "27           3        206.16             4                4        112.87   \n",
      "28           4        195.93             3                4        178.30   \n",
      "29           0        164.97             0                1        144.92   \n",
      "..         ...           ...           ...              ...           ...   \n",
      "98           4        191.38             3                4        179.89   \n",
      "99           3        172.89             1                4        184.90   \n",
      "100          4        298.58             4                4        174.39   \n",
      "101          2        179.91             2                0        133.29   \n",
      "102          2        195.56             3                0        107.48   \n",
      "103          1        201.04             3                0        110.80   \n",
      "104          1        172.56             1                2        153.30   \n",
      "105          2        208.09             4                0        114.96   \n",
      "106          0        169.56             1                0        145.50   \n",
      "107          2        181.70             2                2        154.86   \n",
      "108          1        158.22             0                2        155.25   \n",
      "109          0        165.06             0                0        140.80   \n",
      "110          4        221.04             4                4        121.83   \n",
      "111          3        188.39             2                3        154.79   \n",
      "112          4        202.52             3                4        198.87   \n",
      "113          4        289.96             4                4        202.63   \n",
      "114          3        163.11             0                4        193.08   \n",
      "115          2        181.84             2                3         97.55   \n",
      "116          4        194.60             3                4        180.61   \n",
      "117          1        165.51             0                4         87.62   \n",
      "118          0        157.22             0                2        149.12   \n",
      "119          1        164.56             0                2        210.97   \n",
      "120          1        172.56             1                2        153.30   \n",
      "121          2        194.84             3                0        130.50   \n",
      "122          1        172.56             1                2        153.30   \n",
      "123          0        156.48             0                2        149.92   \n",
      "124          0        161.21             0                0        138.88   \n",
      "125          0        163.71             0                0        131.98   \n",
      "126          0        166.80             1                0         89.88   \n",
      "127          3        186.12             2                3        146.50   \n",
      "\n",
      "     foodTotal  foodScore  \n",
      "0        268.0          0  \n",
      "1        321.0          1  \n",
      "2        469.0          3  \n",
      "3        195.0          0  \n",
      "4        500.0          3  \n",
      "5        529.0          3  \n",
      "6        442.0          2  \n",
      "7        362.0          1  \n",
      "8        454.0          3  \n",
      "9        576.0          4  \n",
      "10       443.0          2  \n",
      "11       494.0          3  \n",
      "12       567.0          4  \n",
      "13       330.0          1  \n",
      "14       404.0          2  \n",
      "15       458.0          3  \n",
      "16       295.0          0  \n",
      "17       376.0          1  \n",
      "18       501.0          3  \n",
      "19       492.0          3  \n",
      "20       259.0          0  \n",
      "21       529.0          3  \n",
      "22       454.0          3  \n",
      "23       270.0          0  \n",
      "24       474.0          3  \n",
      "25       457.0          3  \n",
      "26       599.0          4  \n",
      "27       621.0          4  \n",
      "28       461.0          3  \n",
      "29       355.0          1  \n",
      "..         ...        ...  \n",
      "98       471.0          3  \n",
      "99       305.0          0  \n",
      "100      673.0          4  \n",
      "101      448.0          2  \n",
      "102      577.0          4  \n",
      "103      645.0          4  \n",
      "104      380.0          1  \n",
      "105      762.0          4  \n",
      "106      347.0          1  \n",
      "107      420.0          2  \n",
      "108      275.0          0  \n",
      "109      318.0          1  \n",
      "110      705.0          4  \n",
      "111      491.0          3  \n",
      "112      483.0          3  \n",
      "113      378.0          1  \n",
      "114      249.0          0  \n",
      "115      343.0          1  \n",
      "116      534.0          4  \n",
      "117      246.0          0  \n",
      "118      269.0          0  \n",
      "119      327.0          1  \n",
      "120      380.0          1  \n",
      "121      604.0          4  \n",
      "122      387.0          2  \n",
      "123      252.0          0  \n",
      "124      348.0          1  \n",
      "125      360.0          1  \n",
      "126      295.0          0  \n",
      "127      445.0          2  \n",
      "\n",
      "[128 rows x 13 columns]\n"
     ]
    }
   ],
   "source": [
    "yields = ['food', 'production', 'gold', 'science', 'culture']\n",
    "#yields = ['food']\n",
    "cityIds = list(cityPt['cityId'].unique())\n",
    "labelsDf = pd.DataFrame(columns={'foodTotal', 'foodScore', 'productionTotal', 'productionScore',\n",
    "                                 'goldTotal', 'goldScore', 'scienceTotal', 'scienceScore',\n",
    "                                 'cultureTotal', 'cultureScore', 'cityTotal', 'cityScore'},\n",
    "                        index=cityIds)\n",
    "labelsDf.reset_index(level=0,inplace=True)\n",
    "labelsDf.rename(columns={'index':'cityId'}, inplace=True)\n",
    "labelsDf.sort_values(by='cityId', inplace=True)\n",
    "labelsDf.index = pd.RangeIndex(len(labelsDf.index))\n",
    "labelsDf.fillna(0, inplace=True)\n",
    "\n",
    "for yld in yields:\n",
    "    columnName = \"{}PerTurn\".format(yld)\n",
    "    cumulativeDf = cityPt[['cityId', 'turns', columnName]].pivot(index='turns',\n",
    "                                                                 columns='cityId',\n",
    "                                                                 values=columnName).cumsum()\n",
    "    t50 = cumulativeDf.loc[50].to_frame()\n",
    "    t50.reset_index(level=0, inplace=True)\n",
    "    t50.rename(columns={50:\"{}Total\".format(yld)}, inplace=True)\n",
    "    # join here via boolean map as using cityID, not index - see df.update below\n",
    "    labelsDf.loc[labelsDf.cityId.isin(t50.cityId), \"{}Total\".format(yld)] = t50[\"{}Total\".format(yld)]\n",
    "    \n",
    "    quantilesDf = pd.qcut(labelsDf[\"{}Total\".format(yld)], 5, labels=False).to_frame()\n",
    "    quantilesDf.rename(columns={\"{}Total\".format(yld):\"{}Score\".format(yld)}, inplace=True)\n",
    "    # update works cause we have index alignment\n",
    "    labelsDf.update(quantilesDf)\n",
    "    labelsDf['cityTotal'] = labelsDf['cityTotal'] + labelsDf[\"{}Score\".format(yld)]\n",
    "\n",
    "quantilesDf = pd.qcut(labelsDf['cityTotal'], 5, labels=False).to_frame()\n",
    "quantilesDf.rename(columns={'cityTotal':'cityScore'}, inplace=True)\n",
    "# update works cause we have index alignment\n",
    "labelsDf.update(quantilesDf)\n",
    "\n",
    "print(labelsDf)"
   ]
  },
  {
   "cell_type": "code",
   "execution_count": 5,
   "metadata": {},
   "outputs": [],
   "source": [
    "labelsDf.to_csv('labels.csv', encoding='utf-8', index=False)"
   ]
  },
  {
   "cell_type": "markdown",
   "metadata": {},
   "source": [
    "## Features:"
   ]
  },
  {
   "cell_type": "markdown",
   "metadata": {},
   "source": [
    "Use the cityPlotsSettled data collected to prepare the features we intend using as input into the model. The category key idea is explained in the introduction.\n",
    "\n",
    "We also need to add the percentage of tiles that has a river, as well as the cityHasRiver input."
   ]
  },
  {
   "cell_type": "code",
   "execution_count": 6,
   "metadata": {},
   "outputs": [
    {
     "name": "stdout",
     "output_type": "stream",
     "text": [
      "(2432, 15)\n"
     ]
    }
   ],
   "source": [
    "sqlSelect = 'SELECT * FROM cityPlotsSettled'\n",
    "cityPs = pd.read_sql_query(sqlSelect, cnx)\n",
    "print(cityPs.shape)\n",
    "#print(cityPs.dtypes)"
   ]
  },
  {
   "cell_type": "code",
   "execution_count": 7,
   "metadata": {},
   "outputs": [
    {
     "name": "stdout",
     "output_type": "stream",
     "text": [
      "(0, 68)\n"
     ]
    }
   ],
   "source": [
    "# Create category key for plot by combining terrain, feature, and resource into one\n",
    "cityPs['category'] = cityPs['terrain'] + cityPs['feature'] + cityPs['resource']\n",
    "# Remove None, whitespace, and brackets\n",
    "cityPs['category'] = cityPs['category'].apply(lambda s: s.replace('None', '').replace(' ', '').replace('(','').replace(')', ''))\n",
    "# Remove all \"hidden\" strategic resources\n",
    "cityPs['category'] = cityPs['category'].apply(lambda s: s.replace('Uranium', '').replace('Oil', '').replace('Niter', ''))\n",
    "cityPs['category'] = cityPs['category'].apply(lambda s: s.replace('Aluminum', '').replace('Coal', '').replace('Iron', ''))\n",
    "# Consolidate luxury resources\n",
    "cityPs['category'] = cityPs['category'].apply(lambda s: s.replace('Dyes', 'Lux').replace('Silver', 'Lux').replace('Diamonds', 'Lux'))\n",
    "cityPs['category'] = cityPs['category'].apply(lambda s: s.replace('Tea', 'Lux').replace('Salt', 'Lux').replace('Olives', 'Lux'))\n",
    "cityPs['category'] = cityPs['category'].apply(lambda s: s.replace('Ivory', 'Lux').replace('Sugar', 'Lux').replace('Coffee', 'Lux'))\n",
    "cityPs['category'] = cityPs['category'].apply(lambda s: s.replace('Cotton', 'Lux').replace('Furs', 'Lux').replace('Whales', 'Lux'))\n",
    "cityPs['category'] = cityPs['category'].apply(lambda s: s.replace('Marble', 'Lux').replace('Jade', 'Lux').replace('Turtles', 'Lux'))\n",
    "cityPs['category'] = cityPs['category'].apply(lambda s: s.replace('Gypsum', 'Lux').replace('Mercury', 'Lux').replace('Tobacco', 'Lux'))\n",
    "cityPs['category'] = cityPs['category'].apply(lambda s: s.replace('Wine', 'Lux').replace('Truffles', 'Lux').replace('Incense', 'Lux'))\n",
    "cityPs['category'] = cityPs['category'].apply(lambda s: s.replace('Silk', 'Lux').replace('Citrus', 'Lux').replace('Spices', 'Lux'))\n",
    "cityPs['category'] = cityPs['category'].apply(lambda s: s.replace('Cocoa', 'Lux').replace('Pearls', 'Lux'))\n",
    "# Consolidate bonus resources\n",
    "cityPs['category'] = cityPs['category'].apply(lambda s: s.replace('Sheep', 'Bonus').replace('Bananas', 'Bonus'))\n",
    "cityPs['category'] = cityPs['category'].apply(lambda s: s.replace('Fish', 'Bonus').replace('Deer', 'Bonus'))\n",
    "cityPs['category'] = cityPs['category'].apply(lambda s: s.replace('Crabs', 'Bonus').replace('Copper', 'Bonus'))\n",
    "# Still have 67 different \"categories\" here!?\n",
    "\n",
    "#print(cityPs[['plotId','category']].groupby('category').count().sort_values(by='category', ascending=True).count())\n",
    "#print(cityPs[['plotId','category']].groupby('category').count().sort_values(by='plotId', ascending=False))\n",
    "\n",
    "cols = ['cityId'] + list(cityPs['category'].unique())\n",
    "featuresDf = pd.DataFrame(columns = cols)\n",
    "print(featuresDf.shape)\n",
    "#print(featuresDf.head)"
   ]
  },
  {
   "cell_type": "code",
   "execution_count": 8,
   "metadata": {},
   "outputs": [],
   "source": [
    "# category percentages\n",
    "for cityId in cityPs['recordedCityId'].unique():\n",
    "    plotsDf = cityPs[cityPs['recordedCityId'] == cityId]\n",
    "    # convert to percentage of tiles, and round to 2dp ... (There are 19 per city!)\n",
    "    categoryPercentageSeries = round((plotsDf.groupby(['category'])['plotId'].count() / .19), 2)\n",
    "    featuresDf.loc[cityId, 'cityId'] = cityId\n",
    "    for cat, val in categoryPercentageSeries.iteritems():\n",
    "        featuresDf.loc[cityId, cat] = val\n",
    "featuresDf.fillna(0, inplace=True)"
   ]
  },
  {
   "cell_type": "code",
   "execution_count": 9,
   "metadata": {},
   "outputs": [],
   "source": [
    "# hasRiver percentage and cityHasRiver calculation...\n",
    "for cityId in cityPs['recordedCityId'].unique():\n",
    "    plotsDf = cityPs[cityPs['recordedCityId'] == cityId]\n",
    "    featuresDf.loc[cityId, 'hasRiver'] = round((plotsDf[plotsDf['hasRiver'] == True].plotId.count() / .19), 2)\n",
    "    featuresDf.loc[cityId, 'cityHasRiver'] = plotsDf[plotsDf['isCity'] == True].iloc[0,:].hasRiver"
   ]
  },
  {
   "cell_type": "code",
   "execution_count": 10,
   "metadata": {
    "scrolled": false
   },
   "outputs": [
    {
     "name": "stdout",
     "output_type": "stream",
     "text": [
      "   cityId  PlainsHills  PlainsMountain  PlainsHillsBonus  PlainsRainforest  \\\n",
      "1       1        10.53            5.26              5.26              5.26   \n",
      "2       2         0.00            0.00              0.00             10.53   \n",
      "3       3         5.26            0.00              0.00              5.26   \n",
      "4       4         5.26            0.00              0.00             10.53   \n",
      "5       5         0.00            0.00              0.00              0.00   \n",
      "\n",
      "   Plains  PlainsHillsWoodsLux  DesertHillsLux  PlainsWoods  PlainsWheat  \\\n",
      "1   26.32                 5.26            5.26        15.79         5.26   \n",
      "2   10.53                 0.00            5.26        10.53         0.00   \n",
      "3   31.58                 0.00            0.00        10.53         0.00   \n",
      "4   15.79                 0.00            0.00         5.26         5.26   \n",
      "5    0.00                 0.00            0.00         0.00         0.00   \n",
      "\n",
      "       ...       GrasslandHillsWoodsLux  TundraWoodsLux  \\\n",
      "1      ...                          0.0             0.0   \n",
      "2      ...                          0.0             0.0   \n",
      "3      ...                          0.0             0.0   \n",
      "4      ...                          0.0             0.0   \n",
      "5      ...                          0.0             0.0   \n",
      "\n",
      "   GrasslandHillsWoodsBonus  TundraHillsBonus  DesertOasis  \\\n",
      "1                       0.0               0.0          0.0   \n",
      "2                       0.0               0.0          0.0   \n",
      "3                       0.0               0.0          0.0   \n",
      "4                       0.0               0.0          0.0   \n",
      "5                       0.0               0.0          0.0   \n",
      "\n",
      "   PlainsHillsWoodsBonus  TundraHillsWoods  TundraHillsLux  hasRiver  \\\n",
      "1                    0.0               0.0             0.0     31.58   \n",
      "2                    0.0               0.0             0.0     15.79   \n",
      "3                    0.0               0.0             0.0     52.63   \n",
      "4                    0.0               0.0             0.0      0.00   \n",
      "5                    0.0               0.0             0.0     42.11   \n",
      "\n",
      "   cityHasRiver  \n",
      "1           1.0  \n",
      "2           1.0  \n",
      "3           1.0  \n",
      "4           0.0  \n",
      "5           1.0  \n",
      "\n",
      "[5 rows x 70 columns]\n"
     ]
    }
   ],
   "source": [
    "print(featuresDf.head())"
   ]
  },
  {
   "cell_type": "code",
   "execution_count": 11,
   "metadata": {
    "scrolled": true
   },
   "outputs": [],
   "source": [
    "featuresDf.to_csv('features.csv', encoding='utf-8', index=False)"
   ]
  }
 ],
 "metadata": {
  "kernelspec": {
   "display_name": "Python 3",
   "language": "python",
   "name": "python3"
  },
  "language_info": {
   "codemirror_mode": {
    "name": "ipython",
    "version": 3
   },
   "file_extension": ".py",
   "mimetype": "text/x-python",
   "name": "python",
   "nbconvert_exporter": "python",
   "pygments_lexer": "ipython3",
   "version": "3.7.1"
  }
 },
 "nbformat": 4,
 "nbformat_minor": 2
}
