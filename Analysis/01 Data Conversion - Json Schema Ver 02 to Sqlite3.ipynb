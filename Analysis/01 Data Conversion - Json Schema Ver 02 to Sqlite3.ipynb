{
 "cells": [
  {
   "cell_type": "markdown",
   "metadata": {},
   "source": [
    "# Convert recorded Json file data to Sqlite\n",
    "Still a bit trail and error, but the Json format is fixed enough to start working on full file conversion and upload into the Sqlite database."
   ]
  },
  {
   "cell_type": "code",
   "execution_count": 1,
   "metadata": {},
   "outputs": [],
   "source": [
    "from datetime import datetime\n",
    "import json\n",
    "import sqlite3\n",
    "import pandas as pd"
   ]
  },
  {
   "cell_type": "code",
   "execution_count": 2,
   "metadata": {},
   "outputs": [
    {
     "name": "stdout",
     "output_type": "stream",
     "text": [
      "<sqlite3.Connection object at 0x0000028CDEAC6110>\n",
      "<sqlite3.Cursor object at 0x0000028CE0BC9960>\n"
     ]
    },
    {
     "data": {
      "text/plain": [
       "<sqlite3.Cursor at 0x28ce0bc9960>"
      ]
     },
     "execution_count": 2,
     "metadata": {},
     "output_type": "execute_result"
    }
   ],
   "source": [
    "#sqlSchemaInitialisation = open('RawData/developmentSchema03.sql', encoding='utf8').read()\n",
    "##print(sqlSchemaInitialisation)\n",
    "#cnx = sqlite3.connect(\":memory:\")\n",
    "#cur = cnx.cursor()\n",
    "#print(cnx)\n",
    "#print(cur)\n",
    "#cur.executescript(sqlSchemaInitialisation)"
   ]
  },
  {
   "cell_type": "code",
   "execution_count": 3,
   "metadata": {},
   "outputs": [],
   "source": [
    "def getKnownLeaders(cnx):\n",
    "    cur = cnx.cursor()\n",
    "    sqlSelect = 'SELECT leaderId, name, civ FROM leader'\n",
    "    return pd.read_sql_query(sqlSelect, cnx)\n",
    "\n",
    "def getLeaderId(name, civ, knownLeaders):\n",
    "    try:\n",
    "        # The iloc is neccessary as we can't assume there is only one return value!?\n",
    "        # also have to make sure it is int as numpy.int64 doesn't go into sqlite so well?\n",
    "        return int(knownLeaders[(knownLeaders.name == name) & (knownLeaders.civ == civ)].iloc[0].leaderId)\n",
    "    except IndexError:\n",
    "        return None"
   ]
  },
  {
   "cell_type": "code",
   "execution_count": 4,
   "metadata": {},
   "outputs": [],
   "source": [
    "jsonData = open('RawData/20181128_01.json', encoding='utf8').read()"
   ]
  },
  {
   "cell_type": "code",
   "execution_count": 5,
   "metadata": {},
   "outputs": [],
   "source": [
    "rawData = json.loads(jsonData)"
   ]
  },
  {
   "cell_type": "code",
   "execution_count": null,
   "metadata": {
    "scrolled": true
   },
   "outputs": [],
   "source": [
    "cnx = sqlite3.connect('Database/Civ6CitySettledData.db')\n",
    "cur = cnx.cursor()\n",
    "print(cnx)\n",
    "print(cur)"
   ]
  },
  {
   "cell_type": "markdown",
   "metadata": {},
   "source": [
    "## Populate the game table"
   ]
  },
  {
   "cell_type": "code",
   "execution_count": 6,
   "metadata": {},
   "outputs": [
    {
     "name": "stdout",
     "output_type": "stream",
     "text": [
      "{'difficulty': 'Prince', 'ruleSet': 'RULESET_EXPANSION_1', 'mapType': 'ToDo', 'startEra': 'Ancient Era', 'players': [{'playerCiv': 'France', 'playerName': 'Catherine de Medici'}, {'playerCiv': 'Scythia', 'playerName': 'Tomyris'}, {'playerCiv': 'Spain', 'playerName': 'Philip II'}, {'playerCiv': 'Arabia', 'playerName': 'Saladin'}, {'playerCiv': 'Sumeria', 'playerName': 'Gilgamesh'}, {'playerCiv': 'Germany', 'playerName': 'Frederick Barbarossa'}, {'playerCiv': 'Babylon', 'playerName': 'Babylon'}, {'playerCiv': 'Mohenjo-Daro', 'playerName': 'Mohenjo-Daro'}, {'playerCiv': 'Kumasi', 'playerName': 'Kumasi'}, {'playerCiv': 'Toronto', 'playerName': 'Toronto'}, {'playerCiv': 'Granada', 'playerName': 'Granada'}, {'playerCiv': 'Muscat', 'playerName': 'Muscat'}, {'playerCiv': 'Bandar Brunei', 'playerName': 'Bandar Brunei'}, {'playerCiv': 'Kandy', 'playerName': 'Kandy'}, {'playerCiv': 'Brussels', 'playerName': 'Brussels'}], 'mapSize': 'Small', 'leader': 'Catherine de Medici', 'gameSpeed': 'Standard'}\n",
      "<class 'dict'>\n"
     ]
    }
   ],
   "source": [
    "# Python creates a list by default, we know we only have 1 so select first element only!\n",
    "gameData = rawData['gameConfig'][0]\n",
    "print(gameData)\n",
    "print(type(gameData))"
   ]
  },
  {
   "cell_type": "code",
   "execution_count": 7,
   "metadata": {},
   "outputs": [
    {
     "name": "stdout",
     "output_type": "stream",
     "text": [
      "{'gameId': None, 'date': datetime.date(2018, 11, 28), 'difficulty': 'Prince', 'mapType': 'Continents', 'mapSize': 'Small', 'gameSpeed': 'Standard', 'startEra': 'Ancient Era', 'ruleSet': 'RULESET_EXPANSION_1'}\n"
     ]
    }
   ],
   "source": [
    "dateString = rawData['date']\n",
    "date = datetime.strptime(dateString, '%Y%m%d').date()\n",
    "game = {\n",
    "    'gameId': None,\n",
    "    'date': date,\n",
    "    'difficulty': gameData['difficulty'],\n",
    "    'mapType': 'Continents',\n",
    "    'mapSize': gameData['mapSize'],\n",
    "    'gameSpeed': gameData['gameSpeed'],\n",
    "    'startEra': gameData['startEra'],\n",
    "    'ruleSet': gameData['ruleSet'],\n",
    "}\n",
    "print(game)"
   ]
  },
  {
   "cell_type": "code",
   "execution_count": 8,
   "metadata": {},
   "outputs": [
    {
     "name": "stdout",
     "output_type": "stream",
     "text": [
      "gameID:  6\n"
     ]
    }
   ],
   "source": [
    "cur.execute('INSERT INTO game VALUES(:gameId, :date, :difficulty, :mapType, :mapSize, :gameSpeed, :startEra, :ruleSet)',\n",
    "    game)\n",
    "gameId = cur.lastrowid\n",
    "print(\"gameID: \", gameId)"
   ]
  },
  {
   "cell_type": "code",
   "execution_count": 9,
   "metadata": {},
   "outputs": [],
   "source": [
    "cnx.commit()"
   ]
  },
  {
   "cell_type": "markdown",
   "metadata": {},
   "source": [
    "## Add \"new\" leaders to the leader table.\n",
    "The leader table is a list of all the leaders we've captured data for, regardless of when they were first seen. We record the relationship between a specific game/instance with the leaders in the gameLeader table."
   ]
  },
  {
   "cell_type": "code",
   "execution_count": 10,
   "metadata": {},
   "outputs": [
    {
     "name": "stdout",
     "output_type": "stream",
     "text": [
      "    leaderId                  name            civ\n",
      "0          7             Amanitore          Nubia\n",
      "1         35               Antioch        Antioch\n",
      "2         14                Armagh         Armagh\n",
      "3         28              Auckland       Auckland\n",
      "4          4               Babylon        Babylon\n",
      "5          3         Bandar Brunei  Bandar Brunei\n",
      "6         13              Brussels       Brussels\n",
      "7         47          Buenos Aires   Buenos Aires\n",
      "8         48              Carthage       Carthage\n",
      "9         11   Catherine de Medici         France\n",
      "10        22             Cleopatra          Egypt\n",
      "11        26                 Cyrus         Persia\n",
      "12        51  Frederick Barbarossa        Germany\n",
      "13        12                Geneva         Geneva\n",
      "14        21          Genghis Khan       Mongolia\n",
      "15         1             Gilgamesh        Sumeria\n",
      "16        20               Gitarja      Indonesia\n",
      "17        45               Granada        Granada\n",
      "18        24       Harald Hardrada         Norway\n",
      "19        36               Hattusa        Hattusa\n",
      "20         5             Hong Kong      Hong Kong\n",
      "21         6               Jadwiga         Poland\n",
      "22        30             Jerusalem      Jerusalem\n",
      "23        16                 Kabul          Kabul\n",
      "24        34                 Kandy          Kandy\n",
      "25        52                Kumasi         Kumasi\n",
      "26        18              La Venta       La Venta\n",
      "27        43               Lautaro        Mapuche\n",
      "28        17                Lisbon         Lisbon\n",
      "29        19          Mohenjo-Daro   Mohenjo-Daro\n",
      "30         2             Montezuma          Aztec\n",
      "31        33                Muscat         Muscat\n",
      "32        40       Mvemba a Nzinga          Kongo\n",
      "33        29             Nan Madol      Nan Madol\n",
      "34        39              Pericles         Greece\n",
      "35        10                 Peter         Russia\n",
      "36        49             Philip II          Spain\n",
      "37        42            Poundmaker           Cree\n",
      "38        31               Preslav        Preslav\n",
      "39         9      Robert the Bruce       Scotland\n",
      "40        50               Saladin         Arabia\n",
      "41        23              Seondeok          Korea\n",
      "42        41                 Shaka           Zulu\n",
      "43        15             Stockholm      Stockholm\n",
      "44        38       Teddy Roosevelt        America\n",
      "45        27               Tomyris        Scythia\n",
      "46        53               Toronto        Toronto\n",
      "47        25                Trajan           Rome\n",
      "48        46              Valletta       Valletta\n",
      "49        44               Vilnius        Vilnius\n",
      "50         8            Wilhelmina    Netherlands\n",
      "51        37               Yerevan        Yerevan\n",
      "52        32              Zanzibar       Zanzibar\n"
     ]
    }
   ],
   "source": [
    "knownLeaders = getKnownLeaders(cnx)\n",
    "print(knownLeaders)"
   ]
  },
  {
   "cell_type": "code",
   "execution_count": 12,
   "metadata": {},
   "outputs": [],
   "source": [
    "result = []\n",
    "for leader in gameData['players']:\n",
    "    name = leader['playerName']\n",
    "    civ = leader['playerCiv']\n",
    "    leaderId = getLeaderId(name, civ, knownLeaders)\n",
    "    if leaderId is None:\n",
    "        newLeader = {\n",
    "            'leaderId': None,\n",
    "            'name': name,\n",
    "            'civ': civ,\n",
    "            'isMajor': False if (name == civ) else True\n",
    "        }\n",
    "        result.append(newLeader)\n",
    "\n",
    "for row in result:\n",
    "    print(row)"
   ]
  },
  {
   "cell_type": "code",
   "execution_count": 13,
   "metadata": {},
   "outputs": [],
   "source": [
    "for row in result:\n",
    "#    print(row)\n",
    "    cur.execute('INSERT INTO leader VALUES(:leaderId, :name, :civ, :isMajor)', row)"
   ]
  },
  {
   "cell_type": "code",
   "execution_count": 14,
   "metadata": {},
   "outputs": [],
   "source": [
    "cnx.commit()"
   ]
  },
  {
   "cell_type": "markdown",
   "metadata": {},
   "source": [
    "# Populate gameLeader table"
   ]
  },
  {
   "cell_type": "code",
   "execution_count": 15,
   "metadata": {},
   "outputs": [
    {
     "name": "stdout",
     "output_type": "stream",
     "text": [
      "    leaderId                  name            civ\n",
      "0          7             Amanitore          Nubia\n",
      "1         35               Antioch        Antioch\n",
      "2         14                Armagh         Armagh\n",
      "3         28              Auckland       Auckland\n",
      "4          4               Babylon        Babylon\n",
      "5          3         Bandar Brunei  Bandar Brunei\n",
      "6         13              Brussels       Brussels\n",
      "7         47          Buenos Aires   Buenos Aires\n",
      "8         48              Carthage       Carthage\n",
      "9         11   Catherine de Medici         France\n",
      "10        22             Cleopatra          Egypt\n",
      "11        26                 Cyrus         Persia\n",
      "12        51  Frederick Barbarossa        Germany\n",
      "13        12                Geneva         Geneva\n",
      "14        21          Genghis Khan       Mongolia\n",
      "15         1             Gilgamesh        Sumeria\n",
      "16        20               Gitarja      Indonesia\n",
      "17        45               Granada        Granada\n",
      "18        24       Harald Hardrada         Norway\n",
      "19        36               Hattusa        Hattusa\n",
      "20         5             Hong Kong      Hong Kong\n",
      "21         6               Jadwiga         Poland\n",
      "22        30             Jerusalem      Jerusalem\n",
      "23        16                 Kabul          Kabul\n",
      "24        34                 Kandy          Kandy\n",
      "25        52                Kumasi         Kumasi\n",
      "26        18              La Venta       La Venta\n",
      "27        43               Lautaro        Mapuche\n",
      "28        17                Lisbon         Lisbon\n",
      "29        19          Mohenjo-Daro   Mohenjo-Daro\n",
      "30         2             Montezuma          Aztec\n",
      "31        33                Muscat         Muscat\n",
      "32        40       Mvemba a Nzinga          Kongo\n",
      "33        29             Nan Madol      Nan Madol\n",
      "34        39              Pericles         Greece\n",
      "35        10                 Peter         Russia\n",
      "36        49             Philip II          Spain\n",
      "37        42            Poundmaker           Cree\n",
      "38        31               Preslav        Preslav\n",
      "39         9      Robert the Bruce       Scotland\n",
      "40        50               Saladin         Arabia\n",
      "41        23              Seondeok          Korea\n",
      "42        41                 Shaka           Zulu\n",
      "43        15             Stockholm      Stockholm\n",
      "44        38       Teddy Roosevelt        America\n",
      "45        27               Tomyris        Scythia\n",
      "46        53               Toronto        Toronto\n",
      "47        25                Trajan           Rome\n",
      "48        46              Valletta       Valletta\n",
      "49        44               Vilnius        Vilnius\n",
      "50         8            Wilhelmina    Netherlands\n",
      "51        37               Yerevan        Yerevan\n",
      "52        32              Zanzibar       Zanzibar\n",
      "Catherine de Medici\n",
      "6\n"
     ]
    }
   ],
   "source": [
    "knownLeaders = getKnownLeaders(cnx)\n",
    "print(knownLeaders)\n",
    "humanLeaderName = gameData['leader']\n",
    "print(humanLeaderName)\n",
    "print(gameId)"
   ]
  },
  {
   "cell_type": "code",
   "execution_count": 16,
   "metadata": {},
   "outputs": [
    {
     "name": "stdout",
     "output_type": "stream",
     "text": [
      "{'gameId': 6, 'leaderId': 11, 'isHuman': True}\n",
      "{'gameId': 6, 'leaderId': 27, 'isHuman': False}\n",
      "{'gameId': 6, 'leaderId': 49, 'isHuman': False}\n",
      "{'gameId': 6, 'leaderId': 50, 'isHuman': False}\n",
      "{'gameId': 6, 'leaderId': 1, 'isHuman': False}\n",
      "{'gameId': 6, 'leaderId': 51, 'isHuman': False}\n",
      "{'gameId': 6, 'leaderId': 4, 'isHuman': False}\n",
      "{'gameId': 6, 'leaderId': 19, 'isHuman': False}\n",
      "{'gameId': 6, 'leaderId': 52, 'isHuman': False}\n",
      "{'gameId': 6, 'leaderId': 53, 'isHuman': False}\n",
      "{'gameId': 6, 'leaderId': 45, 'isHuman': False}\n",
      "{'gameId': 6, 'leaderId': 33, 'isHuman': False}\n",
      "{'gameId': 6, 'leaderId': 3, 'isHuman': False}\n",
      "{'gameId': 6, 'leaderId': 34, 'isHuman': False}\n",
      "{'gameId': 6, 'leaderId': 13, 'isHuman': False}\n"
     ]
    }
   ],
   "source": [
    "result = []\n",
    "for leader in gameData['players']:\n",
    "    name = leader['playerName']\n",
    "    civ = leader['playerCiv']\n",
    "    leaderId = getLeaderId(name, civ, knownLeaders)\n",
    "    if name == humanLeaderName:\n",
    "        newGameLeader = {\n",
    "            'gameId': gameId,\n",
    "            'leaderId': leaderId,\n",
    "            'isHuman': True,\n",
    "        }\n",
    "        result.append(newGameLeader)\n",
    "    else:\n",
    "        newGameLeader = {\n",
    "            'gameId': gameId,\n",
    "            'leaderId': leaderId,\n",
    "            'isHuman': False,\n",
    "        }\n",
    "        result.append(newGameLeader)\n",
    "    \n",
    "for row in result:\n",
    "    print(row)"
   ]
  },
  {
   "cell_type": "code",
   "execution_count": 17,
   "metadata": {},
   "outputs": [],
   "source": [
    "for row in result:\n",
    "#    print(row)\n",
    "    cur.execute('INSERT INTO gameLeader VALUES(:gameId, :leaderId, :isHuman)', row)"
   ]
  },
  {
   "cell_type": "code",
   "execution_count": 18,
   "metadata": {},
   "outputs": [],
   "source": [
    "cnx.commit()"
   ]
  },
  {
   "cell_type": "markdown",
   "metadata": {},
   "source": [
    "# Populate citySettled and gameCity Tables"
   ]
  },
  {
   "cell_type": "code",
   "execution_count": 21,
   "metadata": {},
   "outputs": [
    {
     "name": "stdout",
     "output_type": "stream",
     "text": [
      "84 Philip II Madrid\n",
      "85 Gilgamesh Uruk\n",
      "86 Babylon Babylon\n",
      "87 Mohenjo-Daro Mohenjo-Daro\n",
      "88 Kumasi Kumasi\n",
      "89 Toronto Toronto\n",
      "90 Granada Granada\n",
      "91 Muscat Muscat\n",
      "92 Bandar Brunei Bandar Brunei\n",
      "93 Kandy Kandy\n",
      "94 Brussels Brussels\n",
      "95 Catherine de Medici Paris\n",
      "96 Tomyris Pokrovka\n",
      "97 Frederick Barbarossa Aachen\n"
     ]
    }
   ],
   "source": [
    "citySettledLog = rawData['cityOnSettledLog']\n",
    "#print(citySettledLog)\n",
    "for city in citySettledLog:\n",
    "    ownerName = city['ownerName']\n",
    "    name = city['cityName']\n",
    "    leaderId = int(knownLeaders[(knownLeaders.name == ownerName)].iloc[0].leaderId)\n",
    "\n",
    "    sqlInsert = \"INSERT INTO citySettledLog VALUES(:cityId, :name, :settledById, :onTurn)\"\n",
    "    parameters = {'cityId': None, 'name': name, 'settledById':leaderId, 'onTurn':city['turn']}\n",
    "    cur.execute(sqlInsert, parameters)\n",
    "    cityId = cur.lastrowid\n",
    "    print(cityId, ownerName, name)\n",
    "    \n",
    "    sqlInsert = \"INSERT INTO gameCity VALUES(:gameId, :cityId)\"\n",
    "    parameters = {'gameId':gameId, 'cityId':cityId}\n",
    "    cur.execute(sqlInsert, parameters)"
   ]
  },
  {
   "cell_type": "code",
   "execution_count": 20,
   "metadata": {},
   "outputs": [],
   "source": [
    "#cnx.rollback()"
   ]
  },
  {
   "cell_type": "code",
   "execution_count": 22,
   "metadata": {},
   "outputs": [],
   "source": [
    "cnx.commit()"
   ]
  },
  {
   "cell_type": "markdown",
   "metadata": {},
   "source": [
    "## Populate cityPlotsSettled"
   ]
  },
  {
   "cell_type": "code",
   "execution_count": 23,
   "metadata": {},
   "outputs": [
    {
     "name": "stdout",
     "output_type": "stream",
     "text": [
      "    gameId  cityId       cityName            leaderName  leaderId  \\\n",
      "0        6      84         Madrid             Philip II        49   \n",
      "1        6      85           Uruk             Gilgamesh         1   \n",
      "2        6      86        Babylon               Babylon         4   \n",
      "3        6      87   Mohenjo-Daro          Mohenjo-Daro        19   \n",
      "4        6      88         Kumasi                Kumasi        52   \n",
      "5        6      89        Toronto               Toronto        53   \n",
      "6        6      90        Granada               Granada        45   \n",
      "7        6      91         Muscat                Muscat        33   \n",
      "8        6      92  Bandar Brunei         Bandar Brunei         3   \n",
      "9        6      93          Kandy                 Kandy        34   \n",
      "10       6      94       Brussels              Brussels        13   \n",
      "11       6      95          Paris   Catherine de Medici        11   \n",
      "12       6      96       Pokrovka               Tomyris        27   \n",
      "13       6      97         Aachen  Frederick Barbarossa        51   \n",
      "\n",
      "        leaderCiv  isMajorLeader  isHumanLeader  onTurn  \n",
      "0           Spain              1              0       1  \n",
      "1         Sumeria              1              0       1  \n",
      "2         Babylon              0              0       1  \n",
      "3    Mohenjo-Daro              0              0       1  \n",
      "4          Kumasi              0              0       1  \n",
      "5         Toronto              0              0       1  \n",
      "6         Granada              0              0       1  \n",
      "7          Muscat              0              0       1  \n",
      "8   Bandar Brunei              0              0       1  \n",
      "9           Kandy              0              0       1  \n",
      "10       Brussels              0              0       1  \n",
      "11         France              1              1       2  \n",
      "12        Scythia              1              0       2  \n",
      "13        Germany              1              0       2  \n"
     ]
    }
   ],
   "source": [
    "sqlSelect = 'SELECT * FROM gameCityLeaderSettledView WHERE gameId = :gameId'\n",
    "gameCLS = pd.read_sql_query(sqlSelect, cnx, params={'gameId':gameId})\n",
    "print(gameCLS)"
   ]
  },
  {
   "cell_type": "code",
   "execution_count": null,
   "metadata": {},
   "outputs": [],
   "source": [
    "# Testing, can safely ignore this!\n",
    "#ownerCityId = int(gameCLS[gameCLS.cityName == 'Amsterdam'].iloc[0].cityId)\n",
    "#print(ownerCityId)\n",
    "#print(type(ownerCityId))"
   ]
  },
  {
   "cell_type": "code",
   "execution_count": 24,
   "metadata": {},
   "outputs": [
    {
     "name": "stdout",
     "output_type": "stream",
     "text": [
      "{'plotId': None, 'ownerCityId': 84, 'ring': 0, 'terrain': 'Plains (Hills)', 'feature': 'None', 'resource': 'None', 'resourceCount': 0, 'resourceType': 'None', 'workers': 1, 'district': 'City Center', 'hasRiver': True, 'isWater': False, 'isLake': False, 'isCity': True}\n",
      "{'plotId': None, 'ownerCityId': 84, 'ring': 1, 'terrain': 'Grassland (Hills)', 'feature': 'None', 'resource': 'Stone', 'resourceCount': 1, 'resourceType': 'Bonus', 'workers': 0, 'district': 'None', 'hasRiver': True, 'isWater': False, 'isLake': False, 'isCity': False}\n",
      "{'plotId': None, 'ownerCityId': 84, 'ring': 1, 'terrain': 'Plains (Hills)', 'feature': 'None', 'resource': 'Sheep', 'resourceCount': 1, 'resourceType': 'Bonus', 'workers': 0, 'district': 'None', 'hasRiver': True, 'isWater': False, 'isLake': False, 'isCity': False}\n"
     ]
    }
   ],
   "source": [
    "# building up the cityPlotsSettled data for entry...\n",
    "result = []\n",
    "for city in rawData['cityOnSettledLog']:\n",
    "    for plot in city['plots']:\n",
    "        try:\n",
    "            ownerCityId = int(gameCLS[gameCLS.cityName == plot['ownerCity']].iloc[0].cityId)\n",
    "        except IndexError:\n",
    "            ownerCityId = None\n",
    "        plotInfo = {\n",
    "            'plotId': None,\n",
    "            'ownerCityId': ownerCityId,\n",
    "            'ring': plot['r'],\n",
    "            'terrain': plot['terrain'],\n",
    "            'feature': plot['feature'],\n",
    "            'resource': plot['resource'],\n",
    "            'resourceCount': plot['resourceCount'],\n",
    "            'resourceType': plot['resourceType'],\n",
    "            'workers': plot['workers'],\n",
    "            'district': plot['district'],\n",
    "            'hasRiver': plot['hasRiver'],\n",
    "            'isWater': plot['isWater'],\n",
    "            'isLake': plot['isLake'],\n",
    "            'isCity': plot['isCity'],\n",
    "        }\n",
    "        result.append(plotInfo)\n",
    "\n",
    "print(result[0])\n",
    "print(result[1])\n",
    "print(result[2])"
   ]
  },
  {
   "cell_type": "code",
   "execution_count": 25,
   "metadata": {},
   "outputs": [],
   "source": [
    "for row in result:\n",
    "    cur.execute('INSERT INTO cityPlotsSettled VALUES(:plotId, :ownerCityId, :ring, :terrain, :feature, :resource, :resourceCount, :resourceType, :workers, :district, :hasRiver, :isWater, :isLake, :isCity )',\n",
    "                row)"
   ]
  },
  {
   "cell_type": "code",
   "execution_count": null,
   "metadata": {},
   "outputs": [],
   "source": [
    "#cnx.rollback()"
   ]
  },
  {
   "cell_type": "code",
   "execution_count": 26,
   "metadata": {},
   "outputs": [],
   "source": [
    "cnx.commit()"
   ]
  },
  {
   "cell_type": "markdown",
   "metadata": {},
   "source": [
    "## Populate cityPerTurnLog"
   ]
  },
  {
   "cell_type": "code",
   "execution_count": 27,
   "metadata": {},
   "outputs": [],
   "source": [
    "def getCityId(cityName):\n",
    "    try:\n",
    "        # The iloc is neccessary as we can't assume there is only one return value!?\n",
    "        # also have to make sure it is int as numpy.int64 doesn't go into sqlite so well?\n",
    "        return int(gameCLS[gameCLS.cityName == cityName].iloc[0].cityId)\n",
    "    except IndexError:\n",
    "        return None\n",
    "    \n",
    "def getLeaderId(ownerName, ownerCiv):\n",
    "    try:\n",
    "        # The iloc is necessary as we can't assume there is only one return value!?\n",
    "        # also have to make sure it is int as numpy.int64 doesn't go into sqlite so well?\n",
    "        return int(gameCLS[gameCLS.leaderName  == ownerName].iloc[0].leaderId)\n",
    "    except IndexError:\n",
    "        return None"
   ]
  },
  {
   "cell_type": "code",
   "execution_count": 28,
   "metadata": {},
   "outputs": [
    {
     "name": "stdout",
     "output_type": "stream",
     "text": [
      "{'cityId': 84, 'turn': 1, 'ownerId': 49, 'foodPerTurn': '4.00', 'foodToolTip': '+4 from Worked Tiles', 'productionPerTurn': '6.25', 'productionToolTip': '+3 from Worked Tiles[NEWLINE]+2 from Buildings[NEWLINE]   +2 from Palace[NEWLINE]+20pct (+1) from Modifiers[NEWLINE]+5pct (+0.2) from Amenities', 'goldPerTurn': '7.50', 'goldToolTip': '+1 from Worked Tiles[NEWLINE]+5 from Buildings[NEWLINE]   +5 from Palace[NEWLINE]+20pct (+1.1) from Modifiers[NEWLINE]+5pct (+0.2) from Amenities', 'sciencePerTurn': '3.95', 'scienceToolTip': '+1 from Worked Tiles[NEWLINE]+2 from Buildings[NEWLINE]   +2 from Palace[NEWLINE]+0.5 from Population[NEWLINE]+8pct (+0.2) from Modifiers[NEWLINE]+5pct (+0.1) from Amenities', 'culturePerTurn': '1.46', 'cultureToolTip': '+1 from Buildings[NEWLINE]   +1 from Palace[NEWLINE]+0.2 from Population[NEWLINE]+8pct (+0.1) from Modifiers[NEWLINE]+5pct (+0) from Amenities', 'faithPerTurn': '0.00', 'faithToolTip': '+8pct (+0) from Modifiers[NEWLINE]+5pct (+0) from Amenities', 'population': 1, 'housing': 6, 'amenities': 1, 'amenitiesNeeded': 0, 'happiness': 'Happy'}\n",
      "{'cityId': 85, 'turn': 1, 'ownerId': 1, 'foodPerTurn': '3.00', 'foodToolTip': '+3 from Worked Tiles', 'productionPerTurn': '7.50', 'productionToolTip': '+4 from Worked Tiles[NEWLINE]+2 from Buildings[NEWLINE]   +2 from Palace[NEWLINE]+20pct (+1.1) from Modifiers[NEWLINE]+5pct (+0.2) from Amenities', 'goldPerTurn': '6.25', 'goldToolTip': '+5 from Buildings[NEWLINE]   +5 from Palace[NEWLINE]+20pct (+1) from Modifiers[NEWLINE]+5pct (+0.2) from Amenities', 'sciencePerTurn': '2.82', 'scienceToolTip': '+2 from Buildings[NEWLINE]   +2 from Palace[NEWLINE]+0.5 from Population[NEWLINE]+8pct (+0.1) from Modifiers[NEWLINE]+5pct (+0.1) from Amenities', 'culturePerTurn': '1.46', 'cultureToolTip': '+1 from Buildings[NEWLINE]   +1 from Palace[NEWLINE]+0.2 from Population[NEWLINE]+8pct (+0.1) from Modifiers[NEWLINE]+5pct (+0) from Amenities', 'faithPerTurn': '0.00', 'faithToolTip': '+8pct (+0) from Modifiers[NEWLINE]+5pct (+0) from Amenities', 'population': 1, 'housing': 6, 'amenities': 1, 'amenitiesNeeded': 0, 'happiness': 'Happy'}\n",
      "{'cityId': 94, 'turn': 54, 'ownerId': 13, 'foodPerTurn': '13.00', 'foodToolTip': '+13 from Worked Tiles', 'productionPerTurn': '4.05', 'productionToolTip': '+7 from Worked Tiles[NEWLINE]+2 from Buildings[NEWLINE]   +2 from Palace[NEWLINE]-50pct (-4.5) from Modifiers[NEWLINE]-5pct (-0.4) from Amenities', 'goldPerTurn': '4.75', 'goldToolTip': '+5 from Buildings[NEWLINE]   +5 from Palace[NEWLINE]-5pct (-0.2) from Amenities', 'sciencePerTurn': '4.28', 'scienceToolTip': '+2 from Buildings[NEWLINE]   +2 from Palace[NEWLINE]+2.5 from Population[NEWLINE]-5pct (-0.2) from Amenities', 'culturePerTurn': '4.28', 'cultureToolTip': '+2 from Buildings[NEWLINE]   +1 from Monument[NEWLINE]   +1 from Palace[NEWLINE]+1.5 from Population[NEWLINE]+1 from Modifiers[NEWLINE]-5pct (-0.2) from Amenities', 'faithPerTurn': '0.00', 'faithToolTip': '-5pct (+0) from Amenities', 'population': 5, 'housing': 7, 'amenities': 1, 'amenitiesNeeded': 2, 'happiness': 'Displeased'}\n"
     ]
    }
   ],
   "source": [
    "# building up the cityPerTurnLog data for entry...\n",
    "result = []\n",
    "for logEntry in rawData['cityPerTurnLog']:\n",
    "    turnInfo = {\n",
    "        'cityId': getCityId(logEntry['cityName']),\n",
    "        'turn': int(logEntry['turn']),\n",
    "        'ownerId': getLeaderId(logEntry['ownerName'], 'Blah'),\n",
    "        'foodPerTurn': logEntry['foodPerTurn'],\n",
    "        'foodToolTip': logEntry['foodToolTip'],\n",
    "        'productionPerTurn': logEntry['productionPerTurn'],\n",
    "        'productionToolTip': logEntry['productionToolTip'],\n",
    "        'goldPerTurn': logEntry['goldPerTurn'],\n",
    "        'goldToolTip': logEntry['goldToolTip'],\n",
    "        'sciencePerTurn': logEntry['sciencePerTurn'],\n",
    "        'scienceToolTip': logEntry['scienceToolTip'],\n",
    "        'culturePerTurn': logEntry['culturePerTurn'],\n",
    "        'cultureToolTip': logEntry['cultureToolTip'],\n",
    "        'faithPerTurn': logEntry['faithPerTurn'],\n",
    "        'faithToolTip': logEntry['faithToolTip'],\n",
    "        'population': logEntry['population'],\n",
    "        'housing': logEntry['housing'],\n",
    "        'amenities': logEntry['amenities'],\n",
    "        'amenitiesNeeded': logEntry['amenitiesNeeded'],\n",
    "        'happiness': logEntry['happiness'],\n",
    "    }\n",
    "    result.append(turnInfo)\n",
    "\n",
    "print(result[0])\n",
    "print(result[1])\n",
    "print(result[-1])"
   ]
  },
  {
   "cell_type": "code",
   "execution_count": 29,
   "metadata": {},
   "outputs": [],
   "source": [
    "for row in result:\n",
    "    cur.execute('INSERT INTO cityPerTurnLog VALUES(:cityId, :turn, :ownerId, :foodPerTurn, :foodToolTip, :productionPerTurn, :productionToolTip, :goldPerTurn, :goldToolTip, :sciencePerTurn, :scienceToolTip, :culturePerTurn, :cultureToolTip, :faithPerTurn, :faithToolTip, :population, :housing, :amenities, :amenitiesNeeded, :happiness)',\n",
    "                row)"
   ]
  },
  {
   "cell_type": "code",
   "execution_count": null,
   "metadata": {},
   "outputs": [],
   "source": []
  },
  {
   "cell_type": "code",
   "execution_count": null,
   "metadata": {},
   "outputs": [],
   "source": [
    "cnx.rollback()"
   ]
  },
  {
   "cell_type": "code",
   "execution_count": 30,
   "metadata": {},
   "outputs": [],
   "source": [
    "cnx.commit()"
   ]
  },
  {
   "cell_type": "code",
   "execution_count": 31,
   "metadata": {},
   "outputs": [],
   "source": [
    "cnx.close()"
   ]
  },
  {
   "cell_type": "code",
   "execution_count": null,
   "metadata": {},
   "outputs": [],
   "source": []
  }
 ],
 "metadata": {
  "kernelspec": {
   "display_name": "Python 3",
   "language": "python",
   "name": "python3"
  },
  "language_info": {
   "codemirror_mode": {
    "name": "ipython",
    "version": 3
   },
   "file_extension": ".py",
   "mimetype": "text/x-python",
   "name": "python",
   "nbconvert_exporter": "python",
   "pygments_lexer": "ipython3",
   "version": "3.7.0"
  }
 },
 "nbformat": 4,
 "nbformat_minor": 2
}
