{
 "cells": [
  {
   "cell_type": "code",
   "execution_count": 1,
   "metadata": {},
   "outputs": [],
   "source": [
    "import pandas as pd\n",
    "import numpy as np\n",
    "from sklearn.feature_selection import RFE\n",
    "from sklearn import tree"
   ]
  },
  {
   "cell_type": "code",
   "execution_count": 2,
   "metadata": {},
   "outputs": [
    {
     "name": "stdout",
     "output_type": "stream",
     "text": [
      "Training features: (263, 36)\n",
      "Training labels: (263, 13)\n",
      "Combined: (263, 48)\n"
     ]
    }
   ],
   "source": [
    "trainingFeaturesFilename = 'ModelInput/features.csv'\n",
    "trainingLabelsFilename = 'ModelInput/labels.csv'\n",
    "\n",
    "trainingFeatures = pd.read_csv(trainingFeaturesFilename)\n",
    "trainingLabels = pd.read_csv(trainingLabelsFilename)\n",
    "\n",
    "# For classification this isn't necessary!\n",
    "#trainingFeatures['cityHasRiver'] = trainingFeatures['cityHasRiver'].astype('category')\n",
    "\n",
    "print(\"Training features: {}\".format(trainingFeatures.shape))\n",
    "print(\"Training labels: {}\".format(trainingLabels.shape))\n",
    "\n",
    "tempDF = pd.merge(trainingFeatures, trainingLabels, on='cityId', how='inner')\n",
    "print(\"Combined: {}\".format(tempDF.shape))"
   ]
  },
  {
   "cell_type": "code",
   "execution_count": 3,
   "metadata": {},
   "outputs": [
    {
     "name": "stdout",
     "output_type": "stream",
     "text": [
      "(263, 34)\n",
      "[0. 1. 0. 0. 0. 0. 0. 0. 1. 0. 0. 0. 0. 0. 0. 0. 0. 0. 1. 1. 1. 0. 1. 1.\n",
      " 1. 0. 0. 0. 1. 0. 0. 0. 0. 0. 0. 0. 0. 0. 0. 0. 0. 0. 0. 0. 0. 0. 0. 0.\n",
      " 0. 0. 1. 1. 0. 1. 0. 0. 0. 0. 0. 0. 0. 0. 0. 0. 0. 0. 1. 1. 1. 1. 1. 0.\n",
      " 0. 0. 0. 0. 0. 0. 0. 0. 0. 1. 1. 1. 0. 1. 0. 0. 0. 0. 0. 0. 0. 0. 0. 1.\n",
      " 0. 1. 1. 0. 1. 0. 0. 0. 0. 0. 0. 0. 0. 0. 1. 0. 1. 1. 0. 0. 1. 0. 0. 0.\n",
      " 0. 0. 0. 0. 0. 0. 0. 0. 1. 0. 1. 1. 1. 0. 0. 0. 0. 0. 0. 0. 0. 0. 1. 1.\n",
      " 1. 1. 0. 1. 0. 0. 0. 0. 0. 0. 0. 0. 0. 1. 1. 0. 0. 1. 0. 0. 0. 0. 0. 0.\n",
      " 0. 0. 0. 1. 1. 1. 0. 0. 1. 0. 0. 0. 0. 0. 0. 0. 0. 0. 1. 1. 1. 0. 1. 0.\n",
      " 1. 0. 0. 0. 0. 0. 0. 0. 0. 0. 0. 1. 1. 1. 0. 0. 1. 0. 0. 0. 0. 0. 0. 1.\n",
      " 0. 0. 0. 1. 1. 0. 0. 0. 0. 0. 0. 0. 0. 0. 0. 1. 0. 1. 1. 1. 1. 0. 0. 0.\n",
      " 0. 0. 0. 0. 0. 0. 0. 1. 0. 1. 0. 0. 0. 0. 0. 0. 0. 0. 0. 0. 0. 0. 1.]\n"
     ]
    }
   ],
   "source": [
    "# Start at 2nd column, i.e. exclude country_code\n",
    "X = pd.get_dummies(trainingFeatures.iloc[:,2:len(trainingFeatures)])\n",
    "y = tempDF['cityScore'].values\n",
    "print(X.shape)\n",
    "#print(type(X))\n",
    "print(y)"
   ]
  },
  {
   "cell_type": "code",
   "execution_count": 4,
   "metadata": {},
   "outputs": [],
   "source": [
    "clf = tree.DecisionTreeClassifier()\n",
    "rfe = RFE(clf, 6)\n",
    "fit = rfe.fit(X,y)"
   ]
  },
  {
   "cell_type": "code",
   "execution_count": 5,
   "metadata": {},
   "outputs": [
    {
     "name": "stdout",
     "output_type": "stream",
     "text": [
      "Num Features: 6\n",
      "Selected Features: [False  True  True False False False  True False  True False False False\n",
      "  True False False False False  True False False False False False False\n",
      " False False False False False False False False False False]\n",
      "Feature Ranking: [28  1  1  6  2 14  1 15  1  8 17 19  1 20  7 25 29  1 10 26  4 16 21 18\n",
      " 24 22 23 11  9  3 27 13  5 12]\n"
     ]
    }
   ],
   "source": [
    "print(\"Num Features: {}\".format(fit.n_features_))\n",
    "print(\"Selected Features: {}\".format(fit.support_))\n",
    "print(\"Feature Ranking: {}\".format(fit.ranking_))"
   ]
  },
  {
   "cell_type": "code",
   "execution_count": 6,
   "metadata": {},
   "outputs": [
    {
     "name": "stdout",
     "output_type": "stream",
     "text": [
      "Index(['PlainsRainforest', 'Plains', 'PlainsHillsRainforest', 'CoastLake',\n",
      "       'GrasslandWoods', 'GrasslandHillsWoods'],\n",
      "      dtype='object')\n",
      "<bound method NDFrame.head of      PlainsRainforest  Plains  PlainsHillsRainforest  CoastLake  \\\n",
      "0              0.0526  0.3158                 0.0526     0.0000   \n",
      "1              0.1579  0.1053                 0.0000     0.1579   \n",
      "2              0.0526  0.3158                 0.0000     0.0000   \n",
      "3              0.1053  0.2105                 0.0000     0.3158   \n",
      "4              0.0526  0.0000                 0.0000     0.0000   \n",
      "5              0.0000  0.0000                 0.0000     0.0000   \n",
      "6              0.2105  0.2632                 0.0000     0.1053   \n",
      "7              0.0526  0.1053                 0.1053     0.2105   \n",
      "8              0.2105  0.2105                 0.1579     0.0000   \n",
      "9              0.0000  0.1053                 0.0000     0.0000   \n",
      "10             0.3158  0.2105                 0.0000     0.0000   \n",
      "11             0.1053  0.3158                 0.1053     0.0000   \n",
      "12             0.0000  0.1053                 0.0000     0.3158   \n",
      "13             0.0000  0.2105                 0.0000     0.3158   \n",
      "14             0.2105  0.1579                 0.0526     0.2632   \n",
      "15             0.1579  0.0526                 0.0000     0.0000   \n",
      "16             0.0000  0.0000                 0.0000     0.2105   \n",
      "17             0.0526  0.0526                 0.0000     0.1053   \n",
      "18             0.0000  0.0000                 0.0000     0.0000   \n",
      "19             0.0000  0.0000                 0.0000     0.2632   \n",
      "20             0.0000  0.0000                 0.0000     0.3684   \n",
      "21             0.0000  0.3684                 0.0000     0.0000   \n",
      "22             0.0000  0.3684                 0.0000     0.0000   \n",
      "23             0.0000  0.2632                 0.0000     0.2632   \n",
      "24             0.0000  0.0000                 0.0000     0.0000   \n",
      "25             0.0000  0.0000                 0.0000     0.0000   \n",
      "26             0.0000  0.1053                 0.0000     0.0000   \n",
      "27             0.7368  0.1579                 0.0526     0.0000   \n",
      "28             0.4737  0.0000                 0.0526     0.0000   \n",
      "29             0.0000  0.5789                 0.0000     0.0000   \n",
      "..                ...     ...                    ...        ...   \n",
      "233            0.0000  0.3684                 0.0000     0.0526   \n",
      "234            0.0000  0.0000                 0.0000     0.0000   \n",
      "235            0.1053  0.0000                 0.0000     0.0000   \n",
      "236            0.0000  0.1579                 0.0000     0.0000   \n",
      "237            0.0000  0.0526                 0.0000     0.1053   \n",
      "238            0.0000  0.1053                 0.0000     0.0000   \n",
      "239            0.2105  0.0526                 0.1053     0.0000   \n",
      "240            0.0526  0.0000                 0.0526     0.0526   \n",
      "241            0.1053  0.0526                 0.0526     0.0000   \n",
      "242            0.0000  0.2632                 0.0000     0.0526   \n",
      "243            0.0000  0.2105                 0.0000     0.0000   \n",
      "244            0.1579  0.0526                 0.1579     0.3158   \n",
      "245            0.0000  0.0526                 0.0000     0.0000   \n",
      "246            0.0000  0.1579                 0.0000     0.3684   \n",
      "247            0.1053  0.0000                 0.0000     0.0000   \n",
      "248            0.0000  0.5263                 0.0000     0.0000   \n",
      "249            0.0526  0.0000                 0.1579     0.0000   \n",
      "250            0.0000  0.2632                 0.0526     0.0000   \n",
      "251            0.2105  0.1053                 0.0000     0.1053   \n",
      "252            0.0000  0.3684                 0.0000     0.3684   \n",
      "253            0.0000  0.0000                 0.0000     0.1579   \n",
      "254            0.2105  0.0526                 0.0526     0.0000   \n",
      "255            0.0000  0.5263                 0.0000     0.0000   \n",
      "256            0.0000  0.0000                 0.0000     0.0000   \n",
      "257            0.1053  0.0000                 0.0000     0.0000   \n",
      "258            0.1053  0.1579                 0.0526     0.1053   \n",
      "259            0.1053  0.3158                 0.1053     0.0000   \n",
      "260            0.0000  0.0526                 0.0000     0.0000   \n",
      "261            0.2632  0.1053                 0.0000     0.0000   \n",
      "262            0.0000  0.0000                 0.0000     0.0000   \n",
      "\n",
      "     GrasslandWoods  GrasslandHillsWoods  \n",
      "0            0.0000               0.0000  \n",
      "1            0.0526               0.0000  \n",
      "2            0.0526               0.0000  \n",
      "3            0.0000               0.0000  \n",
      "4            0.0526               0.0526  \n",
      "5            0.1579               0.0526  \n",
      "6            0.0000               0.0000  \n",
      "7            0.0526               0.0000  \n",
      "8            0.0526               0.0000  \n",
      "9            0.0526               0.0000  \n",
      "10           0.0526               0.0526  \n",
      "11           0.0526               0.0000  \n",
      "12           0.0526               0.0000  \n",
      "13           0.1053               0.0000  \n",
      "14           0.0526               0.0000  \n",
      "15           0.1053               0.0000  \n",
      "16           0.0000               0.0000  \n",
      "17           0.1053               0.0526  \n",
      "18           0.1053               0.0000  \n",
      "19           0.0000               0.0526  \n",
      "20           0.0000               0.1053  \n",
      "21           0.0000               0.0000  \n",
      "22           0.0000               0.0000  \n",
      "23           0.0000               0.0000  \n",
      "24           0.0526               0.0526  \n",
      "25           0.1579               0.0000  \n",
      "26           0.1579               0.0526  \n",
      "27           0.0000               0.0000  \n",
      "28           0.3158               0.0526  \n",
      "29           0.0000               0.0000  \n",
      "..              ...                  ...  \n",
      "233          0.0526               0.0000  \n",
      "234          0.0526               0.1579  \n",
      "235          0.1053               0.0526  \n",
      "236          0.0526               0.0000  \n",
      "237          0.0000               0.0000  \n",
      "238          0.1053               0.0000  \n",
      "239          0.1579               0.1053  \n",
      "240          0.0526               0.0000  \n",
      "241          0.1579               0.0000  \n",
      "242          0.1053               0.0000  \n",
      "243          0.1053               0.0000  \n",
      "244          0.0000               0.0000  \n",
      "245          0.1053               0.0526  \n",
      "246          0.0000               0.0000  \n",
      "247          0.0000               0.0526  \n",
      "248          0.0526               0.0000  \n",
      "249          0.0526               0.0526  \n",
      "250          0.1053               0.0000  \n",
      "251          0.0000               0.0000  \n",
      "252          0.0000               0.0000  \n",
      "253          0.1053               0.0000  \n",
      "254          0.0000               0.1053  \n",
      "255          0.1053               0.0000  \n",
      "256          0.1579               0.0526  \n",
      "257          0.1579               0.0526  \n",
      "258          0.0000               0.0000  \n",
      "259          0.0000               0.0000  \n",
      "260          0.0000               0.0000  \n",
      "261          0.0000               0.0000  \n",
      "262          0.0000               0.1053  \n",
      "\n",
      "[263 rows x 6 columns]>\n"
     ]
    }
   ],
   "source": [
    "pos = [1, 2,6, 8, 12, 17]\n",
    "colname = X.columns[pos]\n",
    "print(colname)\n",
    "tempDf = X[colname]\n",
    "print(tempDf.head)"
   ]
  },
  {
   "cell_type": "code",
   "execution_count": null,
   "metadata": {},
   "outputs": [],
   "source": []
  }
 ],
 "metadata": {
  "kernelspec": {
   "display_name": "Python 3",
   "language": "python",
   "name": "python3"
  },
  "language_info": {
   "codemirror_mode": {
    "name": "ipython",
    "version": 3
   },
   "file_extension": ".py",
   "mimetype": "text/x-python",
   "name": "python",
   "nbconvert_exporter": "python",
   "pygments_lexer": "ipython3",
   "version": "3.6.7"
  }
 },
 "nbformat": 4,
 "nbformat_minor": 2
}
