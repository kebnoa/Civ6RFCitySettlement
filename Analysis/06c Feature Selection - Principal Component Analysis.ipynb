{
 "cells": [
  {
   "cell_type": "code",
   "execution_count": 1,
   "metadata": {},
   "outputs": [],
   "source": [
    "import pandas as pd\n",
    "import numpy as np\n",
    "from sklearn.decomposition import PCA\n",
    "#from sklearn import tree"
   ]
  },
  {
   "cell_type": "code",
   "execution_count": 2,
   "metadata": {},
   "outputs": [
    {
     "name": "stdout",
     "output_type": "stream",
     "text": [
      "Training features: (263, 36)\n",
      "Training labels: (263, 13)\n",
      "Combined: (263, 48)\n"
     ]
    }
   ],
   "source": [
    "trainingFeaturesFilename = 'ModelInput/features.csv'\n",
    "trainingLabelsFilename = 'ModelInput/labels.csv'\n",
    "\n",
    "trainingFeatures = pd.read_csv(trainingFeaturesFilename)\n",
    "trainingLabels = pd.read_csv(trainingLabelsFilename)\n",
    "\n",
    "# For classification this isn't necessary!\n",
    "#trainingFeatures['cityHasRiver'] = trainingFeatures['cityHasRiver'].astype('category')\n",
    "\n",
    "print(\"Training features: {}\".format(trainingFeatures.shape))\n",
    "print(\"Training labels: {}\".format(trainingLabels.shape))\n",
    "\n",
    "tempDF = pd.merge(trainingFeatures, trainingLabels, on='cityId', how='inner')\n",
    "print(\"Combined: {}\".format(tempDF.shape))"
   ]
  },
  {
   "cell_type": "code",
   "execution_count": 3,
   "metadata": {},
   "outputs": [
    {
     "name": "stdout",
     "output_type": "stream",
     "text": [
      "(263, 34)\n",
      "[0. 1. 0. 0. 0. 0. 0. 0. 1. 0. 0. 0. 0. 0. 0. 0. 0. 0. 1. 1. 1. 0. 1. 1.\n",
      " 1. 0. 0. 0. 1. 0. 0. 0. 0. 0. 0. 0. 0. 0. 0. 0. 0. 0. 0. 0. 0. 0. 0. 0.\n",
      " 0. 0. 1. 1. 0. 1. 0. 0. 0. 0. 0. 0. 0. 0. 0. 0. 0. 0. 1. 1. 1. 1. 1. 0.\n",
      " 0. 0. 0. 0. 0. 0. 0. 0. 0. 1. 1. 1. 0. 1. 0. 0. 0. 0. 0. 0. 0. 0. 0. 1.\n",
      " 0. 1. 1. 0. 1. 0. 0. 0. 0. 0. 0. 0. 0. 0. 1. 0. 1. 1. 0. 0. 1. 0. 0. 0.\n",
      " 0. 0. 0. 0. 0. 0. 0. 0. 1. 0. 1. 1. 1. 0. 0. 0. 0. 0. 0. 0. 0. 0. 1. 1.\n",
      " 1. 1. 0. 1. 0. 0. 0. 0. 0. 0. 0. 0. 0. 1. 1. 0. 0. 1. 0. 0. 0. 0. 0. 0.\n",
      " 0. 0. 0. 1. 1. 1. 0. 0. 1. 0. 0. 0. 0. 0. 0. 0. 0. 0. 1. 1. 1. 0. 1. 0.\n",
      " 1. 0. 0. 0. 0. 0. 0. 0. 0. 0. 0. 1. 1. 1. 0. 0. 1. 0. 0. 0. 0. 0. 0. 1.\n",
      " 0. 0. 0. 1. 1. 0. 0. 0. 0. 0. 0. 0. 0. 0. 0. 1. 0. 1. 1. 1. 1. 0. 0. 0.\n",
      " 0. 0. 0. 0. 0. 0. 0. 1. 0. 1. 0. 0. 0. 0. 0. 0. 0. 0. 0. 0. 0. 0. 1.]\n"
     ]
    }
   ],
   "source": [
    "# Start at 2nd column, i.e. exclude country_code\n",
    "X = pd.get_dummies(trainingFeatures.iloc[:,2:len(trainingFeatures)])\n",
    "y = tempDF['cityScore'].values\n",
    "print(X.shape)\n",
    "#print(type(X))\n",
    "print(y)"
   ]
  },
  {
   "cell_type": "code",
   "execution_count": 4,
   "metadata": {},
   "outputs": [],
   "source": [
    "pca =PCA(n_components=6)\n",
    "fit = pca.fit(X)"
   ]
  },
  {
   "cell_type": "code",
   "execution_count": 5,
   "metadata": {},
   "outputs": [
    {
     "name": "stdout",
     "output_type": "stream",
     "text": [
      "Explained Variance: [0.494 0.157 0.089 0.052 0.043 0.04 ]\n",
      "[[-0.012 -0.019 -0.086 -0.007 -0.014 -0.018 -0.006 -0.034  0.211  0.037\n",
      "  -0.005  0.005 -0.015 -0.     0.027 -0.006 -0.    -0.015 -0.008  0.013\n",
      "  -0.018 -0.    -0.002 -0.005  0.002 -0.001  0.012  0.002 -0.012 -0.01\n",
      "  -0.001 -0.003 -0.007 -0.971]\n",
      " [-0.054 -0.064 -0.482 -0.031 -0.02  -0.113  0.008  0.79  -0.161  0.195\n",
      "  -0.007 -0.065  0.138  0.029 -0.022 -0.001  0.001  0.066  0.036 -0.008\n",
      "  -0.023 -0.005 -0.002 -0.014 -0.004 -0.002 -0.038 -0.005 -0.078  0.114\n",
      "   0.055  0.006  0.06  -0.014]\n",
      " [ 0.033 -0.135  0.693  0.007 -0.103  0.13  -0.056  0.369 -0.449 -0.175\n",
      "  -0.02  -0.143 -0.031  0.002 -0.069  0.056  0.    -0.043 -0.091 -0.022\n",
      "  -0.051  0.017 -0.001  0.001 -0.005  0.    -0.121  0.009  0.082  0.045\n",
      "   0.033  0.027  0.018 -0.181]\n",
      " [-0.047 -0.054  0.158 -0.007 -0.164 -0.022 -0.029  0.313  0.748 -0.344\n",
      "  -0.052 -0.275 -0.021  0.005  0.125  0.017  0.    -0.036 -0.185  0.023\n",
      "  -0.085  0.009 -0.02  -0.024 -0.019 -0.003  0.028  0.078 -0.007  0.001\n",
      "   0.008  0.015  0.01   0.136]\n",
      " [-0.013  0.25  -0.156  0.023  0.137  0.017 -0.026  0.146 -0.089 -0.637\n",
      "   0.017  0.587  0.008 -0.002  0.018 -0.034  0.001 -0.099 -0.226 -0.006\n",
      "   0.176 -0.006 -0.023 -0.034  0.026 -0.004 -0.1    0.     0.023 -0.059\n",
      "   0.026 -0.007 -0.019 -0.039]\n",
      " [ 0.039  0.817 -0.075  0.013 -0.166  0.064  0.168 -0.026 -0.157 -0.122\n",
      "  -0.039 -0.43   0.066  0.028 -0.045 -0.062  0.     0.016 -0.011  0.003\n",
      "  -0.121 -0.013 -0.01  -0.018 -0.026 -0.003  0.091 -0.006 -0.009 -0.011\n",
      "   0.018  0.002 -0.013 -0.048]]\n"
     ]
    }
   ],
   "source": [
    "np.set_printoptions(precision=3, suppress=True)\n",
    "print(\"Explained Variance: {}\".format(fit.explained_variance_ratio_))\n",
    "print(fit.components_)"
   ]
  },
  {
   "cell_type": "code",
   "execution_count": 8,
   "metadata": {},
   "outputs": [],
   "source": [
    "#pos = [2, 7, 8, 9, 12, 26]\n",
    "#colname = X.columns[pos]\n",
    "#print(colname)\n",
    "#tempDf = X[colname]\n",
    "#print(tempDf.head)"
   ]
  },
  {
   "cell_type": "code",
   "execution_count": 8,
   "metadata": {},
   "outputs": [
    {
     "data": {
      "text/plain": [
       "array([[-0.012, -0.019, -0.086, -0.007, -0.014, -0.018, -0.006, -0.034,\n",
       "         0.211,  0.037, -0.005,  0.005, -0.015, -0.   ,  0.027, -0.006,\n",
       "        -0.   , -0.015, -0.008,  0.013, -0.018, -0.   , -0.002, -0.005,\n",
       "         0.002, -0.001,  0.012,  0.002, -0.012, -0.01 , -0.001, -0.003,\n",
       "        -0.007, -0.971],\n",
       "       [-0.054, -0.064, -0.482, -0.031, -0.02 , -0.113,  0.008,  0.79 ,\n",
       "        -0.161,  0.195, -0.007, -0.065,  0.138,  0.029, -0.022, -0.001,\n",
       "         0.001,  0.066,  0.036, -0.008, -0.023, -0.005, -0.002, -0.014,\n",
       "        -0.004, -0.002, -0.038, -0.005, -0.078,  0.114,  0.055,  0.006,\n",
       "         0.06 , -0.014],\n",
       "       [ 0.033, -0.135,  0.693,  0.007, -0.103,  0.13 , -0.056,  0.369,\n",
       "        -0.449, -0.175, -0.02 , -0.143, -0.031,  0.002, -0.069,  0.056,\n",
       "         0.   , -0.043, -0.091, -0.022, -0.051,  0.017, -0.001,  0.001,\n",
       "        -0.005,  0.   , -0.121,  0.009,  0.082,  0.045,  0.033,  0.027,\n",
       "         0.018, -0.181],\n",
       "       [-0.047, -0.054,  0.158, -0.007, -0.164, -0.022, -0.029,  0.313,\n",
       "         0.748, -0.344, -0.052, -0.275, -0.021,  0.005,  0.125,  0.017,\n",
       "         0.   , -0.036, -0.185,  0.023, -0.085,  0.009, -0.02 , -0.024,\n",
       "        -0.019, -0.003,  0.028,  0.078, -0.007,  0.001,  0.008,  0.015,\n",
       "         0.01 ,  0.136],\n",
       "       [-0.013,  0.25 , -0.156,  0.023,  0.137,  0.017, -0.026,  0.146,\n",
       "        -0.089, -0.637,  0.017,  0.587,  0.008, -0.002,  0.018, -0.034,\n",
       "         0.001, -0.099, -0.226, -0.006,  0.176, -0.006, -0.023, -0.034,\n",
       "         0.026, -0.004, -0.1  ,  0.   ,  0.023, -0.059,  0.026, -0.007,\n",
       "        -0.019, -0.039],\n",
       "       [ 0.039,  0.817, -0.075,  0.013, -0.166,  0.064,  0.168, -0.026,\n",
       "        -0.157, -0.122, -0.039, -0.43 ,  0.066,  0.028, -0.045, -0.062,\n",
       "         0.   ,  0.016, -0.011,  0.003, -0.121, -0.013, -0.01 , -0.018,\n",
       "        -0.026, -0.003,  0.091, -0.006, -0.009, -0.011,  0.018,  0.002,\n",
       "        -0.013, -0.048]])"
      ]
     },
     "execution_count": 8,
     "metadata": {},
     "output_type": "execute_result"
    }
   ],
   "source": [
    "fit.components_"
   ]
  }
 ],
 "metadata": {
  "kernelspec": {
   "display_name": "Python 3",
   "language": "python",
   "name": "python3"
  },
  "language_info": {
   "codemirror_mode": {
    "name": "ipython",
    "version": 3
   },
   "file_extension": ".py",
   "mimetype": "text/x-python",
   "name": "python",
   "nbconvert_exporter": "python",
   "pygments_lexer": "ipython3",
   "version": "3.6.7"
  }
 },
 "nbformat": 4,
 "nbformat_minor": 2
}
