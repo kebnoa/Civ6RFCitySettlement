{
 "cells": [
  {
   "cell_type": "code",
   "execution_count": 1,
   "metadata": {},
   "outputs": [],
   "source": [
    "import numpy as np\n",
    "import pandas as pd\n",
    "from sklearn import preprocessing\n",
    "from sklearn.model_selection import train_test_split\n",
    "from sklearn import tree\n",
    "#from sklearn.ensemble import RandomForestClassifier\n",
    "from sklearn import metrics\n",
    "from sklearn.model_selection import cross_val_score, GridSearchCV\n",
    "# need to install conda install python-graphviz to enable this!\n",
    "import graphviz\n",
    "# dtreeviz has installation instructions on their site, follow it!\n",
    "from dtreeviz.trees import *"
   ]
  },
  {
   "cell_type": "code",
   "execution_count": null,
   "metadata": {},
   "outputs": [],
   "source": []
  },
  {
   "cell_type": "code",
   "execution_count": 2,
   "metadata": {},
   "outputs": [
    {
     "name": "stdout",
     "output_type": "stream",
     "text": [
      "Training features: (128, 36)\n",
      "Training labels: (128, 13)\n"
     ]
    }
   ],
   "source": [
    "trainingFeaturesFilename = 'ModelInput/features.csv'\n",
    "trainingLabelsFilename = 'ModelInput/labels.csv'\n",
    "\n",
    "trainingFeatures = pd.read_csv(trainingFeaturesFilename)\n",
    "trainingLabels = pd.read_csv(trainingLabelsFilename)\n",
    "\n",
    "# For classification this isn't necessary!\n",
    "#trainingFeatures['cityHasRiver'] = trainingFeatures['cityHasRiver'].astype('category')\n",
    "\n",
    "print(\"Training features: {}\".format(trainingFeatures.shape))\n",
    "print(\"Training labels: {}\".format(trainingLabels.shape))\n",
    "\n",
    "#print(trainingFeatures.head())\n",
    "#print(trainingFeatures.dtypes)"
   ]
  },
  {
   "cell_type": "code",
   "execution_count": 3,
   "metadata": {},
   "outputs": [
    {
     "name": "stdout",
     "output_type": "stream",
     "text": [
      "(128, 48)\n"
     ]
    }
   ],
   "source": [
    "tempDF = pd.merge(trainingFeatures, trainingLabels, on='cityId', how='inner')\n",
    "print(tempDF.shape)"
   ]
  },
  {
   "cell_type": "code",
   "execution_count": 4,
   "metadata": {},
   "outputs": [
    {
     "name": "stdout",
     "output_type": "stream",
     "text": [
      "(128, 6)\n",
      "[1 2 0 0 0 2 1 1 2 2 1 0 1 0 0 0 0 1 2 2 2 2 2 2 2 1 1 2 2 0 0 1 0 0 0 0 0\n",
      " 0 0 1 1 1 0 0 0 0 0 2 1 0 2 2 1 2 1 0 0 1 0 0 0 0 1 0 0 0 2 2 2 2 2 1 0 0\n",
      " 1 0 1 0 1 0 2 2 2 2 1 2 1 1 1 0 1 0 1 0 0 2 1 2 2 1 2 1 1 1 0 1 0 1 0 0 2\n",
      " 1 2 2 1 1 2 1 0 0 0 0 0 0 0 0 0 1]\n"
     ]
    }
   ],
   "source": [
    "# Start at 2nd column, i.e. exclude country_code\n",
    "#X = pd.get_dummies(trainingFeatures.iloc[:,2:len(trainingFeatures)])\n",
    "X = pd.get_dummies(trainingFeatures[['PlainsHillsRainforest', 'GrasslandMarsh', 'GrasslandHillsWoods', 'Lux',\n",
    "       'Bonus', 'GrasslandHills']])\n",
    "y = tempDF['cityScore'].values\n",
    "print(X.shape)\n",
    "#print(type(X))\n",
    "print(y)"
   ]
  },
  {
   "cell_type": "code",
   "execution_count": 5,
   "metadata": {},
   "outputs": [],
   "source": [
    "X_train, X_test, y_train, y_test = train_test_split(X, y, random_state=0)"
   ]
  },
  {
   "cell_type": "code",
   "execution_count": 6,
   "metadata": {},
   "outputs": [],
   "source": [
    "clf = tree.DecisionTreeClassifier()\n",
    "#clf.max_depth = 4\n",
    "#clf.min_samples_leaf = 4\n",
    "\n",
    "clf = clf.fit(X_train, y_train)\n",
    "#clf = clf.fit(X, y)"
   ]
  },
  {
   "cell_type": "code",
   "execution_count": null,
   "metadata": {},
   "outputs": [],
   "source": []
  },
  {
   "cell_type": "code",
   "execution_count": 7,
   "metadata": {},
   "outputs": [
    {
     "data": {
      "text/plain": [
       "0.46875"
      ]
     },
     "execution_count": 7,
     "metadata": {},
     "output_type": "execute_result"
    }
   ],
   "source": [
    "# This is basically the \"simplest\" version.\n",
    "y_predict = clf.predict(X_test)\n",
    "metrics.accuracy_score(y_test, y_predict)"
   ]
  },
  {
   "cell_type": "code",
   "execution_count": 8,
   "metadata": {},
   "outputs": [
    {
     "name": "stdout",
     "output_type": "stream",
     "text": [
      "[0.42857143 0.5        0.21428571 0.21428571 0.23076923 0.33333333\n",
      " 0.75       0.58333333 0.75       0.36363636]\n"
     ]
    }
   ],
   "source": [
    "scores = cross_val_score(clf, X, y, cv=10)\n",
    "print(scores)"
   ]
  },
  {
   "cell_type": "code",
   "execution_count": 9,
   "metadata": {},
   "outputs": [
    {
     "name": "stderr",
     "output_type": "stream",
     "text": [
      "C:\\Users\\leon\\Miniconda3\\lib\\site-packages\\sklearn\\model_selection\\_search.py:841: DeprecationWarning: The default of the `iid` parameter will change from True to False in version 0.22 and will be removed in 0.24. This will change numeric results when test-set sizes are unequal.\n",
      "  DeprecationWarning)\n"
     ]
    },
    {
     "data": {
      "text/plain": [
       "GridSearchCV(cv=10, error_score='raise-deprecating',\n",
       "       estimator=DecisionTreeClassifier(class_weight=None, criterion='gini', max_depth=None,\n",
       "            max_features=None, max_leaf_nodes=None,\n",
       "            min_impurity_decrease=0.0, min_impurity_split=None,\n",
       "            min_samples_leaf=1, min_samples_split=2,\n",
       "            min_weight_fraction_leaf=0.0, presort=False, random_state=None,\n",
       "            splitter='best'),\n",
       "       fit_params=None, iid='warn', n_jobs=None,\n",
       "       param_grid={'criterion': ['gini', 'entropy'], 'min_samples_split': [2, 10, 20], 'max_depth': [None, 2, 5, 10], 'min_samples_leaf': [1, 5, 10], 'max_leaf_nodes': [None, 5, 10, 20]},\n",
       "       pre_dispatch='2*n_jobs', refit=True, return_train_score='warn',\n",
       "       scoring=None, verbose=0)"
      ]
     },
     "execution_count": 9,
     "metadata": {},
     "output_type": "execute_result"
    }
   ],
   "source": [
    "param_grid = {\"criterion\": [\"gini\", \"entropy\"],\n",
    "              \"min_samples_split\": [2, 10, 20],\n",
    "              \"max_depth\": [None, 2, 5, 10],\n",
    "              \"min_samples_leaf\": [1, 5, 10],\n",
    "              \"max_leaf_nodes\": [None, 5, 10, 20],\n",
    "              }\n",
    "clf = tree.DecisionTreeClassifier()\n",
    "grid_search = GridSearchCV(clf,param_grid=param_grid, cv=10)\n",
    "grid_search.fit(X, y)"
   ]
  },
  {
   "cell_type": "code",
   "execution_count": 10,
   "metadata": {},
   "outputs": [
    {
     "data": {
      "text/plain": [
       "0.875"
      ]
     },
     "execution_count": 10,
     "metadata": {},
     "output_type": "execute_result"
    }
   ],
   "source": [
    "# We now have optimised version. Unlimited depth and breadth. tests as 100 reliable!?\n",
    "y_predict = grid_search.best_estimator_.predict(X_test)\n",
    "metrics.accuracy_score(y_test, y_predict)\n",
    "#grid_search.best_estimator_\n",
    "#gives...\n",
    "#DecisionTreeClassifier(class_weight=None, criterion='gini', max_depth=None,\n",
    "#            max_features=None, max_leaf_nodes=None,\n",
    "#            min_impurity_decrease=0.0, min_impurity_split=None,\n",
    "#            min_samples_leaf=1, min_samples_split=2,\n",
    "#            min_weight_fraction_leaf=0.0, presort=False, random_state=None,\n",
    "#            splitter='best')"
   ]
  },
  {
   "cell_type": "code",
   "execution_count": 11,
   "metadata": {},
   "outputs": [
    {
     "data": {
      "text/plain": [
       "'Civ6CitySettlementDT_Ver02.pdf'"
      ]
     },
     "execution_count": 11,
     "metadata": {},
     "output_type": "execute_result"
    }
   ],
   "source": [
    "dot_data = tree.export_graphviz(grid_search.best_estimator_, out_file=None, \n",
    "                      feature_names=X.columns.values,  \n",
    "                      class_names=['poor', 'average', 'good'],\n",
    "                      filled=True, rounded=True,  \n",
    "                      special_characters=True)  \n",
    "graph = graphviz.Source(dot_data)  \n",
    "graph.render(\"Civ6CitySettlementDT_Ver02\")"
   ]
  },
  {
   "cell_type": "code",
   "execution_count": 12,
   "metadata": {},
   "outputs": [],
   "source": [
    "viz = dtreeviz(grid_search.best_estimator_,\n",
    "               X_train,\n",
    "               y_train,\n",
    "               target_name = 'city grading',\n",
    "               feature_names=X.columns.values,  \n",
    "               class_names=['poor', 'average', 'good']\n",
    "#               fancy=False\n",
    "              )\n",
    "viz.view()"
   ]
  },
  {
   "cell_type": "markdown",
   "metadata": {},
   "source": [
    "Consider this version 2 of the model.\n",
    "\n",
    "'Civ6CitySettlementDT_Ver02.pdf' and 'Civ6CitySettlementDT_dtree_Ver02.pdf' has the pretty pictures.\n",
    "\n",
    "Next step is to simply inputs based on this Decision Tree!"
   ]
  },
  {
   "cell_type": "code",
   "execution_count": null,
   "metadata": {},
   "outputs": [],
   "source": []
  }
 ],
 "metadata": {
  "kernelspec": {
   "display_name": "Python 3",
   "language": "python",
   "name": "python3"
  },
  "language_info": {
   "codemirror_mode": {
    "name": "ipython",
    "version": 3
   },
   "file_extension": ".py",
   "mimetype": "text/x-python",
   "name": "python",
   "nbconvert_exporter": "python",
   "pygments_lexer": "ipython3",
   "version": "3.7.1"
  }
 },
 "nbformat": 4,
 "nbformat_minor": 2
}
