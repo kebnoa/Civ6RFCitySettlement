{
 "cells": [
  {
   "cell_type": "code",
   "execution_count": 1,
   "metadata": {},
   "outputs": [],
   "source": [
    "import pandas as pd\n",
    "import numpy as np\n",
    "from sklearn.ensemble import ExtraTreesClassifier\n",
    "#from sklearn import tree"
   ]
  },
  {
   "cell_type": "code",
   "execution_count": 2,
   "metadata": {},
   "outputs": [
    {
     "name": "stdout",
     "output_type": "stream",
     "text": [
      "Training features: (128, 36)\n",
      "Training labels: (128, 13)\n",
      "Combined: (128, 48)\n"
     ]
    }
   ],
   "source": [
    "trainingFeaturesFilename = 'ModelInput/features.csv'\n",
    "trainingLabelsFilename = 'ModelInput/labels.csv'\n",
    "\n",
    "trainingFeatures = pd.read_csv(trainingFeaturesFilename)\n",
    "trainingLabels = pd.read_csv(trainingLabelsFilename)\n",
    "\n",
    "# For classification this isn't necessary!\n",
    "#trainingFeatures['cityHasRiver'] = trainingFeatures['cityHasRiver'].astype('category')\n",
    "\n",
    "print(\"Training features: {}\".format(trainingFeatures.shape))\n",
    "print(\"Training labels: {}\".format(trainingLabels.shape))\n",
    "\n",
    "tempDF = pd.merge(trainingFeatures, trainingLabels, on='cityId', how='inner')\n",
    "print(\"Combined: {}\".format(tempDF.shape))"
   ]
  },
  {
   "cell_type": "code",
   "execution_count": 3,
   "metadata": {},
   "outputs": [
    {
     "name": "stdout",
     "output_type": "stream",
     "text": [
      "(128, 34)\n",
      "[1 2 0 0 0 2 1 1 2 2 1 0 1 0 0 0 0 1 2 2 2 2 2 2 2 1 1 2 2 0 0 1 0 0 0 0 0\n",
      " 0 0 1 1 1 0 0 0 0 0 2 1 0 2 2 1 2 1 0 0 1 0 0 0 0 1 0 0 0 2 2 2 2 2 1 0 0\n",
      " 1 0 1 0 1 0 2 2 2 2 1 2 1 1 1 0 1 0 1 0 0 2 1 2 2 1 2 1 1 1 0 1 0 1 0 0 2\n",
      " 1 2 2 1 1 2 1 0 0 0 0 0 0 0 0 0 1]\n"
     ]
    }
   ],
   "source": [
    "# Start at 2nd column, i.e. exclude country_code\n",
    "X = pd.get_dummies(trainingFeatures.iloc[:,2:len(trainingFeatures)])\n",
    "y = tempDF['cityScore'].values\n",
    "print(X.shape)\n",
    "#print(type(X))\n",
    "print(y)"
   ]
  },
  {
   "cell_type": "code",
   "execution_count": 4,
   "metadata": {},
   "outputs": [
    {
     "name": "stderr",
     "output_type": "stream",
     "text": [
      "C:\\Users\\leon\\Miniconda3\\lib\\site-packages\\sklearn\\ensemble\\forest.py:246: FutureWarning: The default value of n_estimators will change from 10 in version 0.20 to 100 in 0.22.\n",
      "  \"10 in version 0.20 to 100 in 0.22.\", FutureWarning)\n"
     ]
    },
    {
     "data": {
      "text/plain": [
       "ExtraTreesClassifier(bootstrap=False, class_weight=None, criterion='gini',\n",
       "           max_depth=None, max_features='auto', max_leaf_nodes=None,\n",
       "           min_impurity_decrease=0.0, min_impurity_split=None,\n",
       "           min_samples_leaf=1, min_samples_split=2,\n",
       "           min_weight_fraction_leaf=0.0, n_estimators=10, n_jobs=None,\n",
       "           oob_score=False, random_state=None, verbose=0, warm_start=False)"
      ]
     },
     "execution_count": 4,
     "metadata": {},
     "output_type": "execute_result"
    }
   ],
   "source": [
    "model = ExtraTreesClassifier()\n",
    "model.fit(X, y)"
   ]
  },
  {
   "cell_type": "code",
   "execution_count": 10,
   "metadata": {},
   "outputs": [
    {
     "name": "stdout",
     "output_type": "stream",
     "text": [
      "           0\n",
      "6   0.056270\n",
      "13  0.055726\n",
      "17  0.055497\n",
      "27  0.053085\n",
      "26  0.051734\n",
      "9   0.049143\n",
      "8   0.043592\n",
      "5   0.043571\n",
      "3   0.043149\n",
      "1   0.041173\n",
      "18  0.038651\n",
      "33  0.038499\n",
      "7   0.036736\n",
      "12  0.035389\n",
      "4   0.033521\n",
      "11  0.031300\n",
      "29  0.030374\n",
      "30  0.029362\n",
      "28  0.027115\n",
      "32  0.025892\n",
      "0   0.024406\n",
      "2   0.022709\n",
      "20  0.022592\n",
      "31  0.021581\n",
      "14  0.017607\n",
      "15  0.017464\n",
      "10  0.016330\n",
      "19  0.011526\n",
      "24  0.008315\n",
      "22  0.006390\n",
      "21  0.004696\n",
      "23  0.004444\n",
      "16  0.002164\n",
      "25  0.000000\n"
     ]
    }
   ],
   "source": [
    "np.set_printoptions(precision=3, suppress=True)\n",
    "#print(model.feature_importances_)\n",
    "df = pd.DataFrame(model.feature_importances_)\n",
    "#print(fit.scores_)\n",
    "print(df.sort_values(by=0, ascending=False))\n"
   ]
  },
  {
   "cell_type": "code",
   "execution_count": 9,
   "metadata": {},
   "outputs": [
    {
     "name": "stdout",
     "output_type": "stream",
     "text": [
      "Index(['PlainsHillsRainforest', 'GrasslandMarsh', 'GrasslandHillsWoods', 'Lux',\n",
      "       'Bonus', 'GrasslandHills'],\n",
      "      dtype='object')\n",
      "<bound method NDFrame.head of      PlainsHillsRainforest  GrasslandMarsh  GrasslandHillsWoods  Lux  Bonus  \\\n",
      "0                        1               0                    0    2      1   \n",
      "1                        0               0                    0    3      2   \n",
      "2                        0               1                    0    1      0   \n",
      "3                        0               0                    0    0      1   \n",
      "4                        0               1                    1    1      1   \n",
      "5                        0               0                    1    0      0   \n",
      "6                        0               0                    0    1      0   \n",
      "7                        2               1                    0    1      2   \n",
      "8                        3               0                    0    1      0   \n",
      "9                        0               0                    0    2      1   \n",
      "10                       0               0                    1    0      1   \n",
      "11                       2               1                    0    2      0   \n",
      "12                       0               3                    0    1      2   \n",
      "13                       0               0                    0    0      2   \n",
      "14                       1               1                    0    0      1   \n",
      "15                       0               0                    0    0      2   \n",
      "16                       0               1                    0    3      1   \n",
      "17                       0               0                    1    4      2   \n",
      "18                       0               0                    0    2      1   \n",
      "19                       0               0                    1    4      4   \n",
      "20                       0               0                    2    2      4   \n",
      "21                       0               0                    0    1      1   \n",
      "22                       0               0                    0    2      0   \n",
      "23                       0               0                    0    1      1   \n",
      "24                       0               1                    1    0      0   \n",
      "25                       0               0                    0    0      1   \n",
      "26                       0               2                    1    1      0   \n",
      "27                       1               0                    0    0      3   \n",
      "28                       1               1                    1    1      2   \n",
      "29                       0               1                    0    1      0   \n",
      "..                     ...             ...                  ...  ...    ...   \n",
      "98                       2               0                    1    3      1   \n",
      "99                       0               0                    0    0      0   \n",
      "100                      0               0                    1    1      0   \n",
      "101                      0               1                    0    1      1   \n",
      "102                      0               0                    0    0      0   \n",
      "103                      0               1                    0    0      0   \n",
      "104                      1               0                    1    0      0   \n",
      "105                      0               0                    0    2      0   \n",
      "106                      0               1                    1    0      2   \n",
      "107                      0               1                    0    0      1   \n",
      "108                      2               0                    0    1      1   \n",
      "109                      0               0                    0    1      4   \n",
      "110                      0               0                    2    0      1   \n",
      "111                      1               3                    1    1      1   \n",
      "112                      3               0                    0    2      1   \n",
      "113                      0               0                    0    1      2   \n",
      "114                      0               0                    0    1      2   \n",
      "115                      2               0                    0    1      0   \n",
      "116                      0               0                    0    1      3   \n",
      "117                      0               0                    0    4      0   \n",
      "118                      0               1                    0    0      0   \n",
      "119                      0               1                    1    1      0   \n",
      "120                      0               1                    1    1      1   \n",
      "121                      0               0                    1    1      0   \n",
      "122                      0               1                    1    0      0   \n",
      "123                      0               0                    0    3      2   \n",
      "124                      0               3                    0    0      0   \n",
      "125                      1               0                    0    2      0   \n",
      "126                      0               0                    0    0      1   \n",
      "127                      4               1                    1    3      1   \n",
      "\n",
      "     GrasslandHills  \n",
      "0                 0  \n",
      "1                 1  \n",
      "2                 2  \n",
      "3                 0  \n",
      "4                 1  \n",
      "5                 2  \n",
      "6                 0  \n",
      "7                 1  \n",
      "8                 1  \n",
      "9                 0  \n",
      "10                1  \n",
      "11                1  \n",
      "12                1  \n",
      "13                0  \n",
      "14                1  \n",
      "15                0  \n",
      "16                1  \n",
      "17                1  \n",
      "18                2  \n",
      "19               11  \n",
      "20                2  \n",
      "21                0  \n",
      "22                1  \n",
      "23                0  \n",
      "24                1  \n",
      "25                1  \n",
      "26                2  \n",
      "27                1  \n",
      "28                0  \n",
      "29                1  \n",
      "..              ...  \n",
      "98                3  \n",
      "99                0  \n",
      "100               3  \n",
      "101               1  \n",
      "102               0  \n",
      "103               0  \n",
      "104              10  \n",
      "105               3  \n",
      "106               1  \n",
      "107               6  \n",
      "108               0  \n",
      "109               7  \n",
      "110               5  \n",
      "111               1  \n",
      "112               0  \n",
      "113               0  \n",
      "114               0  \n",
      "115               2  \n",
      "116               0  \n",
      "117               0  \n",
      "118               0  \n",
      "119               3  \n",
      "120               5  \n",
      "121               6  \n",
      "122               6  \n",
      "123               1  \n",
      "124               2  \n",
      "125               1  \n",
      "126               0  \n",
      "127               0  \n",
      "\n",
      "[128 rows x 6 columns]>\n"
     ]
    }
   ],
   "source": [
    "pos = [6, 13, 17, 27, 26, 9]\n",
    "colname = X.columns[pos]\n",
    "print(colname)\n",
    "tempDf = X[colname]\n",
    "print(tempDf.head)"
   ]
  },
  {
   "cell_type": "code",
   "execution_count": null,
   "metadata": {},
   "outputs": [],
   "source": []
  }
 ],
 "metadata": {
  "kernelspec": {
   "display_name": "Python 3",
   "language": "python",
   "name": "python3"
  },
  "language_info": {
   "codemirror_mode": {
    "name": "ipython",
    "version": 3
   },
   "file_extension": ".py",
   "mimetype": "text/x-python",
   "name": "python",
   "nbconvert_exporter": "python",
   "pygments_lexer": "ipython3",
   "version": "3.7.1"
  }
 },
 "nbformat": 4,
 "nbformat_minor": 2
}
