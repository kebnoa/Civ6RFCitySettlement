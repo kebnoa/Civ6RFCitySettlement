{
 "cells": [
  {
   "cell_type": "code",
   "execution_count": 15,
   "metadata": {},
   "outputs": [],
   "source": [
    "import json\n",
    "import sqlite3\n",
    "import pandas as pd\n"
   ]
  },
  {
   "cell_type": "code",
   "execution_count": 16,
   "metadata": {},
   "outputs": [],
   "source": [
    "jsonData = open('RawData/20181120_01.json').read()"
   ]
  },
  {
   "cell_type": "code",
   "execution_count": 17,
   "metadata": {},
   "outputs": [],
   "source": [
    "rawData = json.loads(jsonData)"
   ]
  },
  {
   "cell_type": "code",
   "execution_count": 18,
   "metadata": {},
   "outputs": [
    {
     "name": "stdout",
     "output_type": "stream",
     "text": [
      "1\n",
      "1\n"
     ]
    }
   ],
   "source": [
    "leaders = {'Gilgamesh':1, 'Montezuma':2 , 'Bandar Brunei':3, 'Babylon':4, 'Hong Kong':5 }\n",
    "print(leaders['Gilgamesh'])\n",
    "cities = {'Uruk':1, 'Tenochtitlan':2, 'Bandar Brunei':3, 'Babylon':4, 'Hong Kong':5 }\n",
    "print(cities['Uruk'])"
   ]
  },
  {
   "cell_type": "code",
   "execution_count": 60,
   "metadata": {},
   "outputs": [
    {
     "name": "stdout",
     "output_type": "stream",
     "text": [
      "<sqlite3.Connection object at 0x0000017E202AC490>\n",
      "<sqlite3.Cursor object at 0x0000017E2028EF10>\n"
     ]
    }
   ],
   "source": [
    "cnx = sqlite3.connect('Database/Civ6CitySettledData.db')\n",
    "cur = cnx.cursor()\n",
    "print(cnx)\n",
    "print(cur)\n",
    "\n",
    "# Played with sqlalchemy, but not particularly useful when using sqlite\n",
    "#engine = create_engine('sqlite:///Database/Civ6CitySettledData.db')"
   ]
  },
  {
   "cell_type": "code",
   "execution_count": 61,
   "metadata": {},
   "outputs": [
    {
     "name": "stdout",
     "output_type": "stream",
     "text": [
      "   cityId           name  settledBy  onTurn\n",
      "0       1           Uruk          1       1\n",
      "1       2   Tenochtitlan          2       1\n",
      "2       3  Bandar Brunei          3       1\n",
      "3       4        Babylon          4       1\n",
      "4       5      Hong Kong          5       1\n",
      "   leaderId           name            civ isMajor\n",
      "0         1      Gilgamesh        Sumeria    True\n",
      "1         2      Montezuma          Aztec    True\n",
      "2         3  Bandar Brunei  Bandar Brunei   False\n",
      "3         4        Babylon        Babylon   False\n",
      "4         5      Hong Kong      Hong Kong   False\n"
     ]
    }
   ],
   "source": [
    "sqlSelect = 'SELECT * FROM citySettled'\n",
    "citiesDf = pd.read_sql_query(sqlSelect, cnx)\n",
    "print(citiesDf)\n",
    "\n",
    "sqlSelect = 'SELECT * FROM leader'\n",
    "leadersDf = pd.read_sql_query(sqlSelect, cnx)\n",
    "print(leadersDf)\n"
   ]
  },
  {
   "cell_type": "code",
   "execution_count": 42,
   "metadata": {},
   "outputs": [
    {
     "name": "stdout",
     "output_type": "stream",
     "text": [
      "<class 'pandas.core.frame.DataFrame'> \n",
      "    cityId     name  settledBy  onTurn\n",
      "3       4  Babylon          4       1\n",
      "\n",
      " <class 'pandas.core.series.Series'> \n",
      " cityId             4\n",
      "name         Babylon\n",
      "settledBy          4\n",
      "onTurn             1\n",
      "Name: 3, dtype: object\n",
      "\n",
      " <class 'int'> \n",
      " 4\n"
     ]
    }
   ],
   "source": [
    "# progressively narrow down\n",
    "x = citiesDf[citiesDf.name == 'Babylon']\n",
    "print(type(x),\"\\n\", x)\n",
    "x = x.iloc[0]\n",
    "print(\"\\n\", type(x),\"\\n\", x)\n",
    "x = int(x.cityId)\n",
    "print(\"\\n\", type(x),\"\\n\", x)"
   ]
  },
  {
   "cell_type": "code",
   "execution_count": 62,
   "metadata": {},
   "outputs": [],
   "source": [
    "def getCityId(cityName):\n",
    "    try:\n",
    "        # The iloc is neccessary as we can't assume there is only one return value!?\n",
    "        # also have to make sure it is int as numpy.int64 doesn't go into sqlite so well?\n",
    "        return int(citiesDf[citiesDf.name == cityName].iloc[0].cityId)\n",
    "    except IndexError:\n",
    "        return None\n",
    "    \n",
    "def getLeaderId(ownerName, ownerCiv):\n",
    "    try:\n",
    "        # The iloc is necessary as we can't assume there is only one return value!?\n",
    "        # also have to make sure it is int as numpy.int64 doesn't go into sqlite so well?\n",
    "        return int(leadersDf[leadersDf.name == ownerName].iloc[0].leaderId)\n",
    "    except IndexError:\n",
    "        return None"
   ]
  },
  {
   "cell_type": "code",
   "execution_count": 45,
   "metadata": {},
   "outputs": [],
   "source": [
    "# building up the cityPlotsSettled data for entry...\n",
    "result = [] #{}\n",
    "#i = 0\n",
    "for city in rawData['cityOnSettledLog']:\n",
    "    cityPlotInfo = city['cityPlotInfo']\n",
    "    plotInfo = {\n",
    "        'plotId': None,\n",
    "        'ownerCityId': getCityId(cityPlotInfo['ownerCity']),\n",
    "        'ring': 0,\n",
    "        'idx': cityPlotInfo['index'],\n",
    "        'terrain': cityPlotInfo['terrain'],\n",
    "        'feature': cityPlotInfo['feature'],\n",
    "        'resource': cityPlotInfo['resource'],\n",
    "        'resourceCount': cityPlotInfo['resourceCount'],\n",
    "        'resourceType': cityPlotInfo['resourceType'],\n",
    "        'workers': cityPlotInfo['workers'],\n",
    "        'district': cityPlotInfo['district'],\n",
    "        'hasRiver': cityPlotInfo['hasRiver'],\n",
    "        'isWater': cityPlotInfo['isWater'],\n",
    "        'isLake': cityPlotInfo['isLake'],\n",
    "        'isCity': cityPlotInfo['isCity'],\n",
    "    }\n",
    " #   result[i] = plotInfo\n",
    " #   i = i + 1\n",
    "    result.append(plotInfo)\n",
    "    for plot in city['ring1PlotInfo']:\n",
    "        plotInfo = {\n",
    "            'plotId': None,\n",
    "            'ownerCityId': getCityId(plot['ownerCity']),\n",
    "            'ring': 1,\n",
    "            'idx': plot['index'],\n",
    "            'terrain': plot['terrain'],\n",
    "            'feature': plot['feature'],\n",
    "            'resource': plot['resource'],\n",
    "            'resourceCount': plot['resourceCount'],\n",
    "            'resourceType': plot['resourceType'],\n",
    "            'workers': plot['workers'],\n",
    "            'district': plot['district'],\n",
    "            'hasRiver': plot['hasRiver'],\n",
    "            'isWater': plot['isWater'],\n",
    "            'isLake': plot['isLake'],\n",
    "            'isCity': plot['isCity'],\n",
    "        }\n",
    "        #result[i] = plotInfo\n",
    "        #i = i + 1\n",
    "        result.append(plotInfo)\n",
    "    for plot in city['ring2PlotInfo']:\n",
    "        plotInfo = {\n",
    "            'plotId': None,\n",
    "            'ownerCityId': getCityId(plot['ownerCity']),\n",
    "            'ring': 2,\n",
    "            'idx': plot['index'],\n",
    "            'terrain': plot['terrain'],\n",
    "            'feature': plot['feature'],\n",
    "            'resource': plot['resource'],\n",
    "            'resourceCount': plot['resourceCount'],\n",
    "            'resourceType': plot['resourceType'],\n",
    "            'workers': plot['workers'],\n",
    "            'district': plot['district'],\n",
    "            'hasRiver': plot['hasRiver'],\n",
    "            'isWater': plot['isWater'],\n",
    "            'isLake': plot['isLake'],\n",
    "            'isCity': plot['isCity'],\n",
    "        }\n",
    "        #result[i] = plotInfo\n",
    "        #i = i + 1\n",
    "        result.append(plotInfo)\n"
   ]
  },
  {
   "cell_type": "code",
   "execution_count": 46,
   "metadata": {},
   "outputs": [
    {
     "name": "stdout",
     "output_type": "stream",
     "text": [
      "{'plotId': None, 'ownerCityId': 1, 'ring': 0, 'idx': 760, 'terrain': 'Plains (Hills)', 'feature': 'None', 'resource': 'None', 'resourceCount': 0, 'resourceType': 'None', 'workers': 1, 'district': 'City Center', 'hasRiver': True, 'isWater': False, 'isLake': False, 'isCity': True}\n",
      "{'plotId': None, 'ownerCityId': 1, 'ring': 1, 'idx': 805, 'terrain': 'Plains (Mountain)', 'feature': 'None', 'resource': 'None', 'resourceCount': 0, 'resourceType': 'None', 'workers': 0, 'district': 'None', 'hasRiver': False, 'isWater': False, 'isLake': False, 'isCity': False}\n",
      "{'plotId': None, 'ownerCityId': 1, 'ring': 1, 'idx': 761, 'terrain': 'Plains (Hills)', 'feature': 'None', 'resource': 'Sheep', 'resourceCount': 1, 'resourceType': 'Bonus', 'workers': 0, 'district': 'None', 'hasRiver': False, 'isWater': False, 'isLake': False, 'isCity': False}\n"
     ]
    }
   ],
   "source": [
    "print(result[0])\n",
    "print(result[1])\n",
    "print(result[2])"
   ]
  },
  {
   "cell_type": "code",
   "execution_count": 32,
   "metadata": {},
   "outputs": [
    {
     "name": "stdout",
     "output_type": "stream",
     "text": [
      "(95, 15)\n",
      "district            City Center\n",
      "feature                    None\n",
      "hasRiver                   True\n",
      "idx                         760\n",
      "isCity                     True\n",
      "isLake                    False\n",
      "isWater                   False\n",
      "ownerCityId                   1\n",
      "plotId                     None\n",
      "resource                   None\n",
      "resourceCount                 0\n",
      "resourceType               None\n",
      "ring                          0\n",
      "terrain          Plains (Hills)\n",
      "workers                       1\n",
      "Name: 0, dtype: object\n",
      "{'district': 'City Center', 'feature': 'None', 'hasRiver': True, 'idx': 760, 'isCity': True, 'isLake': False, 'isWater': False, 'ownerCityId': 1.0, 'plotId': None, 'resource': 'None', 'resourceCount': 0, 'resourceType': 'None', 'ring': 0, 'terrain': 'Plains (Hills)', 'workers': 1}\n"
     ]
    }
   ],
   "source": [
    "df = pd.DataFrame(result)\n",
    "print(df.shape)\n",
    "print(df.iloc[0])\n",
    "print(df.iloc[0].to_dict())"
   ]
  },
  {
   "cell_type": "code",
   "execution_count": 48,
   "metadata": {},
   "outputs": [],
   "source": [
    "for res in result:\n",
    "    cur.execute('INSERT INTO cityPlotsSettled VALUES(:plotId, :ownerCityId, :ring, :idx,:terrain, :feature, :resource, :resourceCount, :resourceType, :workers, :district, :hasRiver, :isWater, :isLake, :isCity )',\n",
    "               res)\n"
   ]
  },
  {
   "cell_type": "code",
   "execution_count": 49,
   "metadata": {},
   "outputs": [],
   "source": [
    "cnx.commit()\n",
    "#for row in rawData['gameConfig'][0]['players']:\n",
    "#    print(row['playerName'], row['playerCiv'])"
   ]
  },
  {
   "cell_type": "code",
   "execution_count": 67,
   "metadata": {},
   "outputs": [],
   "source": [
    "cnx.close()"
   ]
  },
  {
   "cell_type": "code",
   "execution_count": 63,
   "metadata": {},
   "outputs": [
    {
     "name": "stdout",
     "output_type": "stream",
     "text": [
      "{'cityId': 1, 'turn': 1, 'ownerId': 1, 'foodPerTurn': '4.00', 'foodToolTip': '+4 from Worked Tiles', 'productionPerTurn': '6.30', 'productionToolTip': '+4 from Worked Tiles[NEWLINE]+2 from Buildings[NEWLINE]   +2 from Palace[NEWLINE]+5pct (+0.2) from Amenities', 'goldPerTurn': '5.25', 'goldToolTip': '+5 from Buildings[NEWLINE]   +5 from Palace[NEWLINE]+5pct (+0.2) from Amenities', 'sciencePerTurn': '2.63', 'scienceToolTip': '+2 from Buildings[NEWLINE]   +2 from Palace[NEWLINE]+0.5 from Population[NEWLINE]+5pct (+0.1) from Amenities', 'culturePerTurn': '1.36', 'cultureToolTip': '+1 from Buildings[NEWLINE]   +1 from Palace[NEWLINE]+0.2 from Population[NEWLINE]+5pct (+0) from Amenities', 'faithPerTurn': '0.00', 'faithToolTip': '+5pct (+0) from Amenities', 'population': 1, 'housing': 6, 'amenities': 1, 'amenitiesNeeded': 0, 'happiness': 'Happy'}\n",
      "{'cityId': 2, 'turn': 1, 'ownerId': 2, 'foodPerTurn': '4.00', 'foodToolTip': '+4 from Worked Tiles', 'productionPerTurn': '5.00', 'productionToolTip': '+2 from Worked Tiles[NEWLINE]+2 from Buildings[NEWLINE]   +2 from Palace[NEWLINE]+20pct (+0.7) from Modifiers[NEWLINE]+5pct (+0.1) from Amenities', 'goldPerTurn': '10.00', 'goldToolTip': '+3 from Worked Tiles[NEWLINE]+5 from Buildings[NEWLINE]   +5 from Palace[NEWLINE]+20pct (+1.5) from Modifiers[NEWLINE]+5pct (+0.3) from Amenities', 'sciencePerTurn': '2.82', 'scienceToolTip': '+2 from Buildings[NEWLINE]   +2 from Palace[NEWLINE]+0.5 from Population[NEWLINE]+8pct (+0.1) from Modifiers[NEWLINE]+5pct (+0.1) from Amenities', 'culturePerTurn': '1.46', 'cultureToolTip': '+1 from Buildings[NEWLINE]   +1 from Palace[NEWLINE]+0.2 from Population[NEWLINE]+8pct (+0.1) from Modifiers[NEWLINE]+5pct (+0) from Amenities', 'faithPerTurn': '0.00', 'faithToolTip': '+8pct (+0) from Modifiers[NEWLINE]+5pct (+0) from Amenities', 'population': 1, 'housing': 6, 'amenities': 1, 'amenitiesNeeded': 0, 'happiness': 'Happy'}\n",
      "{'cityId': 3, 'turn': 1, 'ownerId': 3, 'foodPerTurn': '4.00', 'foodToolTip': '+4 from Worked Tiles', 'productionPerTurn': '2.75', 'productionToolTip': '+3 from Worked Tiles[NEWLINE]+2 from Buildings[NEWLINE]   +2 from Palace[NEWLINE]-50pct (-2.5) from Modifiers[NEWLINE]+5pct (+0.2) from Amenities', 'goldPerTurn': '5.25', 'goldToolTip': '+5 from Buildings[NEWLINE]   +5 from Palace[NEWLINE]+5pct (+0.2) from Amenities', 'sciencePerTurn': '2.63', 'scienceToolTip': '+2 from Buildings[NEWLINE]   +2 from Palace[NEWLINE]+0.5 from Population[NEWLINE]+5pct (+0.1) from Amenities', 'culturePerTurn': '1.36', 'cultureToolTip': '+1 from Buildings[NEWLINE]   +1 from Palace[NEWLINE]+0.2 from Population[NEWLINE]+5pct (+0) from Amenities', 'faithPerTurn': '0.00', 'faithToolTip': '+5pct (+0) from Amenities', 'population': 1, 'housing': 6, 'amenities': 1, 'amenitiesNeeded': 0, 'happiness': 'Happy'}\n"
     ]
    }
   ],
   "source": [
    "# building up the cityPerTurnLog data for entry...\n",
    "result = []\n",
    "for cityPerTurnEntry in rawData['cityPerTurnLog']:\n",
    "    turn = int(cityPerTurnEntry['atEndTurn'])\n",
    "    for cityEntry in cityPerTurnEntry['cityLog']:\n",
    "        turnInfo = {\n",
    "            'cityId': getCityId(cityEntry['cityName']),\n",
    "            'turn': turn,\n",
    "            'ownerId': getLeaderId(cityEntry['ownerName'], 'Blah'),\n",
    "            'foodPerTurn': cityEntry['foodPerTurn'],\n",
    "            'foodToolTip': cityEntry['foodToolTip'],\n",
    "            'productionPerTurn': cityEntry['productionPerTurn'],\n",
    "            'productionToolTip': cityEntry['productionToolTip'],\n",
    "            'goldPerTurn': cityEntry['goldPerTurn'],\n",
    "            'goldToolTip': cityEntry['goldToolTip'],\n",
    "            'sciencePerTurn': cityEntry['sciencePerTurn'],\n",
    "            'scienceToolTip': cityEntry['scienceToolTip'],\n",
    "            'culturePerTurn': cityEntry['culturePerTurn'],\n",
    "            'cultureToolTip': cityEntry['cultureToolTip'],\n",
    "            'faithPerTurn': cityEntry['faithPerTurn'],\n",
    "            'faithToolTip': cityEntry['faithToolTip'],\n",
    "            'population': cityEntry['population'],\n",
    "            'housing': cityEntry['housing'],\n",
    "            'amenities': cityEntry['amenities'],\n",
    "            'amenitiesNeeded': cityEntry['amenitiesNeeded'],\n",
    "            'happiness': cityEntry['happiness'],\n",
    "        }\n",
    "        result.append(turnInfo)\n",
    "\n",
    "print(result[0])\n",
    "print(result[1])\n",
    "print(result[2])"
   ]
  },
  {
   "cell_type": "code",
   "execution_count": 64,
   "metadata": {},
   "outputs": [],
   "source": [
    "for res in result:\n",
    "    cur.execute('INSERT INTO cityPerTurnLog VALUES(:cityId, :turn, :ownerId, :foodPerTurn, :foodToolTip, :productionPerTurn, :productionToolTip, :goldPerTurn, :goldToolTip, :sciencePerTurn, :scienceToolTip, :culturePerTurn, :cultureToolTip, :faithPerTurn, :faithToolTip, :population, :housing, :amenities, :amenitiesNeeded, :happiness)',\n",
    "        res)\n"
   ]
  },
  {
   "cell_type": "code",
   "execution_count": 65,
   "metadata": {},
   "outputs": [],
   "source": [
    "cnx.commit()"
   ]
  },
  {
   "cell_type": "code",
   "execution_count": null,
   "metadata": {},
   "outputs": [],
   "source": []
  }
 ],
 "metadata": {
  "kernelspec": {
   "display_name": "Python 3",
   "language": "python",
   "name": "python3"
  },
  "language_info": {
   "codemirror_mode": {
    "name": "ipython",
    "version": 3
   },
   "file_extension": ".py",
   "mimetype": "text/x-python",
   "name": "python",
   "nbconvert_exporter": "python",
   "pygments_lexer": "ipython3",
   "version": "3.7.0"
  }
 },
 "nbformat": 4,
 "nbformat_minor": 2
}
