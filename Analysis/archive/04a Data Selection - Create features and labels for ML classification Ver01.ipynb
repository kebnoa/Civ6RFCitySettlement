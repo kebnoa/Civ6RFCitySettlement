{
 "cells": [
  {
   "cell_type": "markdown",
   "metadata": {},
   "source": [
    "# Create the input features and output lables for the Machine Learning classification training\n",
    "\n",
    "## Overall goal:\n",
    "This project is an attempt to classify a Civ 6 starting city location based solely on the tile/plot information available when settling.\n",
    "\n",
    "This workbook is where we start selecting the data we are going to use to train the classifier.\n",
    "\n",
    "## Labels:\n",
    "This is the values we wish to predict. This version of the model to determine a \"good\" city is based on the various cumulative yields it produces during the 50 turns following the city being settled, graded into 5 quantiles scored 0 through 4 for each yield. These scores are then added together and graded into 5 quantiles scored 0 through 4 to give the city \"goodness\"\n",
    "\n",
    "That is, all the food the city produces is summed. Then graded against which quantile it falls against ALL the cities. This process is repeated for production, gold, science, and culture to get 5 different scores for the city in question. these 5 scores are then summed to give a potential maximum score of 20 and a potential minimum of 0.\n",
    "\n",
    "We will use the totalScore (0, 1, 2, 3, 4) as the value we wish to predict as part of the classification\n",
    "\n",
    "## Features:\n",
    "This is the values we have in order to make the classification. This version of the model uses a combined terrain, feature, and resource key, determined by looking at all the known plots in the database, to determine the plot frequency percentage.\n",
    "\n",
    "That is, the plots in the first 2 rings of the city centre (19 in total) are classified as belonging to one of the keys, summed and then divided by 19 to get the percentage of tile in the city that are for example \"Plains (Hills) with Woods and luxury resource. Hint, this is pretty rare occurance from the data I've gathered.\n",
    "\n",
    "Likewise the percentage of tiles with a river is calculcated and a binary yes/no whether the city has a river.\n",
    "\n",
    "## Observations:\n",
    "The following questions and assumptions still need to be reviewed and reflected on to improve the model.\n",
    "\n",
    "### What is a \"good\" city?\n",
    "There are many other factors that could determine a good city, especially later in the game when you have options to utilise tile better. Assuming that we are literally only interested in the first 50-55 turns of the games focussing on the lifetime yield seems acceptable.\n",
    "\n",
    "### Which tiles should be used as input?\n",
    "With the exception of Peter (Russia) most cities cap out (in 50 turns) at the city centre, the first ring, and 2-3 tiles of the second ring. That is between 8-9 tiles. Also, usually the population can't utilise all these tiles in any case. There is also the possibility of buying tiles. In the end I decided to use all the tiles in the first 2 rings\n",
    "\n",
    "### How do you summarise to input to manageable levels without losing to much accuracy?\n",
    "When I started this I thought to break the inputs down per tile, that is have input collumns for the each tile with features, resources, bonuses, next to a river, has a worker etc ... this very quickly leads to an input feature explosion. E.g. assume 19 tiles, 15+ terrains, 7+ features, 44+ resources, has/hasn't river already gives >175k input columns. Assuming you need 20 samples per feature for any semblance of accurcy I'd need to have >3.5 million city records.\n",
    "\n",
    "The terrain, feature, resource key percentage reduces the input requirement to around 70 which is manageable. I only have around 10-20% samples of what is recommended, but lets see where this gets us.\n",
    "\n",
    "### What else should be used to answer the question?\n",
    "This complexity becomes unmanageable pretty quickly if you try to include, for example build order in the city. Likewise district placement considerations."
   ]
  },
  {
   "cell_type": "code",
   "execution_count": 1,
   "metadata": {},
   "outputs": [],
   "source": [
    "import sqlite3\n",
    "import pandas as pd"
   ]
  },
  {
   "cell_type": "code",
   "execution_count": 2,
   "metadata": {},
   "outputs": [
    {
     "name": "stdout",
     "output_type": "stream",
     "text": [
      "<sqlite3.Connection object at 0x0000014C4C383E30>\n",
      "<sqlite3.Cursor object at 0x0000014C4E45E5E0>\n"
     ]
    }
   ],
   "source": [
    "cnx = sqlite3.connect('Database/Civ6CitySettledData.db')\n",
    "cur = cnx.cursor()\n",
    "print(cnx)\n",
    "print(cur)"
   ]
  },
  {
   "cell_type": "markdown",
   "metadata": {},
   "source": [
    "## Labels:"
   ]
  },
  {
   "cell_type": "markdown",
   "metadata": {},
   "source": [
    "Use the specifically created database view to retrieve the per turn data collected. This view also aligns timelines, that is, takes care of cities settled in turn 2, or even turn 3. I was surprised to learn the AI actually moves settlers before settling."
   ]
  },
  {
   "cell_type": "code",
   "execution_count": 3,
   "metadata": {},
   "outputs": [
    {
     "name": "stdout",
     "output_type": "stream",
     "text": [
      "(11650, 29)\n"
     ]
    }
   ],
   "source": [
    "sqlSelect = 'SELECT * FROM cityPerTurnView WHERE turns >= 1 and turns <= 50'\n",
    "cityPt = pd.read_sql_query(sqlSelect, cnx)\n",
    "print(cityPt.shape)"
   ]
  },
  {
   "cell_type": "markdown",
   "metadata": {},
   "source": [
    "I have excluded Faith as it was simply too variable to use. Also, it doesn't appear to be a core yield in general, although it is situationally very useful."
   ]
  },
  {
   "cell_type": "code",
   "execution_count": 4,
   "metadata": {},
   "outputs": [
    {
     "name": "stdout",
     "output_type": "stream",
     "text": [
      "     cityId  foodScore  cityTotal  cultureScore  goldScore  productionScore  \\\n",
      "0         1          0          1             0          0                1   \n",
      "1         2          0          2             0          1                1   \n",
      "2         3          0          0             0          0                0   \n",
      "3         4          0          0             0          0                0   \n",
      "4         5          0          0             0          0                0   \n",
      "5         6          1          2             0          0                0   \n",
      "6         7          0          1             0          1                0   \n",
      "7         8          0          2             0          1                0   \n",
      "8         9          0          0             0          0                0   \n",
      "9        10          1          2             1          0                0   \n",
      "10       11          0          0             0          0                0   \n",
      "11       12          0          0             0          0                0   \n",
      "12       13          1          1             0          0                0   \n",
      "13       14          0          0             0          0                0   \n",
      "14       15          0          0             0          0                0   \n",
      "15       16          0          0             0          0                0   \n",
      "16       17          0          1             1          0                0   \n",
      "17       18          0          1             0          1                0   \n",
      "18       19          0          3             1          1                0   \n",
      "19       20          0          2             0          1                0   \n",
      "20       21          0          4             1          1                1   \n",
      "21       22          1          3             0          0                1   \n",
      "22       23          0          3             1          1                0   \n",
      "23       24          0          2             0          1                1   \n",
      "24       25          0          2             1          1                0   \n",
      "25       26          0          0             0          0                0   \n",
      "26       27          1          2             0          0                0   \n",
      "27       28          1          3             0          0                1   \n",
      "28       29          0          3             1          1                1   \n",
      "29       30          0          0             0          0                0   \n",
      "..      ...        ...        ...           ...        ...              ...   \n",
      "203     204          1          4             1          1                0   \n",
      "204     205          0          4             1          1                1   \n",
      "205     206          1          3             0          0                1   \n",
      "206     207          0          2             0          1                1   \n",
      "207     208          0          3             1          0                1   \n",
      "208     209          0          3             1          1                1   \n",
      "209     210          0          0             0          0                0   \n",
      "210     211          0          0             0          0                0   \n",
      "211     212          0          0             0          0                0   \n",
      "212     213          1          1             0          0                0   \n",
      "213     214          0          1             0          1                0   \n",
      "214     215          0          0             0          0                0   \n",
      "215     216          1          2             1          0                0   \n",
      "216     217          0          0             0          0                0   \n",
      "217     218          0          0             0          0                0   \n",
      "218     219          1          2             0          0                1   \n",
      "219     220          0          4             1          1                1   \n",
      "220     221          0          2             0          1                1   \n",
      "221     222          0          0             0          0                0   \n",
      "222     223          0          0             0          0                0   \n",
      "223     224          0          0             0          0                0   \n",
      "224     225          0          0             0          0                0   \n",
      "225     226          0          0             0          0                0   \n",
      "226     227          1          1             0          0                0   \n",
      "227     228          1          1             0          0                0   \n",
      "228     229          0          0             0          0                0   \n",
      "229     230          0          0             0          0                0   \n",
      "230     231          1          1             0          0                0   \n",
      "231     232          1          4             0          1                1   \n",
      "232     233          0          2             0          1                0   \n",
      "\n",
      "     goldTotal  foodTotal  scienceScore  productionTotal  cityScore  \\\n",
      "0       289.80      268.0             0           492.45          0   \n",
      "1       660.70      321.0             0           490.85          0   \n",
      "2       251.50      469.0             0           159.15          0   \n",
      "3       262.50      195.0             0           157.30          0   \n",
      "4       250.00      500.0             0           105.40          0   \n",
      "5       305.00      529.0             1           480.50          0   \n",
      "6       452.30      442.0             0           422.60          0   \n",
      "7       406.05      362.0             1           473.90          0   \n",
      "8       338.00      454.0             0           253.40          0   \n",
      "9       275.52      576.0             0           174.40          0   \n",
      "10      252.50      443.0             0           214.40          0   \n",
      "11      250.95      494.0             0           144.25          0   \n",
      "12      278.55      567.0             0            83.85          0   \n",
      "13      257.50      330.0             0           158.65          0   \n",
      "14      253.75      404.0             0           201.65          0   \n",
      "15      264.13      458.0             0           176.40          0   \n",
      "16      268.80      295.0             0           149.05          0   \n",
      "17      450.35      376.0             0           321.80          0   \n",
      "18      533.90      501.0             1           411.80          1   \n",
      "19      386.55      492.0             1           446.20          0   \n",
      "20      395.95      259.0             1           542.40          1   \n",
      "21      301.75      529.0             1           492.20          1   \n",
      "22      687.80      454.0             1           486.10          1   \n",
      "23      731.20      270.0             0           576.60          0   \n",
      "24      687.05      474.0             0           429.60          0   \n",
      "25      309.70      457.0             0           449.35          0   \n",
      "26      307.00      599.0             1           376.95          0   \n",
      "27      298.75      621.0             1           506.65          1   \n",
      "28      556.25      461.0             0           532.50          1   \n",
      "29      259.25      355.0             0           145.75          0   \n",
      "..         ...        ...           ...              ...        ...   \n",
      "203     552.25      585.0             1           489.85          1   \n",
      "204     376.70      477.0             1           545.15          1   \n",
      "205     295.25      804.0             1           619.15          1   \n",
      "206     463.95      430.0             0           600.90          0   \n",
      "207     311.25      264.0             1           499.10          1   \n",
      "208     360.80      486.0             0           491.50          1   \n",
      "209     251.25      466.0             0           123.00          0   \n",
      "210     296.25      284.0             0           121.40          0   \n",
      "211     280.95      388.0             0           171.95          0   \n",
      "212     246.75      594.0             0            88.35          0   \n",
      "213     460.42      346.0             0           201.30          0   \n",
      "214     254.50      392.0             0           145.65          0   \n",
      "215     287.65      603.0             0           271.10          0   \n",
      "216     272.13      510.0             0            90.50          0   \n",
      "217     254.50      386.0             0           110.60          0   \n",
      "218     299.50      560.0             0           525.75          0   \n",
      "219     497.80      452.0             1           580.60          1   \n",
      "220     442.50      293.0             0           572.80          0   \n",
      "221     257.25      316.0             0           183.45          0   \n",
      "222     301.00      474.0             0           227.35          0   \n",
      "223     290.85      200.0             0           178.20          0   \n",
      "224     258.00      278.0             0           177.50          0   \n",
      "225     254.50      424.0             0           121.15          0   \n",
      "226     249.25      531.0             0           176.80          0   \n",
      "227     248.50      521.0             0           164.45          0   \n",
      "228     262.50      190.0             0           180.95          0   \n",
      "229     318.50      401.0             0            77.70          0   \n",
      "230     313.80      534.0             0           477.55          0   \n",
      "231     629.10      774.0             1           604.95          1   \n",
      "232     462.00      227.0             1           455.65          0   \n",
      "\n",
      "     scienceTotal  cultureTotal  \n",
      "0          182.68        101.97  \n",
      "1          196.94        164.75  \n",
      "2          180.63        153.38  \n",
      "3          150.22        140.42  \n",
      "4          185.06        141.82  \n",
      "5          203.92        111.22  \n",
      "6          195.30        141.93  \n",
      "7          212.50         99.73  \n",
      "8          202.13        169.84  \n",
      "9          196.41        211.89  \n",
      "10         177.01        161.56  \n",
      "11         185.06        129.82  \n",
      "12         191.77        105.20  \n",
      "13         166.56        143.70  \n",
      "14         175.61        157.16  \n",
      "15         179.14        156.28  \n",
      "16         161.72        197.58  \n",
      "17         173.07        146.45  \n",
      "18         277.52        172.93  \n",
      "19         239.71        153.09  \n",
      "20         256.87        297.01  \n",
      "21         220.09        111.83  \n",
      "22         237.02        172.15  \n",
      "23         189.44        159.33  \n",
      "24         193.26        214.68  \n",
      "25         188.96        170.97  \n",
      "26         214.55        114.12  \n",
      "27         206.16        112.87  \n",
      "28         195.93        178.30  \n",
      "29         164.97        144.92  \n",
      "..            ...           ...  \n",
      "203        209.54        237.07  \n",
      "204        299.53        215.41  \n",
      "205        346.27        123.30  \n",
      "206        190.37        102.84  \n",
      "207        204.13        222.46  \n",
      "208        185.51        273.59  \n",
      "209        178.41        143.96  \n",
      "210        175.21        140.88  \n",
      "211        172.76        154.56  \n",
      "212        193.65        106.32  \n",
      "213        169.53        160.43  \n",
      "214        168.06        144.60  \n",
      "215        193.41        172.12  \n",
      "216        189.75        103.90  \n",
      "217        167.56        132.30  \n",
      "218        199.01        108.51  \n",
      "219        319.62        195.63  \n",
      "220        199.07        164.00  \n",
      "221        163.21        152.68  \n",
      "222        179.38        166.94  \n",
      "223        156.52        142.52  \n",
      "224        156.52        148.88  \n",
      "225        171.56        144.70  \n",
      "226        185.90        162.06  \n",
      "227        188.81        159.64  \n",
      "228        150.22        142.52  \n",
      "229        175.06         94.80  \n",
      "230        188.51        151.08  \n",
      "231        225.65        148.97  \n",
      "232        222.83        153.19  \n",
      "\n",
      "[233 rows x 13 columns]\n"
     ]
    }
   ],
   "source": [
    "yields = ['food', 'production', 'gold', 'science', 'culture']\n",
    "#yields = ['food']\n",
    "cityIds = list(cityPt['cityId'].unique())\n",
    "labelsDf = pd.DataFrame(columns={'foodTotal', 'foodScore', 'productionTotal', 'productionScore',\n",
    "                                 'goldTotal', 'goldScore', 'scienceTotal', 'scienceScore',\n",
    "                                 'cultureTotal', 'cultureScore', 'cityTotal', 'cityScore'},\n",
    "                        index=cityIds)\n",
    "labelsDf.reset_index(level=0,inplace=True)\n",
    "labelsDf.rename(columns={'index':'cityId'}, inplace=True)\n",
    "labelsDf.sort_values(by='cityId', inplace=True)\n",
    "labelsDf.index = pd.RangeIndex(len(labelsDf.index))\n",
    "labelsDf.fillna(0, inplace=True)\n",
    "\n",
    "#quantiles = [0, .5, .75, .9, 1]\n",
    "# Make it \"binary\", work on predicting \"good cities\"\n",
    "quantiles = [0, .75, 1]\n",
    "\n",
    "for yld in yields:\n",
    "    columnName = \"{}PerTurn\".format(yld)\n",
    "    cumulativeDf = cityPt[['cityId', 'turns', columnName]].pivot(index='turns',\n",
    "                                                                 columns='cityId',\n",
    "                                                                 values=columnName).cumsum()\n",
    "    t50 = cumulativeDf.loc[50].to_frame()\n",
    "    t50.reset_index(level=0, inplace=True)\n",
    "    t50.rename(columns={50:\"{}Total\".format(yld)}, inplace=True)\n",
    "    # join here via boolean map as using cityID, not index - see df.update below\n",
    "    labelsDf.loc[labelsDf.cityId.isin(t50.cityId), \"{}Total\".format(yld)] = t50[\"{}Total\".format(yld)]\n",
    "    \n",
    "    quantilesDf = pd.qcut(labelsDf[\"{}Total\".format(yld)], quantiles, labels=False).to_frame()\n",
    "    quantilesDf.rename(columns={\"{}Total\".format(yld):\"{}Score\".format(yld)}, inplace=True)\n",
    "    # update works cause we have index alignment\n",
    "    labelsDf.update(quantilesDf)\n",
    "    labelsDf['cityTotal'] = labelsDf['cityTotal'] + labelsDf[\"{}Score\".format(yld)]\n",
    "\n",
    "quantilesDf = pd.qcut(labelsDf['cityTotal'], quantiles, labels=False).to_frame()\n",
    "quantilesDf.rename(columns={'cityTotal':'cityScore'}, inplace=True)\n",
    "# update works cause we have index alignment\n",
    "labelsDf.update(quantilesDf)\n",
    "\n",
    "print(labelsDf)"
   ]
  },
  {
   "cell_type": "code",
   "execution_count": 5,
   "metadata": {},
   "outputs": [],
   "source": [
    "labelsDf.to_csv('ModelInput/labels.csv', encoding='utf-8', index=False)"
   ]
  },
  {
   "cell_type": "markdown",
   "metadata": {},
   "source": [
    "## Features:"
   ]
  },
  {
   "cell_type": "markdown",
   "metadata": {},
   "source": [
    "Use the cityPlotsSettled data collected to prepare the features we intend using as input into the model. The category key idea is explained in the introduction.\n",
    "\n",
    "We also need to add the percentage of tiles that has a river, as well as the cityHasRiver input."
   ]
  },
  {
   "cell_type": "code",
   "execution_count": 12,
   "metadata": {},
   "outputs": [
    {
     "name": "stdout",
     "output_type": "stream",
     "text": [
      "(1711, 15)\n"
     ]
    }
   ],
   "source": [
    "#sqlSelect = 'SELECT * FROM cityPlotsSettled'\n",
    "sqlSelect = 'SELECT * FROM cityPlotsSettled WHERE ownerCityId <> \"None\"'\n",
    "cityPs = pd.read_sql_query(sqlSelect, cnx)\n",
    "print(cityPs.shape)\n",
    "#print(cityPs.dtypes)"
   ]
  },
  {
   "cell_type": "code",
   "execution_count": 13,
   "metadata": {},
   "outputs": [
    {
     "name": "stdout",
     "output_type": "stream",
     "text": [
      "(0, 64)\n"
     ]
    }
   ],
   "source": [
    "# Create category key for plot by combining terrain, feature, and resource into one\n",
    "cityPs['category'] = cityPs['terrain'] + cityPs['feature'] + cityPs['resource']\n",
    "# Remove None, whitespace, and brackets\n",
    "cityPs['category'] = cityPs['category'].apply(lambda s: s.replace('None', '').replace(' ', '').replace('(','').replace(')', ''))\n",
    "# Remove all \"hidden\" strategic resources\n",
    "cityPs['category'] = cityPs['category'].apply(lambda s: s.replace('Uranium', '').replace('Oil', '').replace('Niter', ''))\n",
    "cityPs['category'] = cityPs['category'].apply(lambda s: s.replace('Aluminum', '').replace('Coal', '').replace('Iron', ''))\n",
    "# Consolidate luxury resources\n",
    "cityPs['category'] = cityPs['category'].apply(lambda s: s.replace('Dyes', 'Lux').replace('Silver', 'Lux').replace('Diamonds', 'Lux'))\n",
    "cityPs['category'] = cityPs['category'].apply(lambda s: s.replace('Tea', 'Lux').replace('Salt', 'Lux').replace('Olives', 'Lux'))\n",
    "cityPs['category'] = cityPs['category'].apply(lambda s: s.replace('Ivory', 'Lux').replace('Sugar', 'Lux').replace('Coffee', 'Lux'))\n",
    "cityPs['category'] = cityPs['category'].apply(lambda s: s.replace('Cotton', 'Lux').replace('Furs', 'Lux').replace('Whales', 'Lux'))\n",
    "cityPs['category'] = cityPs['category'].apply(lambda s: s.replace('Marble', 'Lux').replace('Jade', 'Lux').replace('Turtles', 'Lux'))\n",
    "cityPs['category'] = cityPs['category'].apply(lambda s: s.replace('Gypsum', 'Lux').replace('Mercury', 'Lux').replace('Tobacco', 'Lux'))\n",
    "cityPs['category'] = cityPs['category'].apply(lambda s: s.replace('Wine', 'Lux').replace('Truffles', 'Lux').replace('Incense', 'Lux'))\n",
    "cityPs['category'] = cityPs['category'].apply(lambda s: s.replace('Silk', 'Lux').replace('Citrus', 'Lux').replace('Spices', 'Lux'))\n",
    "cityPs['category'] = cityPs['category'].apply(lambda s: s.replace('Cocoa', 'Lux').replace('Pearls', 'Lux'))\n",
    "# Consolidate bonus resources\n",
    "cityPs['category'] = cityPs['category'].apply(lambda s: s.replace('Sheep', 'Bonus').replace('Bananas', 'Bonus'))\n",
    "cityPs['category'] = cityPs['category'].apply(lambda s: s.replace('Fish', 'Bonus').replace('Deer', 'Bonus'))\n",
    "cityPs['category'] = cityPs['category'].apply(lambda s: s.replace('Crabs', 'Bonus').replace('Copper', 'Bonus'))\n",
    "# Still have 67 different \"categories\" here!?\n",
    "\n",
    "#print(cityPs[['plotId','category']].groupby('category').count().sort_values(by='category', ascending=True).count())\n",
    "#print(cityPs[['plotId','category']].groupby('category').count().sort_values(by='plotId', ascending=False))\n",
    "\n",
    "cols = ['cityId'] + list(cityPs['category'].unique())\n",
    "featuresDf = pd.DataFrame(columns = cols)\n",
    "print(featuresDf.shape)\n",
    "#print(featuresDf.head)"
   ]
  },
  {
   "cell_type": "code",
   "execution_count": 14,
   "metadata": {},
   "outputs": [],
   "source": [
    "# category percentages\n",
    "for cityId in cityPs['recordedCityId'].unique():\n",
    "    plotsDf = cityPs[cityPs['recordedCityId'] == cityId]\n",
    "    # convert to percentage of tiles, and round to 2dp ... (There are 19 per city!)\n",
    "    \n",
    "    # DONT, lets see how it works if we don't do percentage!?\n",
    "    #categoryPercentageSeries = round((plotsDf.groupby(['category'])['plotId'].count() / .19), 2)\n",
    "    categoryPercentageSeries = plotsDf.groupby(['category'])['plotId'].count()\n",
    "                                \n",
    "    featuresDf.loc[cityId, 'cityId'] = cityId\n",
    "    for cat, val in categoryPercentageSeries.iteritems():\n",
    "        featuresDf.loc[cityId, cat] = val\n",
    "featuresDf.fillna(0, inplace=True)"
   ]
  },
  {
   "cell_type": "code",
   "execution_count": 15,
   "metadata": {},
   "outputs": [],
   "source": [
    "# hasRiver percentage and cityHasRiver calculation...\n",
    "for cityId in cityPs['recordedCityId'].unique():\n",
    "    plotsDf = cityPs[cityPs['recordedCityId'] == cityId]\n",
    "    \n",
    "    # AND here, don't percentage it!\n",
    "    #featuresDf.loc[cityId, 'hasRiver'] = round((plotsDf[plotsDf['hasRiver'] == True].plotId.count() / .19), 2)\n",
    "#    featuresDf.loc[cityId, 'hasRiver'] = plotsDf[plotsDf['hasRiver'] == True].plotId.count()\n",
    "    featuresDf.loc[cityId, 'cityHasRiver'] = plotsDf[plotsDf['isCity'] == True].iloc[0,:].hasRiver"
   ]
  },
  {
   "cell_type": "code",
   "execution_count": 16,
   "metadata": {
    "scrolled": false
   },
   "outputs": [
    {
     "name": "stdout",
     "output_type": "stream",
     "text": [
      "   cityId  PlainsHills  PlainsMountain  PlainsHillsBonus  PlainsRainforest  \\\n",
      "1       1            1               1                 1                 1   \n",
      "2       2            0               0                 0                 1   \n",
      "3       3            0               0                 0                 0   \n",
      "4       4            1               0                 0                 0   \n",
      "5       5            0               0                 0                 0   \n",
      "\n",
      "   Plains  PlainsHillsWoodsLux  DesertHills  PlainsRainforestBonus  \\\n",
      "1       2                    1            0                      0   \n",
      "2       0                    0            1                      1   \n",
      "3       3                    0            0                      0   \n",
      "4       3                    0            0                      0   \n",
      "5       0                    0            0                      0   \n",
      "\n",
      "   CoastandLake      ...       TundraHillsWoods  CoastandLakeReef  TundraLux  \\\n",
      "1             0      ...                      0                 0          0   \n",
      "2             1      ...                      0                 0          0   \n",
      "3             0      ...                      0                 0          0   \n",
      "4             3      ...                      0                 0          0   \n",
      "5             0      ...                      0                 0          0   \n",
      "\n",
      "   TundraMountain  GrasslandHillsWoodsBonus  TundraBonus  CoastandLakeAmber  \\\n",
      "1               0                         0            0                  0   \n",
      "2               0                         0            0                  0   \n",
      "3               0                         0            0                  0   \n",
      "4               0                         0            0                  0   \n",
      "5               0                         0            0                  0   \n",
      "\n",
      "   CoastandLakeReefBonus  PlainsHillsRainforestLux  cityHasRiver  \n",
      "1                      0                         0           1.0  \n",
      "2                      0                         0           1.0  \n",
      "3                      0                         0           1.0  \n",
      "4                      0                         0           0.0  \n",
      "5                      0                         0           1.0  \n",
      "\n",
      "[5 rows x 65 columns]\n"
     ]
    }
   ],
   "source": [
    "print(featuresDf.head())"
   ]
  },
  {
   "cell_type": "code",
   "execution_count": 17,
   "metadata": {
    "scrolled": true
   },
   "outputs": [],
   "source": [
    "featuresDf.to_csv('ModelInput/features.csv', encoding='utf-8', index=False)"
   ]
  },
  {
   "cell_type": "code",
   "execution_count": null,
   "metadata": {},
   "outputs": [],
   "source": []
  }
 ],
 "metadata": {
  "kernelspec": {
   "display_name": "Python 3",
   "language": "python",
   "name": "python3"
  },
  "language_info": {
   "codemirror_mode": {
    "name": "ipython",
    "version": 3
   },
   "file_extension": ".py",
   "mimetype": "text/x-python",
   "name": "python",
   "nbconvert_exporter": "python",
   "pygments_lexer": "ipython3",
   "version": "3.6.7"
  }
 },
 "nbformat": 4,
 "nbformat_minor": 2
}
